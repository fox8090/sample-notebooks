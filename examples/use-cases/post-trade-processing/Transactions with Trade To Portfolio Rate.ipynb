{
 "cells": [
  {
   "cell_type": "markdown",
   "metadata": {
    "pycharm": {
     "name": "#%% md\n"
    }
   },
   "source": [
    "# Trade To Portfolio Rate (TTPR) Demo"
   ]
  },
  {
   "cell_type": "markdown",
   "metadata": {},
   "source": [
    "*** DISCLAIMER ***\n",
    "\n",
    "In order to run this notebook, code in sections 1.1 and 7. needs to be uncommented.\n",
    "However this will have system wide implications for booking transactions (beyond the scope of this notebook)."
   ]
  },
  {
   "cell_type": "markdown",
   "metadata": {},
   "source": [
    "This notebook demonstrates how LUSID can resolve the Trade To Portfolio Rate for transactions booked with different currencies to the base portfolio currency.\n",
    "\n",
    "In this example, 5 transactions in 5 different currencies are booked to a GBP portfolio and the associated TTPRs returned."
   ]
  },
  {
   "cell_type": "markdown",
   "metadata": {},
   "source": [
    "## 1. Setup LUSID"
   ]
  },
  {
   "cell_type": "code",
   "execution_count": 1,
   "metadata": {},
   "outputs": [
    {
     "name": "stdout",
     "output_type": "stream",
     "text": [
      "Requirement already satisfied: lusid-configuration-sdk-preview in /opt/conda/lib/python3.9/site-packages (0.1.291)\n",
      "Requirement already satisfied: finbourne-sdk-utilities in /opt/conda/lib/python3.9/site-packages (0.0.8)\n",
      "Requirement already satisfied: requests>=2.21.0 in /opt/conda/lib/python3.9/site-packages (from lusid-configuration-sdk-preview) (2.26.0)\n",
      "Requirement already satisfied: urllib3>=1.15.1 in /opt/conda/lib/python3.9/site-packages (from lusid-configuration-sdk-preview) (1.26.9)\n",
      "Requirement already satisfied: python-dateutil>=2.5.3 in /opt/conda/lib/python3.9/site-packages (from lusid-configuration-sdk-preview) (2.8.2)\n",
      "Requirement already satisfied: certifi>=14.05.14 in /opt/conda/lib/python3.9/site-packages (from lusid-configuration-sdk-preview) (2022.6.15)\n",
      "Requirement already satisfied: six>=1.10 in /opt/conda/lib/python3.9/site-packages (from lusid-configuration-sdk-preview) (1.16.0)\n",
      "Requirement already satisfied: idna<4,>=2.5 in /opt/conda/lib/python3.9/site-packages (from requests>=2.21.0->lusid-configuration-sdk-preview) (3.1)\n",
      "Requirement already satisfied: charset-normalizer~=2.0.0 in /opt/conda/lib/python3.9/site-packages (from requests>=2.21.0->lusid-configuration-sdk-preview) (2.0.0)\n"
     ]
    }
   ],
   "source": [
    "!pip install lusid-configuration-sdk-preview finbourne-sdk-utilities"
   ]
  },
  {
   "cell_type": "code",
   "execution_count": 2,
   "metadata": {},
   "outputs": [
    {
     "name": "stderr",
     "output_type": "stream",
     "text": [
      "/opt/conda/lib/python3.9/site-packages/requests/__init__.py:89: RequestsDependencyWarning: urllib3 (1.26.9) or chardet (3.0.4) doesn't match a supported version!\n",
      "  warnings.warn(\"urllib3 ({}) or chardet ({}) doesn't match a supported \"\n"
     ]
    }
   ],
   "source": [
    "# Import lusid specific packages\n",
    "# These are the core lusid packages for interacting with the API via Python\n",
    "import lusid\n",
    "import lusid.models as models\n",
    "from lusid.utilities import ApiClientFactory\n",
    "import lusid_configuration\n",
    "from lusid_configuration import ConfigurationSetsApi\n",
    "from lusid_configuration import models as config_models\n",
    "from fbnsdkutilities import ApiClientFactory as ConfigApiClientFactory\n",
    "\n",
    "from lusidjam.refreshing_token import RefreshingToken\n",
    "from lusidtools.pandas_utils.lusid_pandas import lusid_response_to_data_frame\n",
    "\n",
    "import os\n",
    "import pandas as pd\n",
    "import json\n",
    "import pytz\n",
    "from datetime import datetime\n",
    "\n",
    "pd.set_option(\"display.max_columns\", None)\n",
    "\n",
    "# Authenticate our user and create our API client\n",
    "secrets_path = os.getenv(\"FBN_SECRETS_PATH\")\n",
    "\n",
    "# Initiate an API Factory which is the client side object for interacting with LUSID APIs\n",
    "lusid_api_factory = lusid.utilities.ApiClientFactory(\n",
    "    token=RefreshingToken(),\n",
    "    api_secrets_filename=secrets_path,\n",
    "    app_name=\"LusidJupyterNotebook\",\n",
    ")\n",
    "\n",
    "api_client = lusid_api_factory.api_client\n",
    "\n",
    "lusid_api_url = api_client.configuration.host\n",
    "configuration_api_url = lusid_api_url[: lusid_api_url.rfind(\"/\") + 1] + \"configuration\"\n",
    "\n",
    "config_api_factory = ConfigApiClientFactory(\n",
    "    lusid_configuration,\n",
    "    token=api_client.configuration.access_token,\n",
    "    api_url=configuration_api_url,\n",
    "    app_name=\"LusidJupyterNotebook\",\n",
    ")"
   ]
  },
  {
   "cell_type": "code",
   "execution_count": 3,
   "metadata": {},
   "outputs": [],
   "source": [
    "# Define the apis\n",
    "quotes_api = lusid_api_factory.build(lusid.QuotesApi)\n",
    "configuration_recipe_api = lusid_api_factory.build(lusid.api.ConfigurationRecipeApi)\n",
    "instruments_api = lusid_api_factory.build(lusid.InstrumentsApi)\n",
    "transaction_portfolios_api = lusid_api_factory.build(lusid.TransactionPortfoliosApi)\n",
    "sets_api = config_api_factory.build(lusid_configuration.api.ConfigurationSetsApi)"
   ]
  },
  {
   "cell_type": "markdown",
   "metadata": {},
   "source": [
    "## 1.1  Set Up Configuration Store\n",
    "\n",
    "Set the \"SetTradeTopPortfolioRate\" item to True to enable the calculation of the trade to portfolio rate in valuations.\n",
    "(This will need to be uncommented)\n",
    "\n",
    "Also, set the scope and code of the \"TradeToPortfolioRateRecipe\" item (RecipeScope/RecipeCode)"
   ]
  },
  {
   "cell_type": "code",
   "execution_count": 4,
   "metadata": {},
   "outputs": [],
   "source": [
    "# config_ttpr_response = sets_api.update_configuration_item(\n",
    "#     type=\"Shared\",\n",
    "#     scope=\"system\",\n",
    "#     code=\"TransactionBooking\",\n",
    "#     key=\"SetTradeToPortfolioRate\",\n",
    "#     update_configuration_item = config_models.UpdateConfigurationItem(value=\"True\")\n",
    "# )\n",
    "\n",
    "config_ttpr_recipe_response = sets_api.update_configuration_item(\n",
    "    type=\"Shared\",\n",
    "    scope=\"system\",\n",
    "    code=\"TransactionBooking\",\n",
    "    key=\"TradeToPortfolioRateRecipe\",\n",
    "    update_configuration_item = config_models.UpdateConfigurationItem(value=\"IBOR/StandardMarketValue\")\n",
    ")"
   ]
  },
  {
   "cell_type": "code",
   "execution_count": 5,
   "metadata": {},
   "outputs": [],
   "source": [
    "# Define variables\n",
    "valuation_date = datetime(year=2022, month=3, day=8, tzinfo=pytz.UTC)\n",
    "settlement_date = datetime(year=2022, month=3, day=12, tzinfo=pytz.UTC)\n",
    "scope = \"TTPR_NB\"\n",
    "portfolio_code = \"TTPR_NB\""
   ]
  },
  {
   "cell_type": "markdown",
   "metadata": {},
   "source": [
    "## 2. Create Portfolio\n",
    "\n",
    "Create a new portfolio with base currency GBP."
   ]
  },
  {
   "cell_type": "code",
   "execution_count": 6,
   "metadata": {},
   "outputs": [
    {
     "name": "stdout",
     "output_type": "stream",
     "text": [
      "Could not create a portfolio with id 'TTPR_NB' because it already exists in scope 'TTPR_NB'.\n"
     ]
    }
   ],
   "source": [
    "try: \n",
    "    transaction_portfolios_api.create_portfolio(\n",
    "        scope=scope,\n",
    "        create_transaction_portfolio_request=models.CreateTransactionPortfolioRequest(\n",
    "            display_name=\"TTPR_NB\",\n",
    "            code=portfolio_code,\n",
    "            created=\"2020-01-01T00:00:00+00:00\",\n",
    "            base_currency=\"GBP\"\n",
    "        )\n",
    "    )\n",
    "    \n",
    "except lusid.ApiException as e:\n",
    "    print(json.loads(e.body)[\"title\"])"
   ]
  },
  {
   "cell_type": "markdown",
   "metadata": {},
   "source": [
    "## 3. Load Instruments\n",
    "\n",
    "Load 5 instruments into the portfolio."
   ]
  },
  {
   "cell_type": "code",
   "execution_count": 7,
   "metadata": {},
   "outputs": [],
   "source": [
    "# Define 5 example instruments\n",
    "for i in range(1, 6):\n",
    "    instrument_body = models.InstrumentDefinition(\n",
    "        name=f\"instrument_{i}\",\n",
    "        identifiers={\"ClientInternal\": models.InstrumentIdValue(value=f\"client_internal_{i}\")}\n",
    "    )\n",
    "    \n",
    "    reponse = instruments_api.upsert_instruments(\n",
    "        request_body={\n",
    "            \"request_id_1\": instrument_body\n",
    "        }\n",
    "    )"
   ]
  },
  {
   "cell_type": "markdown",
   "metadata": {},
   "source": [
    "## 4. Load Quotes"
   ]
  },
  {
   "cell_type": "markdown",
   "metadata": {},
   "source": [
    "### 4.1 FX Rate Quotes\n",
    "\n",
    "Load 5 different FX rate quotes for the 5 different currency transactions booked into this portfolio (see below)."
   ]
  },
  {
   "cell_type": "code",
   "execution_count": 8,
   "metadata": {},
   "outputs": [],
   "source": [
    "# FX rate quote upsertion function\n",
    "def spot_request(from_ccy, to_ccy, rate, valuation_date):\n",
    "            return models.UpsertQuoteRequest(\n",
    "                       quote_id=models.QuoteId(\n",
    "                           models.QuoteSeriesId(\n",
    "                               provider='Lusid',\n",
    "                               instrument_id=f'{from_ccy}/{to_ccy}',\n",
    "                               instrument_id_type='CurrencyPair',\n",
    "                               quote_type='Rate',\n",
    "                               field='mid'\n",
    "                           ),\n",
    "                           effective_at=valuation_date\n",
    "                       ),\n",
    "                       metric_value=models.MetricValue(\n",
    "                           value=rate,\n",
    "                           unit=f'{from_ccy}/{to_ccy}'\n",
    "                       ),\n",
    "                       lineage='None'\n",
    "            )"
   ]
  },
  {
   "cell_type": "code",
   "execution_count": 9,
   "metadata": {},
   "outputs": [],
   "source": [
    "fx_rates = [[\"USD\", 1.3106], [\"AUD\", 1.7909], [\"JPY\", 151.14], [\"EUR\", 1.2073], [\"CAD\", 1.6803]]\n",
    "\n",
    "for rate in fx_rates:\n",
    "    response = quotes_api.upsert_quotes(scope=scope,\n",
    "                                   request_body={\"1\": spot_request(\"GBP\", rate[0], rate[1], valuation_date)})"
   ]
  },
  {
   "cell_type": "markdown",
   "metadata": {},
   "source": [
    "## 5. Define Default Recipe"
   ]
  },
  {
   "cell_type": "markdown",
   "metadata": {},
   "source": [
    "Define the default valuation recipe to be linked to the trade to portfolio rate configuration in the configuration store."
   ]
  },
  {
   "cell_type": "code",
   "execution_count": 10,
   "metadata": {},
   "outputs": [],
   "source": [
    "# Create recipes\n",
    "recipe_scope=\"IBOR\"\n",
    "recipe_code=\"StandardMarketValue\"\n",
    "\n",
    "\n",
    "# Create a recipe to perform a valuation\n",
    "configuration_recipe = models.ConfigurationRecipe(\n",
    "    scope=recipe_scope,\n",
    "    code=recipe_code,\n",
    "    market=models.MarketContext(\n",
    "        market_rules=[\n",
    "            # define how to resolve the quotes\n",
    "            models.MarketDataKeyRule(\n",
    "                key='Fx.CurrencyPair.*',\n",
    "                data_scope=scope,\n",
    "                supplier='Lusid',\n",
    "                quote_type='Rate',\n",
    "                quote_interval='1D.0D',\n",
    "                field=\"mid\"\n",
    "            )\n",
    "        ],\n",
    "        options=models.MarketOptions(\n",
    "            default_supplier=\"Lusid\",\n",
    "            default_instrument_code_type=\"ClientInternal\",\n",
    "            default_scope='Lusid',\n",
    "            # This enables FX rate inference\n",
    "            attempt_to_infer_missing_fx=True,\n",
    "\n",
    "        ),\n",
    "    ),\n",
    "    pricing=models.PricingContext(\n",
    "        options={\"AllowPartiallySuccessfulEvaluation\": True},\n",
    "    ),\n",
    ")\n",
    "\n",
    "upsert_configuration_recipe_response = configuration_recipe_api.upsert_configuration_recipe(\n",
    "    upsert_recipe_request=models.UpsertRecipeRequest(\n",
    "        configuration_recipe=configuration_recipe\n",
    "    )\n",
    ")"
   ]
  },
  {
   "cell_type": "markdown",
   "metadata": {},
   "source": [
    "## 6. Load Transactions\n",
    "\n",
    "Load 5 transactions into LUSID in 5 different currencies."
   ]
  },
  {
   "cell_type": "code",
   "execution_count": 11,
   "metadata": {},
   "outputs": [],
   "source": [
    "# Upsert example transaction data for 5 instruments\n",
    "cost = [15.25, 25.70, 57.34, 100.99, 23.19]\n",
    "currency = [\"USD\", \"AUD\", \"JPY\", \"EUR\", \"CAD\"]\n",
    "\n",
    "for i in range(1,6):\n",
    "    transaction_portfolios_api.upsert_transactions(\n",
    "        scope=scope,\n",
    "        code=portfolio_code,\n",
    "        transaction_request=[models.TransactionRequest(\n",
    "            transaction_id=f\"transaction_id_{i}\",\n",
    "            type=\"Buy\",\n",
    "            instrument_identifiers={\n",
    "                \"instrument/default/ClientInternal\" : f\"client_internal_{i}\"\n",
    "            },\n",
    "            transaction_date=valuation_date,\n",
    "            settlement_date=settlement_date,\n",
    "            units=100,\n",
    "            total_consideration = models.CurrencyAndAmount(\n",
    "                amount=cost[i-1],\n",
    "                currency=currency[i-1],\n",
    "            )\n",
    "        )]\n",
    "    )"
   ]
  },
  {
   "cell_type": "markdown",
   "metadata": {},
   "source": [
    "## 7. Get Transactions\n",
    "\n",
    "Get the transactions data including the trade to portfolio rates calculated in LUSID from the upserted fx rate quotes.\n",
    "\n",
    "(Un-comment the below once the Trade To Portfolio Rate option has been set to true in the configuration store.)"
   ]
  },
  {
   "cell_type": "code",
   "execution_count": 12,
   "metadata": {},
   "outputs": [],
   "source": [
    "# get_holdings_reponse = transaction_portfolios_api.get_holdings(\n",
    "#     scope = scope,\n",
    "#     code = portfolio_code,\n",
    "#     effective_at = valuation_date\n",
    "# )\n",
    "\n",
    "# get_transactions_reponse = transaction_portfolios_api.get_transactions(\n",
    "#     scope = scope,\n",
    "#     code = portfolio_code,\n",
    "# )\n",
    "\n",
    "# holdings_df_all = lusid_response_to_data_frame(get_holdings_reponse)\n",
    "# transactions_df_all = lusid_response_to_data_frame(get_transactions_reponse)\n",
    "# combined_df_all = transactions_df_all.merge(holdings_df_all, on='instrument_uid', how='left')\n",
    "\n",
    "# # Column selection\n",
    "# transactions_df = combined_df_all[[\n",
    "#     \"transaction_id\", \n",
    "#     \"type\", \n",
    "#     \"instrument_identifiers.Instrument/default/ClientInternal\",\n",
    "#     \"instrument_uid\",\n",
    "#     \"transaction_currency\",\n",
    "#     \"cost_portfolio_ccy.currency\",\n",
    "#     \"properties.Transaction/default/TradeToPortfolioRate.value.metric_value.value\"\n",
    "# ]]\n",
    "\n",
    "# # Column renaming\n",
    "# transactions_df = transactions_df.rename(\n",
    "#     columns={\n",
    "#         \"transaction_id\" : \"transactionId\", \n",
    "#         \"instrument_identifiers.Instrument/default/ClientInternal\" : \"ClientInternal\",\n",
    "#         \"instrument_uid\" : \"LUID\",\n",
    "#         \"transaction_currency\" : \"TradeCurrency\",\n",
    "#         \"cost_portfolio_ccy.currency\" : \"PortfolioCurrency\",\n",
    "#         \"properties.Transaction/default/TradeToPortfolioRate.value.metric_value.value\" : \"TTPR\"\n",
    "#     }\n",
    "# )\n",
    "\n",
    "# transactions_df"
   ]
  }
 ],
 "metadata": {
  "kernelspec": {
   "display_name": "Python 3 (ipykernel)",
   "language": "python",
   "name": "python3"
  },
  "language_info": {
   "codemirror_mode": {
    "name": "ipython",
    "version": 3
   },
   "file_extension": ".py",
   "mimetype": "text/x-python",
   "name": "python",
   "nbconvert_exporter": "python",
   "pygments_lexer": "ipython3",
   "version": "3.9.7"
  }
 },
 "nbformat": 4,
 "nbformat_minor": 2
}
