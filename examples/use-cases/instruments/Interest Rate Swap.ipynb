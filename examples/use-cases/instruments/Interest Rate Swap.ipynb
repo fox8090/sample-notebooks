{
 "cells": [
  {
   "cell_type": "code",
   "execution_count": 3,
   "metadata": {},
   "outputs": [
    {
     "data": {
      "text/plain": "<IPython.core.display.HTML object>",
      "text/html": "\n    <form action=\"javascript:code_toggle()\"><input type=\"submit\" id=\"toggleButton\" value=\"Hide docstring\"></form>\n    \n         <script>\n         function code_toggle() {\n             if ($('div.cell.code_cell.rendered.selected div.input').css('display')!='none'){\n                 $('div.cell.code_cell.rendered.selected div.input').hide();\n             } else {\n                 $('div.cell.code_cell.rendered.selected div.input').show();\n             }\n         }\n         </script>\n\n     "
     },
     "metadata": {},
     "output_type": "display_data"
    }
   ],
   "source": [
    "from lusidtools.jupyter_tools import toggle_code\n",
    "\n",
    "\"\"\"Interest Rate Swap Valuation\n",
    "\n",
    "Demonstrates pricing of an Interes Rate Swap based on a user defined Instrument.\n",
    "\n",
    "Attributes\n",
    "----------\n",
    "instruments\n",
    "aggregation\n",
    "market data store\n",
    "results store\n",
    "quotes\n",
    "\"\"\"\n",
    "\n",
    "toggle_code(\"Hide docstring\")"
   ]
  },
  {
   "cell_type": "markdown",
   "metadata": {},
   "source": [
    "## Interest Rate Swap Valuation \n",
    "\n",
    "This notebook illustrates construction of an _Interest Rate Swap_ and how its underlying defintions can be setup using the LUSID API, as well as how valuations and aggregations can be run using different endpoints. For valuations, we will be looking to use the 'Discounting' model, which uses a set of user-defined curves to discount each cash flow.\n",
    "\n",
    "The example instrument we will be constructing is a vanilla interest rate swap with the following parameters:\n",
    "\n",
    "    -  Coupon Rate: 1%\n",
    "    -  Start Date: 01/10/2019\n",
    "    -  Maturity: 10Y\n",
    "    -  Currency: EUR\n",
    "    -  Payment Frequency: 6M\n",
    "    -  Index: Euribor 6M\n",
    "    -  Side: Receive Float\n",
    "\n",
    "### Table of contents\n",
    "- 1. [Setup LUSID and required API objects](#1.-Setup-LUSID-and-required-API-objects)\n",
    "    * [1.2 Interest Rate Swap Definition](#1.1-Interest-Rate-Swap-Definition)\n",
    "    * [1.2 Curve and Market Data](#1.2-Curve-and-Market-Data)\n",
    "    * [1.3 Setup Portfolio](#1.3-Setup-Portfolio)\n",
    "    * [1.4 Add Transactions](#1.4-Add-Transactions)\n",
    "- 2. [Valuation](#2.-Valuation)\n",
    "    * [2.1 Configure the valuation recipe](#2.1-Configure-the-valuation-recipe)\n",
    "    * [2.2 Aggregation](#2.2-Aggregation)\n",
    "- 3. [Historical Cash Flows](#3.-Historical-Cash-Flows)\n",
    "    * [3.1 Update Fixings for Historical Resets](#3.1-Update-Fixings-for-Historical-Resets)\n",
    "    * [3.2 Create Transactions with Properties](#3.2-Create-Transactions-with-Properties)\n",
    "    * [3.3 Aggregate Cash Flows](#3.3-Aggregate-Cash-Flows)"
   ]
  },
  {
   "cell_type": "markdown",
   "metadata": {},
   "source": [
    "## 1. Setup LUSID and required API objects"
   ]
  },
  {
   "cell_type": "code",
   "execution_count": 4,
   "metadata": {},
   "outputs": [
    {
     "name": "stdout",
     "output_type": "stream",
     "text": [
      "LUSID Environment Initialised\n",
      "LUSID SDK Version:  0.6.9166.0\n"
     ]
    }
   ],
   "source": [
    "# Import LUSID\n",
    "import lusid\n",
    "import lusid.models as models\n",
    "from lusidtools.cocoon.cocoon import load_from_data_frame\n",
    "from lusidtools.cocoon.seed_sample_data import seed_data\n",
    "from lusidtools.cocoon.cocoon_printer import (\n",
    "    format_instruments_response,\n",
    "    format_portfolios_response,\n",
    "    format_transactions_response,\n",
    "    format_quotes_response,\n",
    ")\n",
    "from lusidtools.pandas_utils.lusid_pandas import lusid_response_to_data_frame\n",
    "\n",
    "# Import Libraries\n",
    "from datetime import datetime, timedelta, time\n",
    "from IPython.display import display_html\n",
    "import pytz\n",
    "import pandas as pd\n",
    "import matplotlib.pyplot as plt\n",
    "import uuid\n",
    "from lusidjam.refreshing_token import RefreshingToken\n",
    "import math\n",
    "import json\n",
    "import os\n",
    "\n",
    "# Authenticate our user and create our API client\n",
    "secrets_path = \"FBN_SECRETS_PATH\"\n",
    "\n",
    "api_factory = lusid.utilities.ApiClientFactory(\n",
    "        token=RefreshingToken(),\n",
    "        api_secrets_filename = secrets_path,\n",
    "        app_name=\"LusidJupyterNotebook\")\n",
    "\n",
    "print ('LUSID Environment Initialised')\n",
    "print ('LUSID SDK Version: ', api_factory.build(lusid.api.ApplicationMetadataApi).get_lusid_versions().build_version)\n",
    "\n",
    "# Setup the apis we'll use in this notebook:\n",
    "instruments_api = api_factory.build(lusid.api.InstrumentsApi)\n",
    "aggregation_api = api_factory.build(lusid.AggregationApi)\n",
    "quotes_api = api_factory.build(lusid.api.QuotesApi)\n",
    "transaction_portfolios_api = api_factory.build(lusid.api.TransactionPortfoliosApi)\n",
    "property_definitions_api = api_factory.build(lusid.api.PropertyDefinitionsApi)"
   ]
  },
  {
   "cell_type": "code",
   "execution_count": 5,
   "metadata": {},
   "outputs": [],
   "source": [
    "# Settings and utility functions to display objects and responses more clearly.\n",
    "pd.set_option('float_format', '{:,.2f}'.format)\n",
    "\n",
    "def aggregation_result_to_dataframe(aggregation_results):\n",
    "    return pd.DataFrame(aggregation_results, columns = ['Name', 'Effective At', 'Value'])\n"
   ]
  },
  {
   "cell_type": "markdown",
   "metadata": {},
   "source": [
    "### 1.1 Interest Rate Swap Definition"
   ]
  },
  {
   "cell_type": "markdown",
   "metadata": {},
   "source": [
    "We can begin by settting up the details of the swap which we will feed into LUSID. In this case we will be looking at a 10y aged EUR swap with a historical start date."
   ]
  },
  {
   "cell_type": "code",
   "execution_count": 6,
   "metadata": {},
   "outputs": [],
   "source": [
    "# Set swap details for start date and maturity\n",
    "trade_date = datetime(2019, 10, 1, 0, 0, tzinfo=pytz.utc)\n",
    "start_date = trade_date\n",
    "\n",
    "# Create a 10y 'EUR' swap as specified below\n",
    "effective_at = datetime.today().replace(tzinfo=pytz.utc)\n",
    "end_date = start_date.replace(year=start_date.year + 10)\n",
    "swapCCY = \"EUR\"\n",
    "dom_amount = 50000000\n",
    "cpn = 0.01"
   ]
  },
  {
   "cell_type": "markdown",
   "metadata": {},
   "source": [
    "Within LUSID, an interest rate swap will need to be defined by setting each leg's [_flow convention_](https://www.lusid.com/docs/api#operation/UpsertFlowConventions), as shown below. This way we can specify the granular details the leg cash flows will follow, and form the basis of the constructed instrument. \n",
    "\n",
    "For the floating leg, we will also use a model from the API that sets the [_index convention_](https://www.lusid.com/docs/api#operation/UpsertIndexConvention), which is where we will seek to specify the Euribor 6M Index and daycount convention."
   ]
  },
  {
   "cell_type": "code",
   "execution_count": 7,
   "metadata": {},
   "outputs": [],
   "source": [
    "#create the flow convention for each leg + one for the index\n",
    "\n",
    "flow_conventionFixed= models.FlowConventions(\n",
    "    currency=\"EUR\",\n",
    "    payment_frequency=\"6M\",\n",
    "    day_count_convention=\"ThirtyU360\",\n",
    "    roll_convention=\"ModifiedFollowing\",\n",
    "    payment_calendars=[],\n",
    "    reset_calendars=[],\n",
    "    settle_days=2,\n",
    "    reset_days=0\n",
    ")\n",
    "flow_conventionFloat = models.FlowConventions(\n",
    "    currency=\"EUR\",\n",
    "    payment_frequency=\"6M\",\n",
    "    day_count_convention=\"Act360\",\n",
    "    roll_convention=\"ModifiedFollowing\",\n",
    "    payment_calendars=[],\n",
    "    reset_calendars=[],\n",
    "    settle_days=2,\n",
    "    reset_days=0\n",
    ")\n",
    "\n",
    "float_leg_idx_conv = models.IndexConvention(\n",
    "    currency=\"EUR\",\n",
    "    code=\"EURIBOR\",\n",
    "    payment_tenor=\"6M\",\n",
    "    fixing_reference=\"EUR6M\",\n",
    "    publication_day_lag=0,\n",
    "    day_count_convention=\"Act360\"\n",
    ")"
   ]
  },
  {
   "cell_type": "markdown",
   "metadata": {},
   "source": [
    "Using the above definitions we can move to building the legs of our swap, while also defining basic parameters such as the pay/receive sides for each leg and the rate fixing for our fixed leg."
   ]
  },
  {
   "cell_type": "code",
   "execution_count": 8,
   "metadata": {},
   "outputs": [],
   "source": [
    "# create the leg definitions\n",
    "float_leg_definition = models.LegDefinition(\n",
    "    rate_or_spread=0,\n",
    "    index_convention=float_leg_idx_conv,\n",
    "    pay_receive=\"Receive\",\n",
    "    conventions=flow_conventionFloat,\n",
    "    stub_type=\"Both\",\n",
    "    notional_exchange_type=\"None\"\n",
    ")\n",
    "\n",
    "fixed_leg_definition = models.LegDefinition(\n",
    "    rate_or_spread=cpn,\n",
    "    pay_receive=\"Pay\",\n",
    "    conventions=flow_conventionFixed,\n",
    "    stub_type=\"Both\",\n",
    "    notional_exchange_type=\"None\"\n",
    ")\n",
    "\n",
    "# create the fixed and floating legs\n",
    "fixed_leg = models.FixedLeg(\n",
    "    start_date=start_date,\n",
    "    maturity_date=end_date_10y,\n",
    "    notional=dom_amount,\n",
    "    leg_definition=fixed_leg_definition,\n",
    "    instrument_type=\"FixedLeg\"\n",
    ")\n",
    "\n",
    "floating_leg = models.FloatingLeg(\n",
    "    start_date=start_date,\n",
    "    maturity_date=end_date_10y,\n",
    "    notional=dom_amount,\n",
    "    leg_definition=float_leg_definition,\n",
    "    instrument_type=\"FloatingLeg\"\n",
    ")"
   ]
  },
  {
   "cell_type": "markdown",
   "metadata": {},
   "source": [
    "With all the leg details defined, we can look to build out the IRS instrument itself using the _Instruments API_, which can then be used to upsert to LUSID. "
   ]
  },
  {
   "cell_type": "code",
   "execution_count": 9,
   "metadata": {},
   "outputs": [
    {
     "name": "stdout",
     "output_type": "stream",
     "text": [
      "Instrument 10yEURIRS was successfully upserted into LUSID\n"
     ]
    }
   ],
   "source": [
    "irs_legs = [\n",
    "    fixed_leg,\n",
    "    floating_leg\n",
    "]\n",
    "\n",
    "#create the swap\n",
    "instrument_definition = models.InterestRateSwap(\n",
    "    start_date=start_date.isoformat(),\n",
    "    maturity_date=end_date.isoformat(),\n",
    "    legs=irs_legs,\n",
    "    instrument_type=\"InterestRateSwap\")\n",
    "\n",
    "\n",
    "# create instrument definition\n",
    "swap_instrument_definition = models.InstrumentDefinition(\n",
    "    name=\"EUR-IRS-10Y-0.01\",\n",
    "    identifiers={\"ClientInternal\":models.InstrumentIdValue(\"Swap001\")},\n",
    "    definition=instrument_definition\n",
    ")\n",
    "upsert_request = {\"Swap001\": swap_instrument_definition}\n",
    "\n",
    "#upsert instrument to LUSID\n",
    "response = instruments_api.upsert_instruments(\n",
    "    request_body=upsert_request)\n",
    "\n",
    "if response.failed == {}:\n",
    "    print(f\"Instrument {swap_instrument_definition.name} was successfully upserted into LUSID\")\n",
    "else:\n",
    "    print(\"An error occurred with the above upsert_instruments call, see error message:\", response.failed)"
   ]
  },
  {
   "cell_type": "code",
   "execution_count": 10,
   "metadata": {},
   "outputs": [
    {
     "data": {
      "text/html": "<style  type=\"text/css\" >\n</style><table id=\"T_ec0d5de2_d066_11ec_beab_ccd9ac6a7fe7\" style='display:inline'><caption>Floating Leg</caption><thead>    <tr>        <th class=\"blank level0\" ></th>        <th class=\"col_heading level0 col0\" >response_values</th>    </tr></thead><tbody>\n                <tr>\n                        <th id=\"T_ec0d5de2_d066_11ec_beab_ccd9ac6a7fe7level0_row0\" class=\"row_heading level0 row0\" >start_date</th>\n                        <td id=\"T_ec0d5de2_d066_11ec_beab_ccd9ac6a7fe7row0_col0\" class=\"data row0 col0\" >2019-10-01 00:00:00+00:00</td>\n            </tr>\n            <tr>\n                        <th id=\"T_ec0d5de2_d066_11ec_beab_ccd9ac6a7fe7level0_row1\" class=\"row_heading level0 row1\" >maturity_date</th>\n                        <td id=\"T_ec0d5de2_d066_11ec_beab_ccd9ac6a7fe7row1_col0\" class=\"data row1 col0\" >2029-10-01 00:00:00+00:00</td>\n            </tr>\n            <tr>\n                        <th id=\"T_ec0d5de2_d066_11ec_beab_ccd9ac6a7fe7level0_row2\" class=\"row_heading level0 row2\" >leg_definition.convention_name</th>\n                        <td id=\"T_ec0d5de2_d066_11ec_beab_ccd9ac6a7fe7row2_col0\" class=\"data row2 col0\" >None</td>\n            </tr>\n            <tr>\n                        <th id=\"T_ec0d5de2_d066_11ec_beab_ccd9ac6a7fe7level0_row3\" class=\"row_heading level0 row3\" >leg_definition.conventions.currency</th>\n                        <td id=\"T_ec0d5de2_d066_11ec_beab_ccd9ac6a7fe7row3_col0\" class=\"data row3 col0\" >EUR</td>\n            </tr>\n            <tr>\n                        <th id=\"T_ec0d5de2_d066_11ec_beab_ccd9ac6a7fe7level0_row4\" class=\"row_heading level0 row4\" >leg_definition.conventions.payment_frequency</th>\n                        <td id=\"T_ec0d5de2_d066_11ec_beab_ccd9ac6a7fe7row4_col0\" class=\"data row4 col0\" >6M</td>\n            </tr>\n            <tr>\n                        <th id=\"T_ec0d5de2_d066_11ec_beab_ccd9ac6a7fe7level0_row5\" class=\"row_heading level0 row5\" >leg_definition.conventions.day_count_convention</th>\n                        <td id=\"T_ec0d5de2_d066_11ec_beab_ccd9ac6a7fe7row5_col0\" class=\"data row5 col0\" >Actual360</td>\n            </tr>\n            <tr>\n                        <th id=\"T_ec0d5de2_d066_11ec_beab_ccd9ac6a7fe7level0_row6\" class=\"row_heading level0 row6\" >leg_definition.conventions.roll_convention</th>\n                        <td id=\"T_ec0d5de2_d066_11ec_beab_ccd9ac6a7fe7row6_col0\" class=\"data row6 col0\" >ModifiedFollowing</td>\n            </tr>\n            <tr>\n                        <th id=\"T_ec0d5de2_d066_11ec_beab_ccd9ac6a7fe7level0_row7\" class=\"row_heading level0 row7\" >leg_definition.conventions.payment_calendars</th>\n                        <td id=\"T_ec0d5de2_d066_11ec_beab_ccd9ac6a7fe7row7_col0\" class=\"data row7 col0\" >[]</td>\n            </tr>\n            <tr>\n                        <th id=\"T_ec0d5de2_d066_11ec_beab_ccd9ac6a7fe7level0_row8\" class=\"row_heading level0 row8\" >leg_definition.conventions.reset_calendars</th>\n                        <td id=\"T_ec0d5de2_d066_11ec_beab_ccd9ac6a7fe7row8_col0\" class=\"data row8 col0\" >[]</td>\n            </tr>\n            <tr>\n                        <th id=\"T_ec0d5de2_d066_11ec_beab_ccd9ac6a7fe7level0_row9\" class=\"row_heading level0 row9\" >leg_definition.conventions.settle_days</th>\n                        <td id=\"T_ec0d5de2_d066_11ec_beab_ccd9ac6a7fe7row9_col0\" class=\"data row9 col0\" >2</td>\n            </tr>\n            <tr>\n                        <th id=\"T_ec0d5de2_d066_11ec_beab_ccd9ac6a7fe7level0_row10\" class=\"row_heading level0 row10\" >leg_definition.conventions.reset_days</th>\n                        <td id=\"T_ec0d5de2_d066_11ec_beab_ccd9ac6a7fe7row10_col0\" class=\"data row10 col0\" >0</td>\n            </tr>\n            <tr>\n                        <th id=\"T_ec0d5de2_d066_11ec_beab_ccd9ac6a7fe7level0_row11\" class=\"row_heading level0 row11\" >leg_definition.conventions.leap_days_included</th>\n                        <td id=\"T_ec0d5de2_d066_11ec_beab_ccd9ac6a7fe7row11_col0\" class=\"data row11 col0\" >True</td>\n            </tr>\n            <tr>\n                        <th id=\"T_ec0d5de2_d066_11ec_beab_ccd9ac6a7fe7level0_row12\" class=\"row_heading level0 row12\" >leg_definition.conventions.scope</th>\n                        <td id=\"T_ec0d5de2_d066_11ec_beab_ccd9ac6a7fe7row12_col0\" class=\"data row12 col0\" >None</td>\n            </tr>\n            <tr>\n                        <th id=\"T_ec0d5de2_d066_11ec_beab_ccd9ac6a7fe7level0_row13\" class=\"row_heading level0 row13\" >leg_definition.conventions.code</th>\n                        <td id=\"T_ec0d5de2_d066_11ec_beab_ccd9ac6a7fe7row13_col0\" class=\"data row13 col0\" >None</td>\n            </tr>\n            <tr>\n                        <th id=\"T_ec0d5de2_d066_11ec_beab_ccd9ac6a7fe7level0_row14\" class=\"row_heading level0 row14\" >leg_definition.index_convention.fixing_reference</th>\n                        <td id=\"T_ec0d5de2_d066_11ec_beab_ccd9ac6a7fe7row14_col0\" class=\"data row14 col0\" >EUR6M</td>\n            </tr>\n            <tr>\n                        <th id=\"T_ec0d5de2_d066_11ec_beab_ccd9ac6a7fe7level0_row15\" class=\"row_heading level0 row15\" >leg_definition.index_convention.publication_day_lag</th>\n                        <td id=\"T_ec0d5de2_d066_11ec_beab_ccd9ac6a7fe7row15_col0\" class=\"data row15 col0\" >0</td>\n            </tr>\n            <tr>\n                        <th id=\"T_ec0d5de2_d066_11ec_beab_ccd9ac6a7fe7level0_row16\" class=\"row_heading level0 row16\" >leg_definition.index_convention.payment_tenor</th>\n                        <td id=\"T_ec0d5de2_d066_11ec_beab_ccd9ac6a7fe7row16_col0\" class=\"data row16 col0\" >6M</td>\n            </tr>\n            <tr>\n                        <th id=\"T_ec0d5de2_d066_11ec_beab_ccd9ac6a7fe7level0_row17\" class=\"row_heading level0 row17\" >leg_definition.index_convention.day_count_convention</th>\n                        <td id=\"T_ec0d5de2_d066_11ec_beab_ccd9ac6a7fe7row17_col0\" class=\"data row17 col0\" >Actual360</td>\n            </tr>\n            <tr>\n                        <th id=\"T_ec0d5de2_d066_11ec_beab_ccd9ac6a7fe7level0_row18\" class=\"row_heading level0 row18\" >leg_definition.index_convention.currency</th>\n                        <td id=\"T_ec0d5de2_d066_11ec_beab_ccd9ac6a7fe7row18_col0\" class=\"data row18 col0\" >EUR</td>\n            </tr>\n            <tr>\n                        <th id=\"T_ec0d5de2_d066_11ec_beab_ccd9ac6a7fe7level0_row19\" class=\"row_heading level0 row19\" >leg_definition.index_convention.index_name</th>\n                        <td id=\"T_ec0d5de2_d066_11ec_beab_ccd9ac6a7fe7row19_col0\" class=\"data row19 col0\" >INDEX</td>\n            </tr>\n            <tr>\n                        <th id=\"T_ec0d5de2_d066_11ec_beab_ccd9ac6a7fe7level0_row20\" class=\"row_heading level0 row20\" >leg_definition.index_convention.scope</th>\n                        <td id=\"T_ec0d5de2_d066_11ec_beab_ccd9ac6a7fe7row20_col0\" class=\"data row20 col0\" >None</td>\n            </tr>\n            <tr>\n                        <th id=\"T_ec0d5de2_d066_11ec_beab_ccd9ac6a7fe7level0_row21\" class=\"row_heading level0 row21\" >leg_definition.index_convention.code</th>\n                        <td id=\"T_ec0d5de2_d066_11ec_beab_ccd9ac6a7fe7row21_col0\" class=\"data row21 col0\" >EURIBOR</td>\n            </tr>\n            <tr>\n                        <th id=\"T_ec0d5de2_d066_11ec_beab_ccd9ac6a7fe7level0_row22\" class=\"row_heading level0 row22\" >leg_definition.index_convention_name</th>\n                        <td id=\"T_ec0d5de2_d066_11ec_beab_ccd9ac6a7fe7row22_col0\" class=\"data row22 col0\" >None</td>\n            </tr>\n            <tr>\n                        <th id=\"T_ec0d5de2_d066_11ec_beab_ccd9ac6a7fe7level0_row23\" class=\"row_heading level0 row23\" >leg_definition.notional_exchange_type</th>\n                        <td id=\"T_ec0d5de2_d066_11ec_beab_ccd9ac6a7fe7row23_col0\" class=\"data row23 col0\" >None</td>\n            </tr>\n            <tr>\n                        <th id=\"T_ec0d5de2_d066_11ec_beab_ccd9ac6a7fe7level0_row24\" class=\"row_heading level0 row24\" >leg_definition.pay_receive</th>\n                        <td id=\"T_ec0d5de2_d066_11ec_beab_ccd9ac6a7fe7row24_col0\" class=\"data row24 col0\" >Receive</td>\n            </tr>\n            <tr>\n                        <th id=\"T_ec0d5de2_d066_11ec_beab_ccd9ac6a7fe7level0_row25\" class=\"row_heading level0 row25\" >leg_definition.rate_or_spread</th>\n                        <td id=\"T_ec0d5de2_d066_11ec_beab_ccd9ac6a7fe7row25_col0\" class=\"data row25 col0\" >0.000000</td>\n            </tr>\n            <tr>\n                        <th id=\"T_ec0d5de2_d066_11ec_beab_ccd9ac6a7fe7level0_row26\" class=\"row_heading level0 row26\" >leg_definition.reset_convention</th>\n                        <td id=\"T_ec0d5de2_d066_11ec_beab_ccd9ac6a7fe7row26_col0\" class=\"data row26 col0\" >InAdvance</td>\n            </tr>\n            <tr>\n                        <th id=\"T_ec0d5de2_d066_11ec_beab_ccd9ac6a7fe7level0_row27\" class=\"row_heading level0 row27\" >leg_definition.stub_type</th>\n                        <td id=\"T_ec0d5de2_d066_11ec_beab_ccd9ac6a7fe7row27_col0\" class=\"data row27 col0\" >ShortBack</td>\n            </tr>\n            <tr>\n                        <th id=\"T_ec0d5de2_d066_11ec_beab_ccd9ac6a7fe7level0_row28\" class=\"row_heading level0 row28\" >leg_definition.compounding</th>\n                        <td id=\"T_ec0d5de2_d066_11ec_beab_ccd9ac6a7fe7row28_col0\" class=\"data row28 col0\" >None</td>\n            </tr>\n            <tr>\n                        <th id=\"T_ec0d5de2_d066_11ec_beab_ccd9ac6a7fe7level0_row29\" class=\"row_heading level0 row29\" >leg_definition.amortisation</th>\n                        <td id=\"T_ec0d5de2_d066_11ec_beab_ccd9ac6a7fe7row29_col0\" class=\"data row29 col0\" >None</td>\n            </tr>\n            <tr>\n                        <th id=\"T_ec0d5de2_d066_11ec_beab_ccd9ac6a7fe7level0_row30\" class=\"row_heading level0 row30\" >notional</th>\n                        <td id=\"T_ec0d5de2_d066_11ec_beab_ccd9ac6a7fe7row30_col0\" class=\"data row30 col0\" >50000000.000000</td>\n            </tr>\n            <tr>\n                        <th id=\"T_ec0d5de2_d066_11ec_beab_ccd9ac6a7fe7level0_row31\" class=\"row_heading level0 row31\" >overrides.amortization</th>\n                        <td id=\"T_ec0d5de2_d066_11ec_beab_ccd9ac6a7fe7row31_col0\" class=\"data row31 col0\" >None</td>\n            </tr>\n            <tr>\n                        <th id=\"T_ec0d5de2_d066_11ec_beab_ccd9ac6a7fe7level0_row32\" class=\"row_heading level0 row32\" >overrides.spreads</th>\n                        <td id=\"T_ec0d5de2_d066_11ec_beab_ccd9ac6a7fe7row32_col0\" class=\"data row32 col0\" >None</td>\n            </tr>\n            <tr>\n                        <th id=\"T_ec0d5de2_d066_11ec_beab_ccd9ac6a7fe7level0_row33\" class=\"row_heading level0 row33\" >instrument_type</th>\n                        <td id=\"T_ec0d5de2_d066_11ec_beab_ccd9ac6a7fe7row33_col0\" class=\"data row33 col0\" >FloatingLeg</td>\n            </tr>\n    </tbody></table><style  type=\"text/css\" >\n</style><table id=\"T_ec114de5_d066_11ec_9edd_ccd9ac6a7fe7\" style='display:inline'><caption>Fixed Leg</caption><thead>    <tr>        <th class=\"blank level0\" ></th>        <th class=\"col_heading level0 col0\" >response_values</th>    </tr></thead><tbody>\n                <tr>\n                        <th id=\"T_ec114de5_d066_11ec_9edd_ccd9ac6a7fe7level0_row0\" class=\"row_heading level0 row0\" >start_date</th>\n                        <td id=\"T_ec114de5_d066_11ec_9edd_ccd9ac6a7fe7row0_col0\" class=\"data row0 col0\" >2019-10-01 00:00:00+00:00</td>\n            </tr>\n            <tr>\n                        <th id=\"T_ec114de5_d066_11ec_9edd_ccd9ac6a7fe7level0_row1\" class=\"row_heading level0 row1\" >maturity_date</th>\n                        <td id=\"T_ec114de5_d066_11ec_9edd_ccd9ac6a7fe7row1_col0\" class=\"data row1 col0\" >2029-10-01 00:00:00+00:00</td>\n            </tr>\n            <tr>\n                        <th id=\"T_ec114de5_d066_11ec_9edd_ccd9ac6a7fe7level0_row2\" class=\"row_heading level0 row2\" >leg_definition.convention_name</th>\n                        <td id=\"T_ec114de5_d066_11ec_9edd_ccd9ac6a7fe7row2_col0\" class=\"data row2 col0\" >None</td>\n            </tr>\n            <tr>\n                        <th id=\"T_ec114de5_d066_11ec_9edd_ccd9ac6a7fe7level0_row3\" class=\"row_heading level0 row3\" >leg_definition.conventions.currency</th>\n                        <td id=\"T_ec114de5_d066_11ec_9edd_ccd9ac6a7fe7row3_col0\" class=\"data row3 col0\" >EUR</td>\n            </tr>\n            <tr>\n                        <th id=\"T_ec114de5_d066_11ec_9edd_ccd9ac6a7fe7level0_row4\" class=\"row_heading level0 row4\" >leg_definition.conventions.payment_frequency</th>\n                        <td id=\"T_ec114de5_d066_11ec_9edd_ccd9ac6a7fe7row4_col0\" class=\"data row4 col0\" >6M</td>\n            </tr>\n            <tr>\n                        <th id=\"T_ec114de5_d066_11ec_9edd_ccd9ac6a7fe7level0_row5\" class=\"row_heading level0 row5\" >leg_definition.conventions.day_count_convention</th>\n                        <td id=\"T_ec114de5_d066_11ec_9edd_ccd9ac6a7fe7row5_col0\" class=\"data row5 col0\" >Thirty360</td>\n            </tr>\n            <tr>\n                        <th id=\"T_ec114de5_d066_11ec_9edd_ccd9ac6a7fe7level0_row6\" class=\"row_heading level0 row6\" >leg_definition.conventions.roll_convention</th>\n                        <td id=\"T_ec114de5_d066_11ec_9edd_ccd9ac6a7fe7row6_col0\" class=\"data row6 col0\" >ModifiedFollowing</td>\n            </tr>\n            <tr>\n                        <th id=\"T_ec114de5_d066_11ec_9edd_ccd9ac6a7fe7level0_row7\" class=\"row_heading level0 row7\" >leg_definition.conventions.payment_calendars</th>\n                        <td id=\"T_ec114de5_d066_11ec_9edd_ccd9ac6a7fe7row7_col0\" class=\"data row7 col0\" >[]</td>\n            </tr>\n            <tr>\n                        <th id=\"T_ec114de5_d066_11ec_9edd_ccd9ac6a7fe7level0_row8\" class=\"row_heading level0 row8\" >leg_definition.conventions.reset_calendars</th>\n                        <td id=\"T_ec114de5_d066_11ec_9edd_ccd9ac6a7fe7row8_col0\" class=\"data row8 col0\" >[]</td>\n            </tr>\n            <tr>\n                        <th id=\"T_ec114de5_d066_11ec_9edd_ccd9ac6a7fe7level0_row9\" class=\"row_heading level0 row9\" >leg_definition.conventions.settle_days</th>\n                        <td id=\"T_ec114de5_d066_11ec_9edd_ccd9ac6a7fe7row9_col0\" class=\"data row9 col0\" >2</td>\n            </tr>\n            <tr>\n                        <th id=\"T_ec114de5_d066_11ec_9edd_ccd9ac6a7fe7level0_row10\" class=\"row_heading level0 row10\" >leg_definition.conventions.reset_days</th>\n                        <td id=\"T_ec114de5_d066_11ec_9edd_ccd9ac6a7fe7row10_col0\" class=\"data row10 col0\" >0</td>\n            </tr>\n            <tr>\n                        <th id=\"T_ec114de5_d066_11ec_9edd_ccd9ac6a7fe7level0_row11\" class=\"row_heading level0 row11\" >leg_definition.conventions.leap_days_included</th>\n                        <td id=\"T_ec114de5_d066_11ec_9edd_ccd9ac6a7fe7row11_col0\" class=\"data row11 col0\" >True</td>\n            </tr>\n            <tr>\n                        <th id=\"T_ec114de5_d066_11ec_9edd_ccd9ac6a7fe7level0_row12\" class=\"row_heading level0 row12\" >leg_definition.conventions.scope</th>\n                        <td id=\"T_ec114de5_d066_11ec_9edd_ccd9ac6a7fe7row12_col0\" class=\"data row12 col0\" >None</td>\n            </tr>\n            <tr>\n                        <th id=\"T_ec114de5_d066_11ec_9edd_ccd9ac6a7fe7level0_row13\" class=\"row_heading level0 row13\" >leg_definition.conventions.code</th>\n                        <td id=\"T_ec114de5_d066_11ec_9edd_ccd9ac6a7fe7row13_col0\" class=\"data row13 col0\" >None</td>\n            </tr>\n            <tr>\n                        <th id=\"T_ec114de5_d066_11ec_9edd_ccd9ac6a7fe7level0_row14\" class=\"row_heading level0 row14\" >leg_definition.index_convention</th>\n                        <td id=\"T_ec114de5_d066_11ec_9edd_ccd9ac6a7fe7row14_col0\" class=\"data row14 col0\" >None</td>\n            </tr>\n            <tr>\n                        <th id=\"T_ec114de5_d066_11ec_9edd_ccd9ac6a7fe7level0_row15\" class=\"row_heading level0 row15\" >leg_definition.index_convention_name</th>\n                        <td id=\"T_ec114de5_d066_11ec_9edd_ccd9ac6a7fe7row15_col0\" class=\"data row15 col0\" >None</td>\n            </tr>\n            <tr>\n                        <th id=\"T_ec114de5_d066_11ec_9edd_ccd9ac6a7fe7level0_row16\" class=\"row_heading level0 row16\" >leg_definition.notional_exchange_type</th>\n                        <td id=\"T_ec114de5_d066_11ec_9edd_ccd9ac6a7fe7row16_col0\" class=\"data row16 col0\" >None</td>\n            </tr>\n            <tr>\n                        <th id=\"T_ec114de5_d066_11ec_9edd_ccd9ac6a7fe7level0_row17\" class=\"row_heading level0 row17\" >leg_definition.pay_receive</th>\n                        <td id=\"T_ec114de5_d066_11ec_9edd_ccd9ac6a7fe7row17_col0\" class=\"data row17 col0\" >Pay</td>\n            </tr>\n            <tr>\n                        <th id=\"T_ec114de5_d066_11ec_9edd_ccd9ac6a7fe7level0_row18\" class=\"row_heading level0 row18\" >leg_definition.rate_or_spread</th>\n                        <td id=\"T_ec114de5_d066_11ec_9edd_ccd9ac6a7fe7row18_col0\" class=\"data row18 col0\" >0.010000</td>\n            </tr>\n            <tr>\n                        <th id=\"T_ec114de5_d066_11ec_9edd_ccd9ac6a7fe7level0_row19\" class=\"row_heading level0 row19\" >leg_definition.reset_convention</th>\n                        <td id=\"T_ec114de5_d066_11ec_9edd_ccd9ac6a7fe7row19_col0\" class=\"data row19 col0\" >InAdvance</td>\n            </tr>\n            <tr>\n                        <th id=\"T_ec114de5_d066_11ec_9edd_ccd9ac6a7fe7level0_row20\" class=\"row_heading level0 row20\" >leg_definition.stub_type</th>\n                        <td id=\"T_ec114de5_d066_11ec_9edd_ccd9ac6a7fe7row20_col0\" class=\"data row20 col0\" >ShortBack</td>\n            </tr>\n            <tr>\n                        <th id=\"T_ec114de5_d066_11ec_9edd_ccd9ac6a7fe7level0_row21\" class=\"row_heading level0 row21\" >leg_definition.compounding</th>\n                        <td id=\"T_ec114de5_d066_11ec_9edd_ccd9ac6a7fe7row21_col0\" class=\"data row21 col0\" >None</td>\n            </tr>\n            <tr>\n                        <th id=\"T_ec114de5_d066_11ec_9edd_ccd9ac6a7fe7level0_row22\" class=\"row_heading level0 row22\" >leg_definition.amortisation</th>\n                        <td id=\"T_ec114de5_d066_11ec_9edd_ccd9ac6a7fe7row22_col0\" class=\"data row22 col0\" >None</td>\n            </tr>\n            <tr>\n                        <th id=\"T_ec114de5_d066_11ec_9edd_ccd9ac6a7fe7level0_row23\" class=\"row_heading level0 row23\" >notional</th>\n                        <td id=\"T_ec114de5_d066_11ec_9edd_ccd9ac6a7fe7row23_col0\" class=\"data row23 col0\" >50000000.000000</td>\n            </tr>\n            <tr>\n                        <th id=\"T_ec114de5_d066_11ec_9edd_ccd9ac6a7fe7level0_row24\" class=\"row_heading level0 row24\" >overrides.amortization</th>\n                        <td id=\"T_ec114de5_d066_11ec_9edd_ccd9ac6a7fe7row24_col0\" class=\"data row24 col0\" >None</td>\n            </tr>\n            <tr>\n                        <th id=\"T_ec114de5_d066_11ec_9edd_ccd9ac6a7fe7level0_row25\" class=\"row_heading level0 row25\" >overrides.spreads</th>\n                        <td id=\"T_ec114de5_d066_11ec_9edd_ccd9ac6a7fe7row25_col0\" class=\"data row25 col0\" >None</td>\n            </tr>\n            <tr>\n                        <th id=\"T_ec114de5_d066_11ec_9edd_ccd9ac6a7fe7level0_row26\" class=\"row_heading level0 row26\" >instrument_type</th>\n                        <td id=\"T_ec114de5_d066_11ec_9edd_ccd9ac6a7fe7row26_col0\" class=\"data row26 col0\" >FixedLeg</td>\n            </tr>\n    </tbody></table>"
     },
     "metadata": {},
     "output_type": "display_data"
    }
   ],
   "source": [
    "def get_instrument(identifier):\n",
    "    response = instruments_api.get_instrument(\n",
    "        identifier_type=\"ClientInternal\",\n",
    "        identifier=identifier\n",
    "    )\n",
    "    return response\n",
    "\n",
    "# Get and store the instrument response for \"Swap001\"\n",
    "response = get_instrument(\"Swap001\")\n",
    "\n",
    "# Store response leg definitions as dataframes\n",
    "flt_leg_df = lusid_response_to_data_frame(response.instrument_definition.legs[1])\n",
    "fix_leg_df = lusid_response_to_data_frame(response.instrument_definition.legs[0])\n",
    "\n",
    "# Display the leg dataframes\n",
    "df1_styler = flt_leg_df.style.set_table_attributes(\"style='display:inline'\").set_caption('Floating Leg')\n",
    "df2_styler = fix_leg_df.style.set_table_attributes(\"style='display:inline'\").set_caption('Fixed Leg')\n",
    "display_html(df1_styler._repr_html_()+df2_styler._repr_html_(), raw=True)"
   ]
  },
  {
   "cell_type": "markdown",
   "metadata": {},
   "source": [
    "### 1.2 Setting up the Curve and Market Data"
   ]
  },
  {
   "cell_type": "markdown",
   "metadata": {},
   "source": [
    "In order to value the swap we will need to create a curve by which we can determine the present values of the cash flows, as well as build out a forward curve for our floating leg. In this example we are creating a discount curve using EUR OIS discount factors, and for the forward curve we use a 6M FRA curve also building on discount factors. "
   ]
  },
  {
   "cell_type": "code",
   "execution_count": 11,
   "metadata": {},
   "outputs": [],
   "source": [
    "# scope used to store our market data\n",
    "market_data_scope = \"FBN-Market-Data\"\n",
    "# the market data supplier\n",
    "market_supplier = 'Lusid'"
   ]
  },
  {
   "cell_type": "code",
   "execution_count": 12,
   "metadata": {},
   "outputs": [],
   "source": [
    "def create_yield_curve(ois_curve_json, market_data_scope, effective_at, market_asset):\n",
    "\n",
    "    # provide the structured data file source and it's document format\n",
    "    structured_market_data = models.StructuredMarketData(document_format=\"Json\", version=\"1.0.0\",\n",
    "                                                name=\"DFEUROISCurve\", document=ois_curve_json)\n",
    "\n",
    "\n",
    "    # create a unique identifier for our OIS yield curves\n",
    "    structured_id = models.StructuredMarketDataId(provider=\"Lusid\",price_source=None,\n",
    "                                                 lineage=\"CurveVendorABC\", effective_at=effective_at,\n",
    "                                                 market_element_type=\"ZeroCurve\",\n",
    "                                                 market_asset=market_asset)\n",
    "\n",
    "    upsert_request = models.UpsertStructuredMarketDataRequest(market_data_id=structured_id,\n",
    "                                                          market_data=structured_market_data)\n",
    "\n",
    "    # https://www.lusid.com/docs/api#operation/UpsertStructuredMarketData\n",
    "    response = structured_market_data_api.upsert_structured_market_data(\n",
    "        scope=market_data_scope,\n",
    "        request_body={market_asset : upsert_request}\n",
    "    )\n",
    "\n",
    "    if response.failed:\n",
    "        raise StopExecution(\"Failed to upload yield curve {response.failed}\")\n",
    "\n",
    "    print(f\"{market_asset} yield curve uploaded into scope={market_data_scope}\")"
   ]
  },
  {
   "cell_type": "code",
   "execution_count": 13,
   "metadata": {},
   "outputs": [
    {
     "ename": "FileNotFoundError",
     "evalue": "[Errno 2] No such file or directory: 'data/eur/EUROISdfs'",
     "output_type": "error",
     "traceback": [
      "\u001B[1;31m---------------------------------------------------------------------------\u001B[0m",
      "\u001B[1;31mFileNotFoundError\u001B[0m                         Traceback (most recent call last)",
      "\u001B[1;32m<ipython-input-13-b7ab716c3bfe>\u001B[0m in \u001B[0;36m<module>\u001B[1;34m\u001B[0m\n\u001B[0;32m      4\u001B[0m         \u001B[1;32mreturn\u001B[0m \u001B[0mmyfile\u001B[0m\u001B[1;33m.\u001B[0m\u001B[0mread\u001B[0m\u001B[1;33m(\u001B[0m\u001B[1;33m)\u001B[0m\u001B[1;33m\u001B[0m\u001B[1;33m\u001B[0m\u001B[0m\n\u001B[0;32m      5\u001B[0m \u001B[1;33m\u001B[0m\u001B[0m\n\u001B[1;32m----> 6\u001B[1;33m \u001B[0mois_curve_json\u001B[0m \u001B[1;33m=\u001B[0m \u001B[0mload_curve_json\u001B[0m\u001B[1;33m(\u001B[0m\u001B[1;34m\"data/eur/EUROISdfs\"\u001B[0m\u001B[1;33m)\u001B[0m\u001B[1;33m\u001B[0m\u001B[1;33m\u001B[0m\u001B[0m\n\u001B[0m\u001B[0;32m      7\u001B[0m \u001B[0meur6m_curve_json\u001B[0m \u001B[1;33m=\u001B[0m \u001B[0mload_curve_json\u001B[0m\u001B[1;33m(\u001B[0m\u001B[1;34m\"data/eur/EUR6mshaped\"\u001B[0m\u001B[1;33m)\u001B[0m\u001B[1;33m\u001B[0m\u001B[1;33m\u001B[0m\u001B[0m\n\u001B[0;32m      8\u001B[0m \u001B[1;33m\u001B[0m\u001B[0m\n",
      "\u001B[1;32m<ipython-input-13-b7ab716c3bfe>\u001B[0m in \u001B[0;36mload_curve_json\u001B[1;34m(file_name)\u001B[0m\n\u001B[0;32m      1\u001B[0m \u001B[1;31m# Read the curve source data\u001B[0m\u001B[1;33m\u001B[0m\u001B[1;33m\u001B[0m\u001B[1;33m\u001B[0m\u001B[0m\n\u001B[0;32m      2\u001B[0m \u001B[1;32mdef\u001B[0m \u001B[0mload_curve_json\u001B[0m\u001B[1;33m(\u001B[0m\u001B[0mfile_name\u001B[0m\u001B[1;33m)\u001B[0m\u001B[1;33m:\u001B[0m\u001B[1;33m\u001B[0m\u001B[1;33m\u001B[0m\u001B[0m\n\u001B[1;32m----> 3\u001B[1;33m     \u001B[1;32mwith\u001B[0m \u001B[0mopen\u001B[0m\u001B[1;33m(\u001B[0m\u001B[0mfile_name\u001B[0m\u001B[1;33m,\u001B[0m \u001B[1;34m\"r\"\u001B[0m\u001B[1;33m)\u001B[0m \u001B[1;32mas\u001B[0m \u001B[0mmyfile\u001B[0m\u001B[1;33m:\u001B[0m\u001B[1;33m\u001B[0m\u001B[1;33m\u001B[0m\u001B[0m\n\u001B[0m\u001B[0;32m      4\u001B[0m         \u001B[1;32mreturn\u001B[0m \u001B[0mmyfile\u001B[0m\u001B[1;33m.\u001B[0m\u001B[0mread\u001B[0m\u001B[1;33m(\u001B[0m\u001B[1;33m)\u001B[0m\u001B[1;33m\u001B[0m\u001B[1;33m\u001B[0m\u001B[0m\n\u001B[0;32m      5\u001B[0m \u001B[1;33m\u001B[0m\u001B[0m\n",
      "\u001B[1;31mFileNotFoundError\u001B[0m: [Errno 2] No such file or directory: 'data/eur/EUROISdfs'"
     ]
    }
   ],
   "source": [
    "# Read the curve source data\n",
    "def load_curve_json(file_name):\n",
    "    with open(file_name, \"r\") as myfile:\n",
    "        return myfile.read()\n",
    "\n",
    "ois_curve_json = load_curve_json(\"data/eur/EUROISdfs\")\n",
    "eur6m_curve_json = load_curve_json(\"data/eur/EUR6mshaped\")\n",
    "\n",
    "# Create the curves\n",
    "create_yield_curve(ois_curve_json, market_data_scope, effective_at, \"EUR/EUROIS\")\n",
    "create_yield_curve(eur6m_curve_json, market_data_scope, effective_at, \"EUR/6M\")"
   ]
  },
  {
   "cell_type": "code",
   "execution_count": null,
   "outputs": [],
   "source": [
    "def create_yield_curve_from_df(\n",
    "    maturity_dates,\n",
    "    discount_factors,\n",
    ")\n"
   ],
   "metadata": {
    "collapsed": false,
    "pycharm": {
     "name": "#%%\n"
    }
   }
  },
  {
   "cell_type": "markdown",
   "metadata": {},
   "source": [
    "The next piece of market data necessary will be the floating leg fixings, which in this case is Euribor 6M data for the historic reset dates. For valuation effective today, we would at least require a fixing for the swap's inception date and another for the valuation data (latest fixing). \n",
    "\n",
    "Below we will add market data fixings for the other historical resets as well, as these will be required at a later stage when we look at historical cashflows."
   ]
  },
  {
   "cell_type": "code",
   "execution_count": null,
   "metadata": {},
   "outputs": [],
   "source": [
    "fix_date_1 = start_date \n",
    "fix_date_2 = datetime(2020, 4, 1, 0, 0, tzinfo=pytz.utc)\n",
    "fix_date_3 = datetime(2020, 10, 1, 0, 0, tzinfo=pytz.utc)\n",
    "fix_date_4 = effective_at\n",
    "\n",
    "fixings = {fix_date_1: -0.0038, fix_date_2: -0.00276, fix_date_3: -0.0048, fix_date_4 : -0.0048}\n",
    "\n",
    "\n",
    "# def upsert_reset(ccy, start, rate, lineage, marketDataScope\n",
    "resetSeriesId = models.QuoteSeriesId(\n",
    "    provider=\"Lusid\",\n",
    "    price_source=None,\n",
    "    instrument_id=\"EUR6M\",\n",
    "    instrument_id_type=\"RIC\",\n",
    "    quote_type=\"Rate\",\n",
    "    field=\"Mid\"\n",
    ")\n",
    "\n",
    "QuoteIdRequest = {}\n",
    "i = 0\n",
    "\n",
    "for date, fixing in fixings.items():\n",
    "    i+=1\n",
    "    QuoteId = models.QuoteId(\n",
    "        quote_series_id=resetSeriesId,\n",
    "        effective_at=date.isoformat()\n",
    "    )\n",
    "    EUR6mQuoteRequest = models.UpsertQuoteRequest(\n",
    "        quote_id=QuoteId,\n",
    "        metric_value=models.MetricValue(\n",
    "            value=fixing, unit=\"rate\"),\n",
    "        lineage=\"EUR libor\"\n",
    "    )\n",
    "    \n",
    "    QuoteIdRequest[i]=EUR6mQuoteRequest\n",
    "\n",
    "    \n",
    "    response = quotes_api.upsert_quotes(scope=market_data_scope,\n",
    "                          request_body=QuoteIdRequest)\n",
    "\n",
    "    if response.failed == {}:\n",
    "        print(f\"Quotes for Euribor fixing on {date.date()} was successfully upserted into LUSID\")\n",
    "    else:\n",
    "        print(f\"An error occurred with the above upsert_quotes call for fixing {date.date()}\")"
   ]
  },
  {
   "cell_type": "markdown",
   "metadata": {},
   "source": [
    "### 1.3 Setup Portfolio\n",
    "\n",
    "In order to value the swap, and understand how it impacts our cash position, we will setup a portfolio with a position in the previously defined instrument. We begin by defining the scope for our swap book, and then follow by booking a transaction to the portfolio. "
   ]
  },
  {
   "cell_type": "code",
   "execution_count": null,
   "metadata": {},
   "outputs": [],
   "source": [
    "# Setup scope and code for the portfolio\n",
    "tradingScope = \"Finbourne-Examples\"\n",
    "tradingCode = \"Global-IRS\"\n",
    "\n",
    "# Setup a dataframe from which we will creat the portfolio\n",
    "data = {'portfolio_code':  [tradingCode],\n",
    "        'portfolio_name': [tradingCode],\n",
    "       }\n",
    "\n",
    "portfolio_df= pd.DataFrame(data, columns=['portfolio_code','portfolio_name'])\n",
    "\n",
    "# Create a mapping schema for the portfolio\n",
    "portfolio_mapping = {\n",
    "    \"required\": {\n",
    "        \"code\": \"portfolio_code\",\n",
    "        \"display_name\": \"portfolio_name\",\n",
    "        \"base_currency\": \"$EUR\",\n",
    "    },\n",
    "    \"optional\": {\"created\": \"$2017-01-01T00:00:00+00:00\"},\n",
    "}"
   ]
  },
  {
   "cell_type": "code",
   "execution_count": null,
   "metadata": {},
   "outputs": [],
   "source": [
    "# A portfolio can be loaded using a dataframe by setting file_type to \"portfolios\"\n",
    "result = load_from_data_frame(\n",
    "    api_factory=api_factory,\n",
    "    scope=tradingScope,\n",
    "    data_frame=portfolio_df,\n",
    "    mapping_required=portfolio_mapping[\"required\"],\n",
    "    mapping_optional=portfolio_mapping[\"optional\"],\n",
    "    file_type=\"portfolios\",\n",
    "    sub_holding_keys=[],\n",
    ")\n",
    "\n",
    "succ, failed = format_portfolios_response(result)\n",
    "pd.DataFrame(data=[{\"success\": len(succ), \"failed\": len(failed)}])"
   ]
  },
  {
   "cell_type": "markdown",
   "metadata": {},
   "source": [
    "### 1.4 Add Transactions\n",
    "\n",
    "With the portfolio in LUSID, we can add a transaction entering a position in the swap. For this we can use the `TransactionPortfoliosApi`, which is the required API to interact with a [Transaction Porftolio](#https://support.finbourne.com/what-is-a-transaction-portfolio).\n",
    "\n",
    "Transaction price will be set to 1, which will then evaluate the total consideration to match the notional (50MM) specified earlier in the swap instrument definition. Additionally, since we will be examining the cash flow impacts of the swap on our portfolio, we will also book a transaction that sets the cash balance for the portfolio to EUR 1MM."
   ]
  },
  {
   "cell_type": "code",
   "execution_count": null,
   "metadata": {},
   "outputs": [],
   "source": [
    "# Book a transaction to set the portfolio cash balance\n",
    "cashTransaction = models.TransactionRequest(\n",
    "    transaction_id=\"TXN000\",\n",
    "    type=\"FundsIn\",\n",
    "    instrument_identifiers={\"Instrument/default/Currency\":\"EUR\"},\n",
    "    transaction_date=trade_date.isoformat(),\n",
    "    settlement_date=trade_date.isoformat(),\n",
    "    units=1000000,\n",
    "    transaction_price=models.TransactionPrice(price=1,type=\"Price\"),\n",
    "    total_consideration=models.CurrencyAndAmount(amount=1,currency=\"EUR\"),\n",
    "    exchange_rate=1,\n",
    "    transaction_currency=\"EUR\"\n",
    ")\n",
    "\n",
    "\n",
    "# Book a buy transaction against the swap instrument\n",
    "swapTransaction = models.TransactionRequest(\n",
    "    transaction_id=\"TXN001\",\n",
    "    type=\"Buy\",\n",
    "    instrument_identifiers={\"Instrument/default/ClientInternal\":\"Swap001\"},\n",
    "    transaction_date=trade_date.isoformat(),\n",
    "    settlement_date=trade_date.isoformat(),\n",
    "    units=1,\n",
    "    transaction_price=models.TransactionPrice(price=1,type=\"Price\"),\n",
    "    total_consideration=models.CurrencyAndAmount(amount=1,currency=\"EUR\"),\n",
    "    exchange_rate=1,\n",
    "    transaction_currency=\"EUR\"\n",
    ")\n",
    "\n",
    "response = transaction_portfolios_api.upsert_transactions(scope=tradingScope,\n",
    "                                                    code=tradingCode,\n",
    "                                                    transaction_request=[cashTransaction, swapTransaction])"
   ]
  },
  {
   "cell_type": "markdown",
   "metadata": {},
   "source": [
    "## 2. Valuation\n",
    "\n",
    "Following the initial setup, we can see to configure how LUSID will conduct valuation on the swap. This introduces the concept of recipes, which are a set of steps we specify to the valuation engine."
   ]
  },
  {
   "cell_type": "markdown",
   "metadata": {},
   "source": [
    "### 2.1 Configure the valuation recipe\n",
    "\n",
    "We begin by defining the pricing context under which valuation will be done, this allows to select the model under which we can value the instrument. In our case we have selected _\"Discounting\"_, which will calcualte the swap's present value using a discounted cash flow model. "
   ]
  },
  {
   "cell_type": "code",
   "execution_count": null,
   "metadata": {},
   "outputs": [],
   "source": [
    "def create_pricing_context(market_supplier, model, instrument_type):\n",
    "    return models.PricingContext(\n",
    "        model_rules=[\n",
    "            models.VendorModelRule(\n",
    "                supplier=market_supplier,\n",
    "                model_name=model,\n",
    "                instrument_type=instrument_type,\n",
    "                parameters=\"{}\",\n",
    "            )\n",
    "        ]\n",
    "    )\n",
    "\n",
    "# Select the \"Discounting\" model for pricing an Interest Rate Swap\n",
    "pricing_context = create_pricing_context(market_supplier, \"Discounting\", \"InterestRateSwap\")"
   ]
  },
  {
   "cell_type": "markdown",
   "metadata": {},
   "source": [
    "Next, we need to define the market data context that will be used by the valuation engine. In this case we will set the market data provider as 'Lusid' and use our `market_data_scope`, as set previously. The selection of supplier and source would allow for use of multiple vendors and sources when conducting a valutaion within LUSID. \n",
    "\n",
    "Moreover, within our market_rules, we need to specify the keys by which the valuation engine will resolve the discount curves and Euribor fixings. "
   ]
  },
  {
   "cell_type": "code",
   "execution_count": null,
   "metadata": {},
   "outputs": [],
   "source": [
    "def create_market_context(market_data_scope, supplier):\n",
    "    return models.MarketContext(\n",
    "        # set rules for where we should resolve our rates data. In our case the OIS yield curves.\n",
    "        market_rules=[\n",
    "            models.MarketDataKeyRule(\n",
    "                key=\"Rates.*.*\",\n",
    "                data_scope=market_data_scope,\n",
    "                supplier=supplier,\n",
    "                quote_type='Rate',\n",
    "                field='Mid'),\n",
    "             models.MarketDataKeyRule(\n",
    "                key='Equity.RIC.*',\n",
    "                data_scope=market_data_scope,\n",
    "                supplier=supplier,\n",
    "                quote_type='Rate',\n",
    "                field='Mid'),\n",
    "        ],\n",
    "        # control default options for resolving market data.\n",
    "        options=models.MarketOptions(\n",
    "            default_supplier=supplier,\n",
    "            default_scope=market_data_scope)\n",
    "     )\n",
    "\n",
    "    return market_context\n",
    "\n",
    "# In our case simply default to the LUSID market_supplier.\n",
    "market_context = create_market_context(market_data_scope, market_supplier)"
   ]
  },
  {
   "cell_type": "markdown",
   "metadata": {},
   "source": [
    "With both the pricing model and market data defintions setup in the above models, we can finalize the pricing recipe as shown below using the _ConfigurationRecipe_ model. We will again set the market data scopes, as well as give our recipe a name/code and brief description. "
   ]
  },
  {
   "cell_type": "code",
   "execution_count": null,
   "metadata": {},
   "outputs": [],
   "source": [
    "def create_pricing_recipe(scope, market_context, pricing_context):\n",
    "\n",
    "    return models.ConfigurationRecipe(\n",
    "        scope=scope,\n",
    "        code=\"DiscountingSwap\",\n",
    "        description=\"IRS pricing recipe using  the LUSID 'discounting' model\",\n",
    "        market=market_context,\n",
    "        pricing=pricing_context\n",
    "    )\n",
    "\n",
    "# Create the IRS pricing recipe using our market_data_scope\n",
    "irs_pricing_recipe = create_pricing_recipe(market_data_scope, market_context, pricing_context)"
   ]
  },
  {
   "cell_type": "markdown",
   "metadata": {},
   "source": [
    "### 2.2 Aggregation\n",
    "\n",
    "With the recipes and configurations set for our swap book, we can now setup a request to the valuation engine and create and return the aggregated data. "
   ]
  },
  {
   "cell_type": "code",
   "execution_count": null,
   "metadata": {},
   "outputs": [],
   "source": [
    "def aggregate_pricing(scope, portfolio, recipe, effective_at):\n",
    "    aggregation_request = models.AggregationRequest(\n",
    "        effective_at=effective_at.isoformat(),\n",
    "        inline_recipe=recipe,\n",
    "        metrics=[\n",
    "        models.AggregateSpec(key='Analytic/default/ValuationDate',\n",
    "                             op='Value'),\n",
    "        models.AggregateSpec(key='Analytic/default/NextEvent',\n",
    "                             op='Value'),\n",
    "        models.AggregateSpec(key='Analytic/default/NextEventType',\n",
    "                             op='Value'),\n",
    "        models.AggregateSpec(key='Analytic/default/HoldingCashflows',\n",
    "                             op='Value'),\n",
    "        models.AggregateSpec(key='Analytic/default/Cashflows',\n",
    "                            op='Value'),\n",
    "        models.AggregateSpec(key='Holding/default/PV',\n",
    "                             op='Value'),\n",
    "        models.AggregateSpec(key='Holding/default/Accrual',\n",
    "                             op='Value')\n",
    "        ]\n",
    "    )\n",
    "\n",
    "    return aggregation_api.get_aggregation(scope=scope, \n",
    "                                           code=portfolio,\n",
    "                                           aggregation_request=aggregation_request)\n",
    "\n",
    "results = aggregate_pricing(tradingScope, tradingCode, irs_pricing_recipe, effectiveAt)\n",
    "irs_pv = results.data[0]['Holding/default/PV']\n",
    "\n",
    "valuations = aggregation_result_to_dataframe([['Portfolio PV', effectiveAt, irs_pv]])\n",
    "valuations['Effective At'] = pd.to_datetime(valuations['Effective At'].dt.strftime('%m/%d/%Y %I:%M:%S %p'))\n",
    "display(valuations)"
   ]
  },
  {
   "cell_type": "markdown",
   "metadata": {},
   "source": [
    "We can now visualize the upcoming cash flows for both legs from the response, and plot the net cash flows. "
   ]
  },
  {
   "cell_type": "code",
   "execution_count": null,
   "metadata": {},
   "outputs": [],
   "source": [
    "# We can build a cash flow table from the 'cashflows' of the response\n",
    "cashflows = results.data[0]['Analytic/default/Cashflows']\n",
    "\n",
    "labels = cashflows['slices']['Pay']['labelsY']\n",
    "cf_pay = cashflows['slices']['Pay']['values']\n",
    "cf_rec = cashflows['slices']['Receive']['values']\n",
    "\n",
    "data ={\n",
    "    'Dates':[keys for keys, values in labels.items()],\n",
    "    'CF Pay':[values for keys, values in cf_pay.items()],\n",
    "    'CF Receive':[values for keys, values in cf_rec.items()],\n",
    "}\n",
    "\n",
    "# Create a dataframe and add a 'Net' column\n",
    "cf_table = pd.DataFrame(data)\n",
    "cf_table['CF Net'] = cf_table['CF Pay']+cf_table['CF Receive']\n",
    "\n",
    "cf_table.plot.bar(x='Dates', y='CF Net', color = '#ff5200')\n",
    "plt.title('Cash Flow Chart (Net)')\n",
    "plt.ylabel('EUR')\n",
    "display(cf_table)\n",
    "plt.show()"
   ]
  },
  {
   "cell_type": "markdown",
   "metadata": {},
   "source": [
    "## 3. Historical Cash Flows\n",
    "\n",
    "### 3.1 Update Fixings for Historical Resets\n",
    "\n",
    "With our previous example being a dated 10y EUR swap, we would imagine our portfolio to have incurred some impacts to its cash balance as a result of an outlfow/inflow on payment dates. These can be illustrated in LUSID by creating transactions that adjust the cash balance.\n",
    "\n",
    "For historical cash flows, we will need some market data again in order to determine the fixings on our floating leg, which in our example we've previously uploaded. We can use the `QuotesApi` to query the Euribor 6M fixings as shown below. "
   ]
  },
  {
   "cell_type": "code",
   "execution_count": null,
   "metadata": {},
   "outputs": [],
   "source": [
    "# Create a quotes filter\n",
    "quotes_filter = f\"quoteId.quoteSeriesId.instrumentId eq 'EUR6M'\"\n",
    "\n",
    "def get_quotes(scope, quotes_filter):\n",
    "    response = quotes_api.list_quotes_for_scope(\n",
    "        scope=scope,\n",
    "        filter=quotes_filter\n",
    "    )\n",
    "    return response\n",
    "    \n",
    "# Get resets and store values   \n",
    "quotes = get_quotes(market_data_scope, quotes_filter).values\n",
    "dates = [quote.quote_id.effective_at[0:10] for quote in quotes]\n",
    "fixings = [quote.metric_value.value * 100 for quote in quotes]\n",
    "resets_df = pd.DataFrame({'Dates': dates, 'Fixings': fixings}).drop_duplicates(['Dates'])\n",
    "resets_df"
   ]
  },
  {
   "cell_type": "markdown",
   "metadata": {},
   "source": [
    "Next, we will query the payment dates from our swap instrument, which can be done with a similar aggregation as used previously for valuation purposes. However, in this case we will only query _HoldingCashFlows_, as we will need to use a historical effective date which wouldn't work when calling _valuation_ as we are missing the historical curve data. (Naturally, with historical curve data in LUSID, we could query using the same function as above.)"
   ]
  },
  {
   "cell_type": "code",
   "execution_count": null,
   "metadata": {},
   "outputs": [],
   "source": [
    "def aggregate_dates(scope, portfolio, recipe, effective_at):\n",
    "    aggregation_request = models.AggregationRequest(\n",
    "        effective_at=effective_at.isoformat(),\n",
    "        inline_recipe=recipe,\n",
    "        metrics=[\n",
    "        models.AggregateSpec(key='Analytic/default/HoldingCashflows',\n",
    "                             op='Value')]\n",
    "            )\n",
    "                        \n",
    "    return aggregation_api.get_aggregation(scope=scope, \n",
    "                                           code=portfolio,\n",
    "                                           aggregation_request=aggregation_request)\n",
    "            \n",
    "\n",
    "results = aggregate_dates(tradingScope, tradingCode, irs_pricing_recipe, start_date)\n",
    "payment_dates = results.data[0]['Analytic/default/HoldingCashflows']['slices']['Pay']['labelsY']\n",
    "payment_dates = [keys.replace('/','-') for keys, values in payment_dates.items()]"
   ]
  },
  {
   "cell_type": "code",
   "execution_count": null,
   "metadata": {},
   "outputs": [],
   "source": [
    "# Check payment dates against fixings and create a cashflow table\n",
    "payment_frq = 2\n",
    "\n",
    "df = resets_df[resets_df['Dates'].isin(payment_dates)]\n",
    "df['Receive'] = df.loc[:,[\"Fixings\"]]/(payment_frq * 100) * dom_amount\n",
    "df['Pay'] = [250000.0, 250000.0]\n",
    "df"
   ]
  },
  {
   "cell_type": "markdown",
   "metadata": {},
   "source": [
    "### 3.2 Create Transactions with Properties\n",
    "\n",
    "Using our EUR006M fixings, we can determine the historical cash flows that would have taken place prior to today's valuation. Within LUSID, these can be stored using separate holding keys, which are a special type of transaction property that allow a user to differentiate between transactions on the same instrument. You can learn more about these type of properties [here](https://support.finbourne.com/how-are-subholding-keys-used-to-capture-different-investment-strategies). \n",
    "\n",
    "In our example the property will allow us to distinguish between cash flows that come from the pay/receive legs. Naturally, these could be applied using different property definitions as well, such as relating to a particular broker, custodian, fund accountant, etc.   "
   ]
  },
  {
   "cell_type": "code",
   "execution_count": null,
   "metadata": {},
   "outputs": [],
   "source": [
    "# Setup transaction property\n",
    "domain = \"Transaction\"\n",
    "scope = tradingScope\n",
    "property_code = \"LegSide\"\n",
    "\n",
    "try:\n",
    "    property_definitions_api.create_property_definition(\n",
    "        create_property_definition_request=lusid.models.CreatePropertyDefinitionRequest(\n",
    "            domain = domain,\n",
    "            scope = scope,\n",
    "            code = property_code,\n",
    "            value_required = None,\n",
    "            display_name = \"Pay/Receive Cash Flow Key\",\n",
    "            data_type_id = lusid.ResourceId(scope=\"system\", code=\"string\"),\n",
    "            life_time = None\n",
    "        )\n",
    "    )\n",
    "\n",
    "except lusid.exceptions.ApiException as e:\n",
    "    print(json.loads(e.body)[\"title\"])"
   ]
  },
  {
   "cell_type": "code",
   "execution_count": null,
   "metadata": {},
   "outputs": [],
   "source": [
    "# Book cash transactions - 1st Payment Date\n",
    "cashTransaction1 = models.TransactionRequest(\n",
    "    transaction_id=\"TXN002\",\n",
    "    type=\"FundsOut\",\n",
    "    instrument_identifiers={\"Instrument/default/Currency\":\"EUR\"},\n",
    "    transaction_date=fix_date_2.isoformat(),\n",
    "    settlement_date=fix_date_2.isoformat(),\n",
    "    units=250000.00,\n",
    "    transaction_price=models.TransactionPrice(price=1,type=\"Price\"),\n",
    "    total_consideration=models.CurrencyAndAmount(amount=1,currency=\"EUR\"),\n",
    "    exchange_rate=1,\n",
    "    transaction_currency=\"EUR\",\n",
    "    properties = {f\"Transaction/{tradingScope}/{property_code}\" : lusid.PerpetualProperty(\n",
    "        key = f\"Transaction/{tradingScope}/{property_code}\",\n",
    "        value = lusid.PropertyValue(label_value = \"Pay\")\n",
    "    )             \n",
    "                 }\n",
    ")\n",
    "\n",
    "cashTransaction2 = models.TransactionRequest(\n",
    "    transaction_id=\"TXN003\",\n",
    "    type=\"FundsIn\",\n",
    "    instrument_identifiers={\"Instrument/default/Currency\":\"EUR\"},\n",
    "    transaction_date=fix_date_2.isoformat(),\n",
    "    settlement_date=fix_date_2.isoformat(),\n",
    "    units=-82500.00,\n",
    "    transaction_price=models.TransactionPrice(price=1,type=\"Price\"),\n",
    "    total_consideration=models.CurrencyAndAmount(amount=1,currency=\"EUR\"),\n",
    "    exchange_rate=1,\n",
    "    transaction_currency=\"EUR\",\n",
    "    properties = {f\"Transaction/{tradingScope}/{property_code}\" : lusid.PerpetualProperty(\n",
    "        key = f\"Transaction/{tradingScope}/{property_code}\",\n",
    "        value = lusid.PropertyValue(label_value = \"Receive\")\n",
    "    )             \n",
    "                 }\n",
    ")\n",
    "\n",
    "\n",
    "# Book cash transactions - 2nd Payment Date\n",
    "cashTransaction3 = models.TransactionRequest(\n",
    "    transaction_id=\"TXN004\",\n",
    "    type=\"FundsOut\",\n",
    "    instrument_identifiers={\"Instrument/default/Currency\":\"EUR\"},\n",
    "    transaction_date=fix_date_3.isoformat(),\n",
    "    settlement_date=fix_date_3.isoformat(),\n",
    "    units=250000.00,\n",
    "    transaction_price=models.TransactionPrice(price=1,type=\"Price\"),\n",
    "    total_consideration=models.CurrencyAndAmount(amount=1,currency=\"EUR\"),\n",
    "    exchange_rate=1,\n",
    "    transaction_currency=\"EUR\",\n",
    "    properties = {f\"Transaction/{tradingScope}/{property_code}\" : lusid.PerpetualProperty(\n",
    "        key = f\"Transaction/{tradingScope}/{property_code}\",\n",
    "        value = lusid.PropertyValue(label_value = \"Pay\")\n",
    "    )             \n",
    "                 }\n",
    ")\n",
    "\n",
    "cashTransaction4 = models.TransactionRequest(\n",
    "    transaction_id=\"TXN005\",\n",
    "    type=\"FundsIn\",\n",
    "    instrument_identifiers={\"Instrument/default/Currency\":\"EUR\"},\n",
    "    transaction_date=fix_date_3.isoformat(),\n",
    "    settlement_date=fix_date_3.isoformat(),\n",
    "    units=-69000.00,\n",
    "    transaction_price=models.TransactionPrice(price=1,type=\"Price\"),\n",
    "    total_consideration=models.CurrencyAndAmount(amount=1,currency=\"EUR\"),\n",
    "    exchange_rate=1,\n",
    "    transaction_currency=\"EUR\",\n",
    "    properties = {f\"Transaction/{tradingScope}/{property_code}\" : lusid.PerpetualProperty(\n",
    "        key = f\"Transaction/{tradingScope}/{property_code}\",\n",
    "        value = lusid.PropertyValue(label_value = \"Receive\")\n",
    "    )             \n",
    "                 }\n",
    ")\n",
    "\n",
    "\n",
    "response = transaction_portfolios_api.upsert_transactions(scope=tradingScope,\n",
    "                                                    code=tradingCode,\n",
    "                                                    transaction_request=[\n",
    "                                                        cashTransaction1, \n",
    "                                                        cashTransaction2, \n",
    "                                                        cashTransaction3, \n",
    "                                                        cashTransaction4\n",
    "                                                    ])"
   ]
  },
  {
   "cell_type": "markdown",
   "metadata": {},
   "source": [
    "### 3.3 Aggregate Cash Flows\n",
    "\n",
    "With the transactions updated into the portfolio, we can now query the holdings which will include our updated total cash balance. Given the negative rates on the floating leg, we can see that the original EUR 1MM is reduced significantly as a result of this. In order to run the query, we use the [**get_holdings**](https://www.lusid.com/docs/api/#operation/GetHoldings) call with a reference to our portfolio's scope and code. "
   ]
  },
  {
   "cell_type": "code",
   "execution_count": null,
   "metadata": {},
   "outputs": [],
   "source": [
    "response = transaction_portfolios_api.get_holdings(\n",
    "    scope=tradingScope, \n",
    "    code=tradingCode, \n",
    "    property_keys=[\"Instrument/default/Name\"], \n",
    " \n",
    ")\n",
    "df_balance = pd.DataFrame({'Current Balance' : [response.values[1].settled_units]})\n",
    "df_balance"
   ]
  },
  {
   "cell_type": "markdown",
   "metadata": {},
   "source": [
    "Using the previously set transaction properties, we can now query these to distinguish between different types of cash inflows and outfows. We should now be able to separate pay/receive-leg cash flows. Without the transaction key-value pairs, this might be difficult in a larger book of swaps, given that the receiving cash flows are negative.\n",
    "\n",
    "Using the same API, we can run the [**get_transactions**](https://www.lusid.com/docs/api/#operation/GetTransactions) call for the scope of our portfolio. Additionally, since we are looking to separate based on values of the transaction property we can add a property filter to the call which results in the following to datasets."
   ]
  },
  {
   "cell_type": "code",
   "execution_count": null,
   "metadata": {},
   "outputs": [],
   "source": [
    "response_pay = transaction_portfolios_api.get_transactions(scope = tradingScope, \n",
    "                                                           code = tradingCode,\n",
    "                                                           filter = f\"properties.Transaction/{tradingScope}/{property_code} eq 'Pay'\")\n",
    "\n",
    "response_rec = transaction_portfolios_api.get_transactions(scope = tradingScope, \n",
    "                                                           code = tradingCode,\n",
    "                                                           filter = f\"properties.Transaction/{tradingScope}/{property_code} eq 'Receive'\")\n",
    "\n",
    "df_pay = lusid_response_to_data_frame(response_pay.values)\n",
    "df_rec = lusid_response_to_data_frame(response_rec.values)\n",
    "\n",
    "display(df_pay)\n",
    "display(df_rec)"
   ]
  }
 ],
 "metadata": {
  "kernelspec": {
   "display_name": "Python 3",
   "language": "python",
   "name": "python3"
  },
  "language_info": {
   "codemirror_mode": {
    "name": "ipython",
    "version": 3
   },
   "file_extension": ".py",
   "mimetype": "text/x-python",
   "name": "python",
   "nbconvert_exporter": "python",
   "pygments_lexer": "ipython3",
   "version": "3.8.5"
  }
 },
 "nbformat": 4,
 "nbformat_minor": 4
}