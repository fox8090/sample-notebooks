{
 "cells": [
  {
   "cell_type": "code",
   "execution_count": 1,
   "metadata": {},
   "outputs": [
    {
     "data": {
      "text/plain": "<IPython.core.display.HTML object>",
      "text/html": "\n    <form action=\"javascript:code_toggle()\"><input type=\"submit\" id=\"toggleButton\" value=\"Hide docstring\"></form>\n    \n         <script>\n         function code_toggle() {\n             if ($('div.cell.code_cell.rendered.selected div.input').css('display')!='none'){\n                 $('div.cell.code_cell.rendered.selected div.input').hide();\n             } else {\n                 $('div.cell.code_cell.rendered.selected div.input').show();\n             }\n         }\n         </script>\n\n     "
     },
     "metadata": {},
     "output_type": "display_data"
    }
   ],
   "source": [
    "import numpy as np\n",
    "from lusidtools.jupyter_tools import toggle_code\n",
    "\n",
    "\"\"\"Interest Rate Swap Valuation\n",
    "\n",
    "Demonstrates pricing of an Interes Rate Swap based on a user defined Instrument.\n",
    "\n",
    "Attributes\n",
    "----------\n",
    "instruments\n",
    "aggregation\n",
    "market data store\n",
    "results store\n",
    "quotes\n",
    "\"\"\"\n",
    "\n",
    "toggle_code(\"Hide docstring\")"
   ]
  },
  {
   "cell_type": "code",
   "execution_count": 2,
   "outputs": [
    {
     "name": "stdout",
     "output_type": "stream",
     "text": [
      "LUSID Environment Initialised\n",
      "LUSID SDK Version:  0.6.9569.0\n"
     ]
    }
   ],
   "source": [
    "# Import LUSID\n",
    "import lusid as lu\n",
    "import lusid.models as lm\n",
    "\n",
    "from lusidtools.pandas_utils.lusid_pandas import lusid_response_to_data_frame\n",
    "\n",
    "# Import Libraries\n",
    "from datetime import datetime, timedelta, time\n",
    "from IPython.display import display_html\n",
    "import pytz\n",
    "import pandas as pd\n",
    "import matplotlib.pyplot as plt\n",
    "import matplotlib as mpl\n",
    "import numpy as np\n",
    "from lusidjam.refreshing_token import RefreshingToken\n",
    "import json\n",
    "import os\n",
    "\n",
    "# Settings and utility functions to display objects and responses more clearly.\n",
    "pd.set_option('float_format', '{:,.4f}'.format)\n",
    "\n",
    "# Set the secrets path\n",
    "secrets_path = os.getenv(\"FBN_SECRETS_PATH\")\n",
    "\n",
    "if secrets_path is None:\n",
    "  secrets_path = os.path.join(os.path.dirname(os.getcwd()), \"secrets.json\")\n",
    "\n",
    "api_factory = lu.utilities.ApiClientFactory(\n",
    "        token=RefreshingToken(),\n",
    "        api_secrets_filename = secrets_path,\n",
    "        app_name=\"LusidJupyterNotebook\")\n",
    "\n",
    "print ('LUSID Environment Initialised')\n",
    "print ('LUSID SDK Version: ', api_factory.build(lu.api.ApplicationMetadataApi).get_lusid_versions().build_version)\n"
   ],
   "metadata": {
    "collapsed": false,
    "pycharm": {
     "name": "#%%\n"
    }
   }
  },
  {
   "cell_type": "markdown",
   "metadata": {},
   "source": [
    "## Interest Rate Swap Valuation \n",
    "\n",
    "This notebook illustrates construction of an interest rate swap and using the LUSID instrument definition. With the instrument setup, the notebook will cover valuations and cash flow projections as well as some handling for life cycle events.\n",
    "\n",
    "For valuations, we will be looking to use the LUSID valuation engine's _'Discounting'_ model, which will depend on a set of user-defined curves to discount each cash flows and project resets.\n",
    "\n",
    "The example instrument we will be constructing is a vanilla interest rate swap with the following parameters:\n",
    "\n",
    "    -  Coupon Rate: 2%\n",
    "    -  Spread: 0bp\n",
    "    -  Start Date: 01/10/2019\n",
    "    -  Maturity: ~10Y (front stub)\n",
    "    -  Currency: USD\n",
    "    -  Payment Frequency: 6M\n",
    "    -  Index: ESTRON 1D\n",
    "    -  Side: Receive Fixed\n",
    "\n",
    "Notice the selection of an OIS/RFR based rate for the floating leg, which the system currently supports for calculation of accruals under various methods that include look-back averages and compounding on the overnight rate.\n",
    "\n",
    "### Table of contents\n",
    "1. [Setup LUSID and relevant objects](#1.-Setup-LUSID-and-required-API-objects)\n",
    "  * [1.1 Interest Rate Swap Definition](#1.1-Interest-Rate-Swap-Definition)\n",
    "  * [1.2 Curves and Market Data](#1.2-Curve-and-Market-Data)\n",
    "  * [1.3 Setup Portfolio](#1.3-Setup-Portfolio)\n",
    "  * [1.4 Add Transactions](#1.4-Add-Transactions)\n",
    "2. [Valuation and Cash Flows](#2.-Valuation)\n",
    "  * [2.1 Configure the valuation recipe](#2.1-Configure-the-valuation-recipe)\n",
    "  * [2.2 Cash Flows](#2.2-Cash-Flows)\n",
    "  * [2.3 Curves](#2.3-Curves)\n",
    "  * [2.4 Valuation](#2.4-Valuation)\n",
    "  * [2.5 Cash Flow Overrieds](#2.5-Cash-Flow-Overrides)\n",
    "3. [Instrument Life Cycle](#3.-Instrument-Life-Cycle-and-Overrides)\n",
    "  * [3.1 Cash Handling on Payment Date](#3.1-Cash-Handling-on-Payment-Date)\n",
    "4. [P&L Reporting](#4.-P&L-Reporting)\n",
    "  * [4.1 A2B Report for P&L](#4.1-A2B-Report-for_P&L)"
   ]
  },
  {
   "cell_type": "markdown",
   "metadata": {},
   "source": [
    "## 1. Setup LUSID and relevant objects"
   ]
  },
  {
   "cell_type": "code",
   "execution_count": 3,
   "outputs": [],
   "source": [
    "# Initiate the LUSID APIs required for the notebook\n",
    "instruments_api = api_factory.build(lu.api.InstrumentsApi)\n",
    "transaction_portfolios_api = api_factory.build(lu.api.TransactionPortfoliosApi)\n",
    "quotes_api = api_factory.build(lu.api.QuotesApi)\n",
    "complex_market_data_api = api_factory.build(lu.api.ComplexMarketDataApi)\n",
    "configuration_recipe_api = api_factory.build(lu.api.ConfigurationRecipeApi)\n",
    "aggregation_api = api_factory.build(lu.AggregationApi)\n",
    "structured_result_data_api = api_factory.build(lu.api.StructuredResultDataApi)"
   ],
   "metadata": {
    "collapsed": false,
    "pycharm": {
     "name": "#%%\n"
    }
   }
  },
  {
   "cell_type": "code",
   "execution_count": 4,
   "metadata": {},
   "outputs": [],
   "source": [
    "# Define helper tools\n",
    "def df_add_utc(df: pd.DataFrame) -> None:\n",
    "    # UTC methods for common naive datetime types\n",
    "    date_conv_methods = {\n",
    "        'datetime': lambda x: x.replace(tzinfo=pytz.utc),\n",
    "        'datetime64[ns]': lambda x: x.tz_localize('UTC')\n",
    "    }\n",
    "\n",
    "    for column in df.columns:\n",
    "        dtyp = str(df[column].dtype)\n",
    "        # Add tzinfo to naive series or dt object\n",
    "        if dtyp in date_conv_methods.keys():\n",
    "            df[column] = df[column].map(date_conv_methods.get(dtyp))\n",
    "\n",
    "def get_instrument(\n",
    "        identifier: str,\n",
    "        identifier_type: str=\"ClientInternal\",\n",
    "        scope: str=None,\n",
    "   )-> lm.Instrument:\n",
    "    return instruments_api.get_instrument(\n",
    "        identifier_type=identifier_type,\n",
    "        identifier=identifier,\n",
    "        scope=scope\n",
    "    )\n"
   ]
  },
  {
   "cell_type": "markdown",
   "metadata": {},
   "source": [
    "### 1.1 Interest Rate Swap Definition"
   ]
  },
  {
   "cell_type": "markdown",
   "metadata": {},
   "source": [
    "We can begin by setting the contract details of the swap which we will feed into LUSID. In this case we will be looking at a 10y EUR-OIS swap with a short front stub."
   ]
  },
  {
   "cell_type": "code",
   "execution_count": 5,
   "metadata": {},
   "outputs": [],
   "source": [
    "# Set swap details\n",
    "trade_date = datetime(2022, 2, 10, 0, 0, tzinfo=pytz.utc)\n",
    "start_date = trade_date\n",
    "end_date = datetime(2032, 1, 31, 0, 0, tzinfo=pytz.utc)\n",
    "instrument_ccy = \"EUR\"\n",
    "payment_frequency = \"6M\"\n",
    "index_tenor = \"1D\"\n",
    "reference_index = \"ESTRON\"\n",
    "notional = 10000000\n",
    "cpn = 0.02\n",
    "spread = 0\n",
    "day_count_convention = \"Actual360\"\n",
    "stub_type = \"ShortFront\"\n",
    "name = \"EUROIS.REC.10Y\"\n",
    "instrument_identifier = \"EUR-OIS-SWAP001\"\n",
    "\n",
    "# Set the valuation date\n",
    "effective_at = datetime(2022, 6, 10, 0, 0, tzinfo=pytz.utc)"
   ]
  },
  {
   "cell_type": "markdown",
   "metadata": {},
   "source": [
    "Within LUSID, an interest rate swap will need to be defined by first creating each leg, which will depend on a [_flow convention_](https://www.lusid.com/docs/api#operation/UpsertFlowConventions) that sets the payment details. As shown below, this  is where we determine details such as the payment frequency and day count conventions.\n",
    "\n",
    "Notice that in this example we unitize the swap notional and pass a value of 1, where the actual notional will be passed on the transaction/holding level.\n",
    "\n",
    "For the floating leg, we will also use a model that sets the [_index convention_](https://www.lusid.com/docs/api#operation/UpsertIndexConvention), which is where we will specify details relating to the ESTRON reference index. The details in the index convention will later be used to tie the instrument back to market data elements such as ESTRON fixings and the related forward curve."
   ]
  },
  {
   "cell_type": "code",
   "execution_count": 6,
   "outputs": [],
   "source": [
    "# Set the scope of the instruments (optional/nullable)\n",
    "instrument_scope = \"EurOisNotebook\""
   ],
   "metadata": {
    "collapsed": false,
    "pycharm": {
     "name": "#%%\n"
    }
   }
  },
  {
   "cell_type": "code",
   "execution_count": 7,
   "outputs": [],
   "source": [
    "# Create the fixed leg details\n",
    "fixed_flows = lm.FlowConventions(\n",
    "    currency=instrument_ccy,\n",
    "    payment_frequency=payment_frequency,\n",
    "    day_count_convention=day_count_convention,\n",
    "    roll_convention=\"ModifiedFollowing\",\n",
    "    payment_calendars=[],\n",
    "    reset_calendars=[],\n",
    "    settle_days=0,\n",
    "    reset_days=0\n",
    ")\n",
    "\n",
    "fixed_leg_definition = lm.LegDefinition(\n",
    "    rate_or_spread=cpn,\n",
    "    pay_receive=\"Receive\",\n",
    "    conventions=lm.FlowConventions(\n",
    "        currency=instrument_ccy,\n",
    "        payment_frequency=payment_frequency,\n",
    "        day_count_convention=day_count_convention,\n",
    "        roll_convention=\"ModifiedFollowing\",\n",
    "        payment_calendars=[],\n",
    "        reset_calendars=[],\n",
    "        settle_days=0,\n",
    "        reset_days=0\n",
    "    ),\n",
    "    stub_type=stub_type,\n",
    "    notional_exchange_type=\"None\"\n",
    ")\n",
    "\n",
    "# Persist the fixed leg\n",
    "fixed_leg = lm.FixedLeg(\n",
    "    start_date=start_date,\n",
    "    maturity_date=end_date,\n",
    "    # Unitized notional, could also be passed directly as 10MM\n",
    "    notional=1,\n",
    "    leg_definition=fixed_leg_definition,\n",
    "    instrument_type=\"FixedLeg\"\n",
    ")"
   ],
   "metadata": {
    "collapsed": false,
    "pycharm": {
     "name": "#%%\n"
    }
   }
  },
  {
   "cell_type": "code",
   "execution_count": 8,
   "outputs": [],
   "source": [
    "# Create the floating leg details\n",
    "floating_leg_definition = lm.LegDefinition(\n",
    "    rate_or_spread = spread,\n",
    "    index_convention = lm.IndexConvention(\n",
    "        currency=instrument_ccy,\n",
    "        payment_tenor=index_tenor,\n",
    "        fixing_reference=reference_index,\n",
    "        publication_day_lag=0,\n",
    "        day_count_convention=day_count_convention,\n",
    "        index_name=reference_index\n",
    "    ),\n",
    "    pay_receive=\"Pay\",\n",
    "    conventions=lm.FlowConventions(\n",
    "        currency=instrument_ccy,\n",
    "        payment_frequency=payment_frequency,\n",
    "        day_count_convention=day_count_convention,\n",
    "        roll_convention=\"ModifiedFollowing\",\n",
    "        payment_calendars=[],\n",
    "        reset_calendars=[],\n",
    "        settle_days=0,\n",
    "        reset_days=0\n",
    "    ),\n",
    "    stub_type=stub_type,\n",
    "    notional_exchange_type=\"None\",\n",
    "    reset_convention=\"InArrears\",\n",
    "    compounding=lm.Compounding(\n",
    "        compounding_method=\"Compounded\",\n",
    "        reset_frequency=\"1D\",\n",
    "        spread_compounding_method=\"SpreadExclusive\"\n",
    "    )\n",
    ")\n",
    "\n",
    "# Persist floating leg\n",
    "floating_leg = lm.FloatingLeg(\n",
    "    start_date=start_date,\n",
    "    maturity_date=end_date,\n",
    "    # Unitized notional, could also be passed directly\n",
    "    notional=1,\n",
    "    leg_definition=floating_leg_definition,\n",
    "    instrument_type=\"FloatingLeg\"\n",
    ")"
   ],
   "metadata": {
    "collapsed": false,
    "pycharm": {
     "name": "#%%\n"
    }
   }
  },
  {
   "cell_type": "markdown",
   "metadata": {},
   "source": [
    "Using the above definitions we can move to building the swap and passing its component legs as part of an array."
   ]
  },
  {
   "cell_type": "code",
   "execution_count": 9,
   "metadata": {},
   "outputs": [
    {
     "name": "stdout",
     "output_type": "stream",
     "text": [
      "Instrument EUROIS.REC.10Y was successfully upserted into LUSID\n"
     ]
    }
   ],
   "source": [
    "# Store legs in a list\n",
    "irs_legs = [\n",
    "    fixed_leg,\n",
    "    floating_leg\n",
    "]\n",
    "\n",
    "#create the swap\n",
    "instrument_definition = lm.InterestRateSwap(\n",
    "    start_date=start_date,\n",
    "    maturity_date=end_date,\n",
    "    legs=irs_legs,\n",
    "    instrument_type=\"InterestRateSwap\"\n",
    ")\n",
    "\n",
    "\n",
    "# create instrument definition\n",
    "swap_instrument_definition = lm.InstrumentDefinition(\n",
    "    name=name,\n",
    "    identifiers={\"ClientInternal\": lm.InstrumentIdValue(value=instrument_identifier)},\n",
    "    definition=instrument_definition\n",
    ")\n",
    "upsert_request = {instrument_identifier: swap_instrument_definition}\n",
    "\n",
    "#upsert instrument to LUSID\n",
    "response = instruments_api.upsert_instruments(\n",
    "    request_body=upsert_request,\n",
    "    scope=instrument_scope\n",
    ")\n",
    "\n",
    "if len(response.failed) == 0:\n",
    "    print(f\"Instrument {swap_instrument_definition.name} was successfully upserted into LUSID\")\n",
    "else:\n",
    "    print(\"An error occurred with the above upsert_instruments call, see error message:\", response.failed)"
   ]
  },
  {
   "cell_type": "code",
   "execution_count": 10,
   "metadata": {},
   "outputs": [
    {
     "data": {
      "text/html": "<style  type=\"text/css\" >\n</style><table id=\"T_d8db6938_fa10_11ec_a213_ccd9ac6a7fe7\" style='display:inline'><caption>Floating Leg</caption><thead>    <tr>        <th class=\"blank level0\" ></th>        <th class=\"col_heading level0 col0\" >response_values</th>    </tr></thead><tbody>\n                <tr>\n                        <th id=\"T_d8db6938_fa10_11ec_a213_ccd9ac6a7fe7level0_row0\" class=\"row_heading level0 row0\" >start_date</th>\n                        <td id=\"T_d8db6938_fa10_11ec_a213_ccd9ac6a7fe7row0_col0\" class=\"data row0 col0\" >2022-02-10 00:00:00+00:00</td>\n            </tr>\n            <tr>\n                        <th id=\"T_d8db6938_fa10_11ec_a213_ccd9ac6a7fe7level0_row1\" class=\"row_heading level0 row1\" >maturity_date</th>\n                        <td id=\"T_d8db6938_fa10_11ec_a213_ccd9ac6a7fe7row1_col0\" class=\"data row1 col0\" >2032-01-31 00:00:00+00:00</td>\n            </tr>\n            <tr>\n                        <th id=\"T_d8db6938_fa10_11ec_a213_ccd9ac6a7fe7level0_row2\" class=\"row_heading level0 row2\" >leg_definition.convention_name</th>\n                        <td id=\"T_d8db6938_fa10_11ec_a213_ccd9ac6a7fe7row2_col0\" class=\"data row2 col0\" >None</td>\n            </tr>\n            <tr>\n                        <th id=\"T_d8db6938_fa10_11ec_a213_ccd9ac6a7fe7level0_row3\" class=\"row_heading level0 row3\" >leg_definition.conventions.currency</th>\n                        <td id=\"T_d8db6938_fa10_11ec_a213_ccd9ac6a7fe7row3_col0\" class=\"data row3 col0\" >EUR</td>\n            </tr>\n            <tr>\n                        <th id=\"T_d8db6938_fa10_11ec_a213_ccd9ac6a7fe7level0_row4\" class=\"row_heading level0 row4\" >leg_definition.conventions.payment_frequency</th>\n                        <td id=\"T_d8db6938_fa10_11ec_a213_ccd9ac6a7fe7row4_col0\" class=\"data row4 col0\" >6M</td>\n            </tr>\n            <tr>\n                        <th id=\"T_d8db6938_fa10_11ec_a213_ccd9ac6a7fe7level0_row5\" class=\"row_heading level0 row5\" >leg_definition.conventions.day_count_convention</th>\n                        <td id=\"T_d8db6938_fa10_11ec_a213_ccd9ac6a7fe7row5_col0\" class=\"data row5 col0\" >Actual360</td>\n            </tr>\n            <tr>\n                        <th id=\"T_d8db6938_fa10_11ec_a213_ccd9ac6a7fe7level0_row6\" class=\"row_heading level0 row6\" >leg_definition.conventions.roll_convention</th>\n                        <td id=\"T_d8db6938_fa10_11ec_a213_ccd9ac6a7fe7row6_col0\" class=\"data row6 col0\" >ModifiedFollowing</td>\n            </tr>\n            <tr>\n                        <th id=\"T_d8db6938_fa10_11ec_a213_ccd9ac6a7fe7level0_row7\" class=\"row_heading level0 row7\" >leg_definition.conventions.payment_calendars</th>\n                        <td id=\"T_d8db6938_fa10_11ec_a213_ccd9ac6a7fe7row7_col0\" class=\"data row7 col0\" >[]</td>\n            </tr>\n            <tr>\n                        <th id=\"T_d8db6938_fa10_11ec_a213_ccd9ac6a7fe7level0_row8\" class=\"row_heading level0 row8\" >leg_definition.conventions.reset_calendars</th>\n                        <td id=\"T_d8db6938_fa10_11ec_a213_ccd9ac6a7fe7row8_col0\" class=\"data row8 col0\" >[]</td>\n            </tr>\n            <tr>\n                        <th id=\"T_d8db6938_fa10_11ec_a213_ccd9ac6a7fe7level0_row9\" class=\"row_heading level0 row9\" >leg_definition.conventions.settle_days</th>\n                        <td id=\"T_d8db6938_fa10_11ec_a213_ccd9ac6a7fe7row9_col0\" class=\"data row9 col0\" >0</td>\n            </tr>\n            <tr>\n                        <th id=\"T_d8db6938_fa10_11ec_a213_ccd9ac6a7fe7level0_row10\" class=\"row_heading level0 row10\" >leg_definition.conventions.reset_days</th>\n                        <td id=\"T_d8db6938_fa10_11ec_a213_ccd9ac6a7fe7row10_col0\" class=\"data row10 col0\" >0</td>\n            </tr>\n            <tr>\n                        <th id=\"T_d8db6938_fa10_11ec_a213_ccd9ac6a7fe7level0_row11\" class=\"row_heading level0 row11\" >leg_definition.conventions.leap_days_included</th>\n                        <td id=\"T_d8db6938_fa10_11ec_a213_ccd9ac6a7fe7row11_col0\" class=\"data row11 col0\" >True</td>\n            </tr>\n            <tr>\n                        <th id=\"T_d8db6938_fa10_11ec_a213_ccd9ac6a7fe7level0_row12\" class=\"row_heading level0 row12\" >leg_definition.conventions.scope</th>\n                        <td id=\"T_d8db6938_fa10_11ec_a213_ccd9ac6a7fe7row12_col0\" class=\"data row12 col0\" >None</td>\n            </tr>\n            <tr>\n                        <th id=\"T_d8db6938_fa10_11ec_a213_ccd9ac6a7fe7level0_row13\" class=\"row_heading level0 row13\" >leg_definition.conventions.code</th>\n                        <td id=\"T_d8db6938_fa10_11ec_a213_ccd9ac6a7fe7row13_col0\" class=\"data row13 col0\" >None</td>\n            </tr>\n            <tr>\n                        <th id=\"T_d8db6938_fa10_11ec_a213_ccd9ac6a7fe7level0_row14\" class=\"row_heading level0 row14\" >leg_definition.index_convention.fixing_reference</th>\n                        <td id=\"T_d8db6938_fa10_11ec_a213_ccd9ac6a7fe7row14_col0\" class=\"data row14 col0\" >ESTRON</td>\n            </tr>\n            <tr>\n                        <th id=\"T_d8db6938_fa10_11ec_a213_ccd9ac6a7fe7level0_row15\" class=\"row_heading level0 row15\" >leg_definition.index_convention.publication_day_lag</th>\n                        <td id=\"T_d8db6938_fa10_11ec_a213_ccd9ac6a7fe7row15_col0\" class=\"data row15 col0\" >0</td>\n            </tr>\n            <tr>\n                        <th id=\"T_d8db6938_fa10_11ec_a213_ccd9ac6a7fe7level0_row16\" class=\"row_heading level0 row16\" >leg_definition.index_convention.payment_tenor</th>\n                        <td id=\"T_d8db6938_fa10_11ec_a213_ccd9ac6a7fe7row16_col0\" class=\"data row16 col0\" >1D</td>\n            </tr>\n            <tr>\n                        <th id=\"T_d8db6938_fa10_11ec_a213_ccd9ac6a7fe7level0_row17\" class=\"row_heading level0 row17\" >leg_definition.index_convention.day_count_convention</th>\n                        <td id=\"T_d8db6938_fa10_11ec_a213_ccd9ac6a7fe7row17_col0\" class=\"data row17 col0\" >Actual360</td>\n            </tr>\n            <tr>\n                        <th id=\"T_d8db6938_fa10_11ec_a213_ccd9ac6a7fe7level0_row18\" class=\"row_heading level0 row18\" >leg_definition.index_convention.currency</th>\n                        <td id=\"T_d8db6938_fa10_11ec_a213_ccd9ac6a7fe7row18_col0\" class=\"data row18 col0\" >EUR</td>\n            </tr>\n            <tr>\n                        <th id=\"T_d8db6938_fa10_11ec_a213_ccd9ac6a7fe7level0_row19\" class=\"row_heading level0 row19\" >leg_definition.index_convention.index_name</th>\n                        <td id=\"T_d8db6938_fa10_11ec_a213_ccd9ac6a7fe7row19_col0\" class=\"data row19 col0\" >ESTRON</td>\n            </tr>\n            <tr>\n                        <th id=\"T_d8db6938_fa10_11ec_a213_ccd9ac6a7fe7level0_row20\" class=\"row_heading level0 row20\" >leg_definition.index_convention.scope</th>\n                        <td id=\"T_d8db6938_fa10_11ec_a213_ccd9ac6a7fe7row20_col0\" class=\"data row20 col0\" >None</td>\n            </tr>\n            <tr>\n                        <th id=\"T_d8db6938_fa10_11ec_a213_ccd9ac6a7fe7level0_row21\" class=\"row_heading level0 row21\" >leg_definition.index_convention.code</th>\n                        <td id=\"T_d8db6938_fa10_11ec_a213_ccd9ac6a7fe7row21_col0\" class=\"data row21 col0\" >None</td>\n            </tr>\n            <tr>\n                        <th id=\"T_d8db6938_fa10_11ec_a213_ccd9ac6a7fe7level0_row22\" class=\"row_heading level0 row22\" >leg_definition.index_convention_name</th>\n                        <td id=\"T_d8db6938_fa10_11ec_a213_ccd9ac6a7fe7row22_col0\" class=\"data row22 col0\" >None</td>\n            </tr>\n            <tr>\n                        <th id=\"T_d8db6938_fa10_11ec_a213_ccd9ac6a7fe7level0_row23\" class=\"row_heading level0 row23\" >leg_definition.notional_exchange_type</th>\n                        <td id=\"T_d8db6938_fa10_11ec_a213_ccd9ac6a7fe7row23_col0\" class=\"data row23 col0\" >None</td>\n            </tr>\n            <tr>\n                        <th id=\"T_d8db6938_fa10_11ec_a213_ccd9ac6a7fe7level0_row24\" class=\"row_heading level0 row24\" >leg_definition.pay_receive</th>\n                        <td id=\"T_d8db6938_fa10_11ec_a213_ccd9ac6a7fe7row24_col0\" class=\"data row24 col0\" >Pay</td>\n            </tr>\n            <tr>\n                        <th id=\"T_d8db6938_fa10_11ec_a213_ccd9ac6a7fe7level0_row25\" class=\"row_heading level0 row25\" >leg_definition.rate_or_spread</th>\n                        <td id=\"T_d8db6938_fa10_11ec_a213_ccd9ac6a7fe7row25_col0\" class=\"data row25 col0\" >0.000000</td>\n            </tr>\n            <tr>\n                        <th id=\"T_d8db6938_fa10_11ec_a213_ccd9ac6a7fe7level0_row26\" class=\"row_heading level0 row26\" >leg_definition.reset_convention</th>\n                        <td id=\"T_d8db6938_fa10_11ec_a213_ccd9ac6a7fe7row26_col0\" class=\"data row26 col0\" >InArrears</td>\n            </tr>\n            <tr>\n                        <th id=\"T_d8db6938_fa10_11ec_a213_ccd9ac6a7fe7level0_row27\" class=\"row_heading level0 row27\" >leg_definition.stub_type</th>\n                        <td id=\"T_d8db6938_fa10_11ec_a213_ccd9ac6a7fe7row27_col0\" class=\"data row27 col0\" >ShortFront</td>\n            </tr>\n            <tr>\n                        <th id=\"T_d8db6938_fa10_11ec_a213_ccd9ac6a7fe7level0_row28\" class=\"row_heading level0 row28\" >leg_definition.compounding.calculation_shift_method</th>\n                        <td id=\"T_d8db6938_fa10_11ec_a213_ccd9ac6a7fe7row28_col0\" class=\"data row28 col0\" >NoShift</td>\n            </tr>\n            <tr>\n                        <th id=\"T_d8db6938_fa10_11ec_a213_ccd9ac6a7fe7level0_row29\" class=\"row_heading level0 row29\" >leg_definition.compounding.compounding_method</th>\n                        <td id=\"T_d8db6938_fa10_11ec_a213_ccd9ac6a7fe7row29_col0\" class=\"data row29 col0\" >Compounded</td>\n            </tr>\n            <tr>\n                        <th id=\"T_d8db6938_fa10_11ec_a213_ccd9ac6a7fe7level0_row30\" class=\"row_heading level0 row30\" >leg_definition.compounding.reset_frequency</th>\n                        <td id=\"T_d8db6938_fa10_11ec_a213_ccd9ac6a7fe7row30_col0\" class=\"data row30 col0\" >1D</td>\n            </tr>\n            <tr>\n                        <th id=\"T_d8db6938_fa10_11ec_a213_ccd9ac6a7fe7level0_row31\" class=\"row_heading level0 row31\" >leg_definition.compounding.shift</th>\n                        <td id=\"T_d8db6938_fa10_11ec_a213_ccd9ac6a7fe7row31_col0\" class=\"data row31 col0\" >0</td>\n            </tr>\n            <tr>\n                        <th id=\"T_d8db6938_fa10_11ec_a213_ccd9ac6a7fe7level0_row32\" class=\"row_heading level0 row32\" >leg_definition.compounding.spread_compounding_method</th>\n                        <td id=\"T_d8db6938_fa10_11ec_a213_ccd9ac6a7fe7row32_col0\" class=\"data row32 col0\" >SpreadExclusive</td>\n            </tr>\n            <tr>\n                        <th id=\"T_d8db6938_fa10_11ec_a213_ccd9ac6a7fe7level0_row33\" class=\"row_heading level0 row33\" >leg_definition.amortisation</th>\n                        <td id=\"T_d8db6938_fa10_11ec_a213_ccd9ac6a7fe7row33_col0\" class=\"data row33 col0\" >None</td>\n            </tr>\n            <tr>\n                        <th id=\"T_d8db6938_fa10_11ec_a213_ccd9ac6a7fe7level0_row34\" class=\"row_heading level0 row34\" >notional</th>\n                        <td id=\"T_d8db6938_fa10_11ec_a213_ccd9ac6a7fe7row34_col0\" class=\"data row34 col0\" >1.000000</td>\n            </tr>\n            <tr>\n                        <th id=\"T_d8db6938_fa10_11ec_a213_ccd9ac6a7fe7level0_row35\" class=\"row_heading level0 row35\" >overrides.amortization</th>\n                        <td id=\"T_d8db6938_fa10_11ec_a213_ccd9ac6a7fe7row35_col0\" class=\"data row35 col0\" >None</td>\n            </tr>\n            <tr>\n                        <th id=\"T_d8db6938_fa10_11ec_a213_ccd9ac6a7fe7level0_row36\" class=\"row_heading level0 row36\" >overrides.spreads</th>\n                        <td id=\"T_d8db6938_fa10_11ec_a213_ccd9ac6a7fe7row36_col0\" class=\"data row36 col0\" >None</td>\n            </tr>\n            <tr>\n                        <th id=\"T_d8db6938_fa10_11ec_a213_ccd9ac6a7fe7level0_row37\" class=\"row_heading level0 row37\" >instrument_type</th>\n                        <td id=\"T_d8db6938_fa10_11ec_a213_ccd9ac6a7fe7row37_col0\" class=\"data row37 col0\" >FloatingLeg</td>\n            </tr>\n    </tbody></table><style  type=\"text/css\" >\n</style><table id=\"T_d8dbde63_fa10_11ec_9f25_ccd9ac6a7fe7\" style='display:inline'><caption>Fixed Leg</caption><thead>    <tr>        <th class=\"blank level0\" ></th>        <th class=\"col_heading level0 col0\" >response_values</th>    </tr></thead><tbody>\n                <tr>\n                        <th id=\"T_d8dbde63_fa10_11ec_9f25_ccd9ac6a7fe7level0_row0\" class=\"row_heading level0 row0\" >start_date</th>\n                        <td id=\"T_d8dbde63_fa10_11ec_9f25_ccd9ac6a7fe7row0_col0\" class=\"data row0 col0\" >2022-02-10 00:00:00+00:00</td>\n            </tr>\n            <tr>\n                        <th id=\"T_d8dbde63_fa10_11ec_9f25_ccd9ac6a7fe7level0_row1\" class=\"row_heading level0 row1\" >maturity_date</th>\n                        <td id=\"T_d8dbde63_fa10_11ec_9f25_ccd9ac6a7fe7row1_col0\" class=\"data row1 col0\" >2032-01-31 00:00:00+00:00</td>\n            </tr>\n            <tr>\n                        <th id=\"T_d8dbde63_fa10_11ec_9f25_ccd9ac6a7fe7level0_row2\" class=\"row_heading level0 row2\" >leg_definition.convention_name</th>\n                        <td id=\"T_d8dbde63_fa10_11ec_9f25_ccd9ac6a7fe7row2_col0\" class=\"data row2 col0\" >None</td>\n            </tr>\n            <tr>\n                        <th id=\"T_d8dbde63_fa10_11ec_9f25_ccd9ac6a7fe7level0_row3\" class=\"row_heading level0 row3\" >leg_definition.conventions.currency</th>\n                        <td id=\"T_d8dbde63_fa10_11ec_9f25_ccd9ac6a7fe7row3_col0\" class=\"data row3 col0\" >EUR</td>\n            </tr>\n            <tr>\n                        <th id=\"T_d8dbde63_fa10_11ec_9f25_ccd9ac6a7fe7level0_row4\" class=\"row_heading level0 row4\" >leg_definition.conventions.payment_frequency</th>\n                        <td id=\"T_d8dbde63_fa10_11ec_9f25_ccd9ac6a7fe7row4_col0\" class=\"data row4 col0\" >6M</td>\n            </tr>\n            <tr>\n                        <th id=\"T_d8dbde63_fa10_11ec_9f25_ccd9ac6a7fe7level0_row5\" class=\"row_heading level0 row5\" >leg_definition.conventions.day_count_convention</th>\n                        <td id=\"T_d8dbde63_fa10_11ec_9f25_ccd9ac6a7fe7row5_col0\" class=\"data row5 col0\" >Actual360</td>\n            </tr>\n            <tr>\n                        <th id=\"T_d8dbde63_fa10_11ec_9f25_ccd9ac6a7fe7level0_row6\" class=\"row_heading level0 row6\" >leg_definition.conventions.roll_convention</th>\n                        <td id=\"T_d8dbde63_fa10_11ec_9f25_ccd9ac6a7fe7row6_col0\" class=\"data row6 col0\" >ModifiedFollowing</td>\n            </tr>\n            <tr>\n                        <th id=\"T_d8dbde63_fa10_11ec_9f25_ccd9ac6a7fe7level0_row7\" class=\"row_heading level0 row7\" >leg_definition.conventions.payment_calendars</th>\n                        <td id=\"T_d8dbde63_fa10_11ec_9f25_ccd9ac6a7fe7row7_col0\" class=\"data row7 col0\" >[]</td>\n            </tr>\n            <tr>\n                        <th id=\"T_d8dbde63_fa10_11ec_9f25_ccd9ac6a7fe7level0_row8\" class=\"row_heading level0 row8\" >leg_definition.conventions.reset_calendars</th>\n                        <td id=\"T_d8dbde63_fa10_11ec_9f25_ccd9ac6a7fe7row8_col0\" class=\"data row8 col0\" >[]</td>\n            </tr>\n            <tr>\n                        <th id=\"T_d8dbde63_fa10_11ec_9f25_ccd9ac6a7fe7level0_row9\" class=\"row_heading level0 row9\" >leg_definition.conventions.settle_days</th>\n                        <td id=\"T_d8dbde63_fa10_11ec_9f25_ccd9ac6a7fe7row9_col0\" class=\"data row9 col0\" >0</td>\n            </tr>\n            <tr>\n                        <th id=\"T_d8dbde63_fa10_11ec_9f25_ccd9ac6a7fe7level0_row10\" class=\"row_heading level0 row10\" >leg_definition.conventions.reset_days</th>\n                        <td id=\"T_d8dbde63_fa10_11ec_9f25_ccd9ac6a7fe7row10_col0\" class=\"data row10 col0\" >0</td>\n            </tr>\n            <tr>\n                        <th id=\"T_d8dbde63_fa10_11ec_9f25_ccd9ac6a7fe7level0_row11\" class=\"row_heading level0 row11\" >leg_definition.conventions.leap_days_included</th>\n                        <td id=\"T_d8dbde63_fa10_11ec_9f25_ccd9ac6a7fe7row11_col0\" class=\"data row11 col0\" >True</td>\n            </tr>\n            <tr>\n                        <th id=\"T_d8dbde63_fa10_11ec_9f25_ccd9ac6a7fe7level0_row12\" class=\"row_heading level0 row12\" >leg_definition.conventions.scope</th>\n                        <td id=\"T_d8dbde63_fa10_11ec_9f25_ccd9ac6a7fe7row12_col0\" class=\"data row12 col0\" >None</td>\n            </tr>\n            <tr>\n                        <th id=\"T_d8dbde63_fa10_11ec_9f25_ccd9ac6a7fe7level0_row13\" class=\"row_heading level0 row13\" >leg_definition.conventions.code</th>\n                        <td id=\"T_d8dbde63_fa10_11ec_9f25_ccd9ac6a7fe7row13_col0\" class=\"data row13 col0\" >None</td>\n            </tr>\n            <tr>\n                        <th id=\"T_d8dbde63_fa10_11ec_9f25_ccd9ac6a7fe7level0_row14\" class=\"row_heading level0 row14\" >leg_definition.index_convention</th>\n                        <td id=\"T_d8dbde63_fa10_11ec_9f25_ccd9ac6a7fe7row14_col0\" class=\"data row14 col0\" >None</td>\n            </tr>\n            <tr>\n                        <th id=\"T_d8dbde63_fa10_11ec_9f25_ccd9ac6a7fe7level0_row15\" class=\"row_heading level0 row15\" >leg_definition.index_convention_name</th>\n                        <td id=\"T_d8dbde63_fa10_11ec_9f25_ccd9ac6a7fe7row15_col0\" class=\"data row15 col0\" >None</td>\n            </tr>\n            <tr>\n                        <th id=\"T_d8dbde63_fa10_11ec_9f25_ccd9ac6a7fe7level0_row16\" class=\"row_heading level0 row16\" >leg_definition.notional_exchange_type</th>\n                        <td id=\"T_d8dbde63_fa10_11ec_9f25_ccd9ac6a7fe7row16_col0\" class=\"data row16 col0\" >None</td>\n            </tr>\n            <tr>\n                        <th id=\"T_d8dbde63_fa10_11ec_9f25_ccd9ac6a7fe7level0_row17\" class=\"row_heading level0 row17\" >leg_definition.pay_receive</th>\n                        <td id=\"T_d8dbde63_fa10_11ec_9f25_ccd9ac6a7fe7row17_col0\" class=\"data row17 col0\" >Receive</td>\n            </tr>\n            <tr>\n                        <th id=\"T_d8dbde63_fa10_11ec_9f25_ccd9ac6a7fe7level0_row18\" class=\"row_heading level0 row18\" >leg_definition.rate_or_spread</th>\n                        <td id=\"T_d8dbde63_fa10_11ec_9f25_ccd9ac6a7fe7row18_col0\" class=\"data row18 col0\" >0.020000</td>\n            </tr>\n            <tr>\n                        <th id=\"T_d8dbde63_fa10_11ec_9f25_ccd9ac6a7fe7level0_row19\" class=\"row_heading level0 row19\" >leg_definition.reset_convention</th>\n                        <td id=\"T_d8dbde63_fa10_11ec_9f25_ccd9ac6a7fe7row19_col0\" class=\"data row19 col0\" >InAdvance</td>\n            </tr>\n            <tr>\n                        <th id=\"T_d8dbde63_fa10_11ec_9f25_ccd9ac6a7fe7level0_row20\" class=\"row_heading level0 row20\" >leg_definition.stub_type</th>\n                        <td id=\"T_d8dbde63_fa10_11ec_9f25_ccd9ac6a7fe7row20_col0\" class=\"data row20 col0\" >ShortFront</td>\n            </tr>\n            <tr>\n                        <th id=\"T_d8dbde63_fa10_11ec_9f25_ccd9ac6a7fe7level0_row21\" class=\"row_heading level0 row21\" >leg_definition.compounding</th>\n                        <td id=\"T_d8dbde63_fa10_11ec_9f25_ccd9ac6a7fe7row21_col0\" class=\"data row21 col0\" >None</td>\n            </tr>\n            <tr>\n                        <th id=\"T_d8dbde63_fa10_11ec_9f25_ccd9ac6a7fe7level0_row22\" class=\"row_heading level0 row22\" >leg_definition.amortisation</th>\n                        <td id=\"T_d8dbde63_fa10_11ec_9f25_ccd9ac6a7fe7row22_col0\" class=\"data row22 col0\" >None</td>\n            </tr>\n            <tr>\n                        <th id=\"T_d8dbde63_fa10_11ec_9f25_ccd9ac6a7fe7level0_row23\" class=\"row_heading level0 row23\" >notional</th>\n                        <td id=\"T_d8dbde63_fa10_11ec_9f25_ccd9ac6a7fe7row23_col0\" class=\"data row23 col0\" >1.000000</td>\n            </tr>\n            <tr>\n                        <th id=\"T_d8dbde63_fa10_11ec_9f25_ccd9ac6a7fe7level0_row24\" class=\"row_heading level0 row24\" >overrides.amortization</th>\n                        <td id=\"T_d8dbde63_fa10_11ec_9f25_ccd9ac6a7fe7row24_col0\" class=\"data row24 col0\" >None</td>\n            </tr>\n            <tr>\n                        <th id=\"T_d8dbde63_fa10_11ec_9f25_ccd9ac6a7fe7level0_row25\" class=\"row_heading level0 row25\" >overrides.spreads</th>\n                        <td id=\"T_d8dbde63_fa10_11ec_9f25_ccd9ac6a7fe7row25_col0\" class=\"data row25 col0\" >None</td>\n            </tr>\n            <tr>\n                        <th id=\"T_d8dbde63_fa10_11ec_9f25_ccd9ac6a7fe7level0_row26\" class=\"row_heading level0 row26\" >instrument_type</th>\n                        <td id=\"T_d8dbde63_fa10_11ec_9f25_ccd9ac6a7fe7row26_col0\" class=\"data row26 col0\" >FixedLeg</td>\n            </tr>\n    </tbody></table>"
     },
     "metadata": {},
     "output_type": "display_data"
    }
   ],
   "source": [
    "# Get and store the instrument response\n",
    "response = get_instrument(identifier=instrument_identifier, scope=instrument_scope)\n",
    "\n",
    "# Store LUID\n",
    "luid = response.lusid_instrument_id\n",
    "\n",
    "# Store response leg definitions as dataframes\n",
    "flt_leg_df = lusid_response_to_data_frame(response.instrument_definition.legs[1])\n",
    "fix_leg_df = lusid_response_to_data_frame(response.instrument_definition.legs[0])\n",
    "\n",
    "# Display the leg dataframes\n",
    "df1_styler = flt_leg_df.style.set_table_attributes(\"style='display:inline'\").set_caption('Floating Leg')\n",
    "df2_styler = fix_leg_df.style.set_table_attributes(\"style='display:inline'\").set_caption('Fixed Leg')\n",
    "display_html(df1_styler._repr_html_() + df2_styler._repr_html_(), raw=True)"
   ]
  },
  {
   "cell_type": "markdown",
   "metadata": {},
   "source": [
    "### 1.2 Curves and Market Data"
   ]
  },
  {
   "cell_type": "markdown",
   "metadata": {},
   "source": [
    "In order to value the swap we will need to create a curve by which we can determine the present values of the cash flows, as well as build out a forward curve for our floating leg.\n",
    "\n",
    "In this example we are creating a discount curve using EUR OIS discount factors which are taken as given. We will rely on the same discount factors for the forward curve."
   ]
  },
  {
   "cell_type": "code",
   "execution_count": 11,
   "metadata": {},
   "outputs": [],
   "source": [
    "# scope used to store our market data\n",
    "market_data_scope = \"FBN-Market-Data\"\n",
    "# the market data supplier\n",
    "market_supplier = \"Lusid\"\n",
    "\n",
    "\n",
    "def upsert_discount_factor_curve(\n",
    "        scope: str,\n",
    "        effective_at: str,\n",
    "        market_asset: str,\n",
    "        dates: list,\n",
    "        discount_factors: list\n",
    "):\n",
    "\n",
    "    \"\"\"\n",
    "   Takes in a list of dates and discount factors, which get uploaded as a lusid.ComplexMarketData\n",
    "   object in a given scope for a given effective date.\n",
    "    \"\"\"\n",
    "\n",
    "    # provide the structured data file source and it's document format\n",
    "    complex_market_data = lm.DiscountFactorCurveData(\n",
    "        base_date=effective_at,\n",
    "        dates=dates,\n",
    "        discount_factors=discount_factors,\n",
    "        market_data_type=\"DiscountFactorCurveData\",\n",
    "    )\n",
    "\n",
    "    # create a unique identifier for our OIS yield curves\n",
    "    complex_id = lm.ComplexMarketDataId(\n",
    "        provider=\"Lusid\",\n",
    "        price_source=\"Lusid\",\n",
    "        effective_at=effective_at,\n",
    "        market_asset=market_asset,\n",
    "    )\n",
    "\n",
    "    upsert_request = lm.UpsertComplexMarketDataRequest(\n",
    "        market_data_id=complex_id, market_data=complex_market_data\n",
    "    )\n",
    "\n",
    "    # https://www.lusid.com/docs/api#operation/UpsertComplexMarketData\n",
    "    response = complex_market_data_api.upsert_complex_market_data(\n",
    "        scope=scope, request_body={market_asset: upsert_request}\n",
    "    )\n",
    "\n",
    "    if len(response.failed) > 0:\n",
    "        raise Exception(f\"Failed to upload yield curve {response.failed}\")\n",
    "\n",
    "    print(f\"{market_asset} yield curve uploaded into scope={scope}\")"
   ]
  },
  {
   "cell_type": "markdown",
   "source": [
    "Below we pass the same curve data for both discount and projection, the market data resolution relies on the `market_asset` parameter.\n",
    "\n",
    "- Discount Curve: `'{CCY}/{CCY}OIS'`\n",
    "- Forward Curve: `'{CCY}/{Index Tenor}/{Index Name}'`\n",
    "\n",
    "This means the above market asset by which the curve is tagged needs to reconcile with the previously set instrument definition."
   ],
   "metadata": {
    "collapsed": false,
    "pycharm": {
     "name": "#%% md\n"
    }
   }
  },
  {
   "cell_type": "code",
   "execution_count": 12,
   "outputs": [
    {
     "name": "stdout",
     "output_type": "stream",
     "text": [
      "EUR/EUROIS yield curve uploaded into scope=FBN-Market-Data\n",
      "EUR/1D/ESTRON yield curve uploaded into scope=FBN-Market-Data\n"
     ]
    }
   ],
   "source": [
    "# Set the discount curve\n",
    "dates = [\n",
    "    datetime(2022, 7, 10, tzinfo=pytz.utc),\n",
    "    datetime(2022, 12, 10, tzinfo=pytz.utc),\n",
    "    datetime(2023, 6, 10, tzinfo=pytz.utc),\n",
    "    datetime(2025, 6, 10, tzinfo=pytz.utc),\n",
    "    datetime(2032, 6, 10, tzinfo=pytz.utc)\n",
    "]\n",
    "\n",
    "discount_factors = [\n",
    "    1.000511,\n",
    "    0.999376,\n",
    "    0.991461,\n",
    "    0.947892,\n",
    "    0.799767\n",
    "]\n",
    "\n",
    "# Upsert discount curve (EUROIS) and forward (ESTRON) curves\n",
    "for mkt_asset in [\"EUR/EUROIS\", \"EUR/1D/ESTRON\"]:\n",
    "\n",
    "    upsert_discount_factor_curve(\n",
    "        scope=market_data_scope,\n",
    "        effective_at=effective_at,\n",
    "        market_asset=mkt_asset,\n",
    "        dates=dates,\n",
    "        discount_factors=discount_factors\n",
    "    )"
   ],
   "metadata": {
    "collapsed": false,
    "pycharm": {
     "name": "#%%\n"
    }
   }
  },
  {
   "cell_type": "code",
   "execution_count": 13,
   "outputs": [
    {
     "data": {
      "text/plain": "                       Date    Rate   Index\n0 2022-01-03 00:00:00+00:00 -0.5780  ESTRON\n1 2022-01-04 00:00:00+00:00 -0.5780  ESTRON\n2 2022-01-05 00:00:00+00:00 -0.5780  ESTRON\n3 2022-01-06 00:00:00+00:00 -0.5780  ESTRON\n4 2022-01-07 00:00:00+00:00 -0.5800  ESTRON",
      "text/html": "<div>\n<style scoped>\n    .dataframe tbody tr th:only-of-type {\n        vertical-align: middle;\n    }\n\n    .dataframe tbody tr th {\n        vertical-align: top;\n    }\n\n    .dataframe thead th {\n        text-align: right;\n    }\n</style>\n<table border=\"1\" class=\"dataframe\">\n  <thead>\n    <tr style=\"text-align: right;\">\n      <th></th>\n      <th>Date</th>\n      <th>Rate</th>\n      <th>Index</th>\n    </tr>\n  </thead>\n  <tbody>\n    <tr>\n      <th>0</th>\n      <td>2022-01-03 00:00:00+00:00</td>\n      <td>-0.5780</td>\n      <td>ESTRON</td>\n    </tr>\n    <tr>\n      <th>1</th>\n      <td>2022-01-04 00:00:00+00:00</td>\n      <td>-0.5780</td>\n      <td>ESTRON</td>\n    </tr>\n    <tr>\n      <th>2</th>\n      <td>2022-01-05 00:00:00+00:00</td>\n      <td>-0.5780</td>\n      <td>ESTRON</td>\n    </tr>\n    <tr>\n      <th>3</th>\n      <td>2022-01-06 00:00:00+00:00</td>\n      <td>-0.5780</td>\n      <td>ESTRON</td>\n    </tr>\n    <tr>\n      <th>4</th>\n      <td>2022-01-07 00:00:00+00:00</td>\n      <td>-0.5800</td>\n      <td>ESTRON</td>\n    </tr>\n  </tbody>\n</table>\n</div>"
     },
     "execution_count": 13,
     "metadata": {},
     "output_type": "execute_result"
    }
   ],
   "source": [
    "# Read fixings for ESTR\n",
    "resets_df = pd.read_csv(\"data/eur_ois_resets.csv\")\n",
    "resets_df[\"Date\"] = pd.to_datetime(resets_df[\"Date\"],dayfirst=True)\n",
    "df_add_utc(resets_df)\n",
    "resets_df.head()"
   ],
   "metadata": {
    "collapsed": false,
    "pycharm": {
     "name": "#%%\n"
    }
   }
  },
  {
   "cell_type": "code",
   "execution_count": 14,
   "outputs": [
    {
     "name": "stdout",
     "output_type": "stream",
     "text": [
      "Quotes successfully loaded into LUSID. 119 quotes loaded.\n"
     ]
    }
   ],
   "source": [
    "# Create quotes request\n",
    "instrument_quotes = {\n",
    "            index: lm.UpsertQuoteRequest(\n",
    "            quote_id=lm.QuoteId(\n",
    "                quote_series_id=lm.QuoteSeriesId(\n",
    "                    provider=\"Lusid\",\n",
    "                    instrument_id=row[\"Index\"],\n",
    "                    instrument_id_type=\"RIC\",\n",
    "                    quote_type=\"Rate\",\n",
    "                    field=\"mid\",\n",
    "                ),\n",
    "                effective_at=row[\"Date\"],\n",
    "            ),\n",
    "            metric_value=lm.MetricValue(value=row[\"Rate\"], unit=\"rate\"),\n",
    "            scale_factor=100\n",
    "        )\n",
    "    for index, row in resets_df.iterrows()\n",
    "}\n",
    "\n",
    "# Upsert quotes into LUSID\n",
    "response = quotes_api.upsert_quotes(\n",
    "    scope=market_data_scope, request_body=instrument_quotes\n",
    ")\n",
    "\n",
    "if response.failed == {}:\n",
    "    print(f\"Quotes successfully loaded into LUSID. {len(response.values)} quotes loaded.\")\n",
    "else:\n",
    "    print(f\"Some failures occurred during quotes upsertion, {len(response.failed)} did not get loaded into LUSID.\")"
   ],
   "metadata": {
    "collapsed": false,
    "pycharm": {
     "name": "#%%\n"
    }
   }
  },
  {
   "cell_type": "markdown",
   "metadata": {},
   "source": [
    "### 1.3 Setup Portfolio\n",
    "\n",
    "In order to value the swap, and understand how it impacts our cash position, we will setup a portfolio with a position in the previously defined instrument. We begin by defining the scope for our swap book, and then follow by booking a transaction to the portfolio. "
   ]
  },
  {
   "cell_type": "code",
   "execution_count": 15,
   "metadata": {},
   "outputs": [
    {
     "name": "stdout",
     "output_type": "stream",
     "text": [
      "Could not create a portfolio with id 'EUROIS-IRS-Example' because it already exists in scope 'Finbourne-Examples'.\n"
     ]
    }
   ],
   "source": [
    "# Setup scope and code for the portfolio\n",
    "portfolio_scope = \"Finbourne-Examples\"\n",
    "portfolio_code = \"EUROIS-IRS-Example\"\n",
    "\n",
    "try:\n",
    "    transaction_portfolios_api.create_portfolio(\n",
    "        scope=portfolio_scope,\n",
    "        create_transaction_portfolio_request=lm.CreateTransactionPortfolioRequest(\n",
    "            display_name=portfolio_code,\n",
    "            code=portfolio_code,\n",
    "            base_currency=\"EUR\",\n",
    "            created=\"2010-01-01\",\n",
    "            sub_holding_keys=[],\n",
    "            instrument_scopes=[instrument_scope]\n",
    "        ),\n",
    "    )\n",
    "    print(f\"Portfolio for {portfolio_scope} | {portfolio_code} created succesfully.\")\n",
    "\n",
    "except lu.ApiException as e:\n",
    "    print(json.loads(e.body)[\"title\"])\n"
   ]
  },
  {
   "cell_type": "markdown",
   "metadata": {},
   "source": [
    "### 1.4 Add Transactions\n",
    "\n",
    "With the portfolio in LUSID, we can add a transaction entering a position in the swap. For this we use the `TransactionPortfoliosApi`, which is the required API to interact with a [Transaction Porftolio](#https://support.finbourne.com/what-is-a-transaction-portfolio).\n",
    "\n",
    "This is where we will set the notional of the swap to EUR 10MM, as we unitized the swap instrument in the earlier step. This is a choice, as the alternative would be to book the notinoal at the instrument level and setting the `units` to 1 at the holding/transaction level.  However, unitizing the instrument gives further flexibility for partial wind downs during the instrument's life cycle."
   ]
  },
  {
   "cell_type": "code",
   "execution_count": 16,
   "metadata": {},
   "outputs": [
    {
     "name": "stdout",
     "output_type": "stream",
     "text": [
      "Transaction updated for effective time: 2010-01-01 00:00:00+00:00.\n"
     ]
    }
   ],
   "source": [
    "# Book a buy transaction against the swap instrument\n",
    "open_position = lm.TransactionRequest(\n",
    "    transaction_id=\"TXN001\",\n",
    "    type=\"Buy\",\n",
    "    instrument_identifiers={\n",
    "        \"Instrument/default/ClientInternal\":f\"{instrument_identifier}\"\n",
    "    },\n",
    "    transaction_date=trade_date,\n",
    "    settlement_date=trade_date,\n",
    "    units=notional,\n",
    "    transaction_price=lm.TransactionPrice(price=1,type=\"Price\"),\n",
    "    total_consideration=lm.CurrencyAndAmount(amount=0,currency=\"EUR\"),\n",
    "    exchange_rate=1,\n",
    "    transaction_currency=\"EUR\"\n",
    ")\n",
    "\n",
    "response = transaction_portfolios_api.upsert_transactions(\n",
    "    scope=portfolio_scope,\n",
    "    code=portfolio_code,\n",
    "    transaction_request=[\n",
    "        open_position,\n",
    "    ]\n",
    ")\n",
    "\n",
    "print(f\"Transaction updated for effective time: {response.version.effective_from}.\")"
   ]
  },
  {
   "cell_type": "markdown",
   "metadata": {},
   "source": [
    "## 2. Valuation\n",
    "\n",
    "Following the initial setup, we can see to configuring how LUSID will conduct valuation on the swap. This introduces the concept of recipes, which are a set of steps we specify to the valuation engine relating to market data and model specification."
   ]
  },
  {
   "cell_type": "markdown",
   "metadata": {},
   "source": [
    "### 2.1 Configure the valuation recipe\n",
    "\n",
    "Below we define the market and pricing contexts, which will determine the market data resolution and the model, respectively.\n",
    "\n",
    "In our case for the model we have selected _\"Discounting\"_, which will calculate the swap's present value using a discounted cash flow model."
   ]
  },
  {
   "cell_type": "code",
   "execution_count": 17,
   "metadata": {},
   "outputs": [
    {
     "name": "stdout",
     "output_type": "stream",
     "text": [
      "Configuration recipe loaded into LUSID at time 2022-07-02 14:11:23.881932+00:00.\n"
     ]
    }
   ],
   "source": [
    "#Set recipe code\n",
    "recipe_code = \"EurOisValuation\"\n",
    "\n",
    "# Populate recipe parameters\n",
    "configuration_recipe = lm.ConfigurationRecipe(\n",
    "    scope=market_data_scope,\n",
    "    code=recipe_code,\n",
    "    market=lm.MarketContext(\n",
    "        market_rules=[\n",
    "            lm.MarketDataKeyRule(\n",
    "                key=\"Quote.RIC.*\", # Ties back to ESTRON fixings\n",
    "                supplier=\"Lusid\",\n",
    "                data_scope=market_data_scope,\n",
    "                quote_type=\"Rate\",\n",
    "                field=\"mid\",\n",
    "                quote_interval=\"5D\",\n",
    "            ),\n",
    "            lm.MarketDataKeyRule(\n",
    "                key=\"Rates.*.*\", # Ties back to our discounting curve\n",
    "                supplier=\"Lusid\",\n",
    "                data_scope=market_data_scope,\n",
    "                price_source=\"Lusid\",\n",
    "                quote_type=\"Rate\",\n",
    "                field=\"mid\",\n",
    "                quote_interval=\"5D\",\n",
    "            ),\n",
    "            lm.MarketDataKeyRule(\n",
    "                key=\"Rates.*.*.*\", # Ties back to the projection curve\n",
    "                supplier=\"Lusid\",\n",
    "                data_scope=market_data_scope,\n",
    "                price_source=\"Lusid\",\n",
    "                quote_type=\"Rate\",\n",
    "                field=\"mid\",\n",
    "                quote_interval=\"5D\",\n",
    "            ),\n",
    "        ],\n",
    "    ),\n",
    "    pricing=lm.PricingContext(\n",
    "        model_rules=[\n",
    "            lm.VendorModelRule(\n",
    "                supplier=\"Lusid\",\n",
    "                model_name=\"Discounting\",\n",
    "                instrument_type=\"InterestRateSwap\",\n",
    "                parameters=\"{}\",\n",
    "            )\n",
    "        ],\n",
    "    ),\n",
    ")\n",
    "\n",
    "response = configuration_recipe_api.upsert_configuration_recipe(\n",
    "    upsert_recipe_request=lm.UpsertRecipeRequest(\n",
    "        configuration_recipe=configuration_recipe\n",
    "    )\n",
    ")\n",
    "\n",
    "print(f\"Configuration recipe loaded into LUSID at time {response.value}.\")"
   ]
  },
  {
   "cell_type": "markdown",
   "metadata": {},
   "source": [
    "## 2. Valuation and Cash Flows\n",
    "\n",
    "With the recipes and configurations set for our swap book, we can now  query valuations and cash flows."
   ]
  },
  {
   "cell_type": "markdown",
   "metadata": {},
   "source": [
    "### 2.2 Cash Flows\n",
    "\n",
    "We can also visualize the upcoming cash flows for both legs from the response, and plot the net cash flows."
   ]
  },
  {
   "cell_type": "code",
   "execution_count": 18,
   "outputs": [],
   "source": [
    "def format_cash_flows_to_df(portfolio_cash_flows_response):\n",
    "\n",
    "    # We can build a cash flow table from the previous call, beginning by separating pays and recs\n",
    "    pays = {\n",
    "        element.payment_date: element.amount * -1 for element in portfolio_cash_flows_response.values if element.diagnostics[\"PayReceive\"] == \"Pay\"\n",
    "    }\n",
    "    recs = {\n",
    "        element.payment_date: element.amount for element in portfolio_cash_flows_response.values if element.diagnostics[\"PayReceive\"] == \"Receive\"\n",
    "    }\n",
    "\n",
    "    # Join pays and recs\n",
    "    data = {\n",
    "        element.payment_date.date(): {\n",
    "            \"Receive\": recs.get(element.payment_date),\n",
    "            \"Pay\": pays.get(element.payment_date),\n",
    "        } for element in portfolio_cash_flows.values\n",
    "    }\n",
    "\n",
    "    # Create cash flow data frame and add net payments column\n",
    "    cash_flows = pd.DataFrame.from_dict(data, orient=\"index\")\n",
    "    cash_flows['Net'] = cash_flows['Pay'] + cash_flows['Receive']\n",
    "\n",
    "    return cash_flows"
   ],
   "metadata": {
    "collapsed": false,
    "pycharm": {
     "name": "#%%\n"
    }
   }
  },
  {
   "cell_type": "code",
   "execution_count": 19,
   "outputs": [
    {
     "data": {
      "text/plain": "                Receive           Pay          Net\n2022-07-29  93,888.8889   23,316.4492 117,205.3381\n2023-01-31 103,333.3333  -31,984.7702  71,348.5631\n2023-07-31 100,555.5556  -88,177.9246  12,377.6309\n2024-01-31 102,222.2222 -113,755.2544 -11,533.0321\n2024-07-31 101,111.1111 -112,511.8220 -11,400.7109\n2025-01-31 102,222.2222 -113,755.2544 -11,533.0321\n2025-07-31 100,555.5556 -114,456.9272 -13,901.3716\n2026-01-30 101,666.6667 -122,347.8140 -20,681.1473\n2026-07-31 101,111.1111 -121,675.1767 -20,564.0655\n2027-01-29 101,111.1111 -121,675.1767 -20,564.0655\n2027-07-30 101,111.1111 -121,675.1767 -20,564.0655\n2028-01-31 102,777.7778 -123,693.0886 -20,915.3108\n2028-07-31 101,111.1111 -121,675.1767 -20,564.0655\n2029-01-31 102,222.2222 -123,020.4960 -20,798.2737\n2029-07-31 100,555.5556 -121,002.5841 -20,447.0285\n2030-01-31 102,222.2222 -123,020.4960 -20,798.2737\n2030-07-31 100,555.5556 -121,002.5841 -20,447.0285\n2031-01-31 102,222.2222 -123,020.4960 -20,798.2737\n2031-07-31 100,555.5556 -121,002.5841 -20,447.0285\n2032-01-30 101,666.6667 -122,347.8140 -20,681.1473",
      "text/html": "<div>\n<style scoped>\n    .dataframe tbody tr th:only-of-type {\n        vertical-align: middle;\n    }\n\n    .dataframe tbody tr th {\n        vertical-align: top;\n    }\n\n    .dataframe thead th {\n        text-align: right;\n    }\n</style>\n<table border=\"1\" class=\"dataframe\">\n  <thead>\n    <tr style=\"text-align: right;\">\n      <th></th>\n      <th>Receive</th>\n      <th>Pay</th>\n      <th>Net</th>\n    </tr>\n  </thead>\n  <tbody>\n    <tr>\n      <th>2022-07-29</th>\n      <td>93,888.8889</td>\n      <td>23,316.4492</td>\n      <td>117,205.3381</td>\n    </tr>\n    <tr>\n      <th>2023-01-31</th>\n      <td>103,333.3333</td>\n      <td>-31,984.7702</td>\n      <td>71,348.5631</td>\n    </tr>\n    <tr>\n      <th>2023-07-31</th>\n      <td>100,555.5556</td>\n      <td>-88,177.9246</td>\n      <td>12,377.6309</td>\n    </tr>\n    <tr>\n      <th>2024-01-31</th>\n      <td>102,222.2222</td>\n      <td>-113,755.2544</td>\n      <td>-11,533.0321</td>\n    </tr>\n    <tr>\n      <th>2024-07-31</th>\n      <td>101,111.1111</td>\n      <td>-112,511.8220</td>\n      <td>-11,400.7109</td>\n    </tr>\n    <tr>\n      <th>2025-01-31</th>\n      <td>102,222.2222</td>\n      <td>-113,755.2544</td>\n      <td>-11,533.0321</td>\n    </tr>\n    <tr>\n      <th>2025-07-31</th>\n      <td>100,555.5556</td>\n      <td>-114,456.9272</td>\n      <td>-13,901.3716</td>\n    </tr>\n    <tr>\n      <th>2026-01-30</th>\n      <td>101,666.6667</td>\n      <td>-122,347.8140</td>\n      <td>-20,681.1473</td>\n    </tr>\n    <tr>\n      <th>2026-07-31</th>\n      <td>101,111.1111</td>\n      <td>-121,675.1767</td>\n      <td>-20,564.0655</td>\n    </tr>\n    <tr>\n      <th>2027-01-29</th>\n      <td>101,111.1111</td>\n      <td>-121,675.1767</td>\n      <td>-20,564.0655</td>\n    </tr>\n    <tr>\n      <th>2027-07-30</th>\n      <td>101,111.1111</td>\n      <td>-121,675.1767</td>\n      <td>-20,564.0655</td>\n    </tr>\n    <tr>\n      <th>2028-01-31</th>\n      <td>102,777.7778</td>\n      <td>-123,693.0886</td>\n      <td>-20,915.3108</td>\n    </tr>\n    <tr>\n      <th>2028-07-31</th>\n      <td>101,111.1111</td>\n      <td>-121,675.1767</td>\n      <td>-20,564.0655</td>\n    </tr>\n    <tr>\n      <th>2029-01-31</th>\n      <td>102,222.2222</td>\n      <td>-123,020.4960</td>\n      <td>-20,798.2737</td>\n    </tr>\n    <tr>\n      <th>2029-07-31</th>\n      <td>100,555.5556</td>\n      <td>-121,002.5841</td>\n      <td>-20,447.0285</td>\n    </tr>\n    <tr>\n      <th>2030-01-31</th>\n      <td>102,222.2222</td>\n      <td>-123,020.4960</td>\n      <td>-20,798.2737</td>\n    </tr>\n    <tr>\n      <th>2030-07-31</th>\n      <td>100,555.5556</td>\n      <td>-121,002.5841</td>\n      <td>-20,447.0285</td>\n    </tr>\n    <tr>\n      <th>2031-01-31</th>\n      <td>102,222.2222</td>\n      <td>-123,020.4960</td>\n      <td>-20,798.2737</td>\n    </tr>\n    <tr>\n      <th>2031-07-31</th>\n      <td>100,555.5556</td>\n      <td>-121,002.5841</td>\n      <td>-20,447.0285</td>\n    </tr>\n    <tr>\n      <th>2032-01-30</th>\n      <td>101,666.6667</td>\n      <td>-122,347.8140</td>\n      <td>-20,681.1473</td>\n    </tr>\n  </tbody>\n</table>\n</div>"
     },
     "metadata": {},
     "output_type": "display_data"
    },
    {
     "data": {
      "text/plain": "<Figure size 432x288 with 1 Axes>",
      "image/png": "[encoded data removed]"
     },
     "metadata": {
      "needs_background": "light"
     },
     "output_type": "display_data"
    }
   ],
   "source": [
    "# Request portfolio cash flows\n",
    "portfolio_cash_flows = transaction_portfolios_api.get_portfolio_cash_flows(\n",
    "    scope=portfolio_scope,\n",
    "    code=portfolio_code,\n",
    "    effective_at=effective_at,\n",
    "    window_start=effective_at,\n",
    "    window_end=end_date,\n",
    "    recipe_id_scope=market_data_scope,\n",
    "    recipe_id_code=recipe_code\n",
    ")\n",
    "\n",
    "cash_flows = format_cash_flows_to_df(portfolio_cash_flows)\n",
    "\n",
    "ax = cash_flows.plot.bar(y=['Net'], color = ['#ff5200'])\n",
    "plt.title('Cash Flow Chart')\n",
    "plt.ylabel('Cash Amount (EUR)')\n",
    "display(cash_flows)\n",
    "ax.yaxis.set_major_formatter(mpl.ticker.StrMethodFormatter('{x:,.0f}'))\n",
    "plt.grid()\n",
    "plt.show()"
   ],
   "metadata": {
    "collapsed": false,
    "pycharm": {
     "name": "#%%\n"
    }
   }
  },
  {
   "cell_type": "markdown",
   "source": [
    "### 2.3 Curves\n",
    "\n",
    "Similarly, if we inspect the cash flows response, we will notice that we get back information relating back to the discount curve as well as the forward rates that will be used internally for a  valuation in the _'Discounting'_ model. These are plotted below for some visual aid on the curves used internally by the pricer."
   ],
   "metadata": {
    "collapsed": false,
    "pycharm": {
     "name": "#%% md\n"
    }
   }
  },
  {
   "cell_type": "code",
   "execution_count": 20,
   "outputs": [
    {
     "data": {
      "text/plain": "            Forward Rate  Discount Factor  Year Fraction  \\\n2022-07-29       -0.0050           1.0004         0.4694   \n2023-01-31        0.0062           0.9971         0.5167   \n2023-07-31        0.0175           0.9884         0.5028   \n2024-01-31        0.0223           0.9772         0.5111   \n2024-07-31        0.0223           0.9664         0.5056   \n2025-01-31        0.0223           0.9555         0.5111   \n2025-07-31        0.0228           0.9447         0.5028   \n2026-01-30        0.0241           0.9333         0.5083   \n2026-07-31        0.0241           0.9220         0.5056   \n2027-01-29        0.0241           0.9110         0.5056   \n2027-07-30        0.0241           0.9000         0.5056   \n2028-01-31        0.0241           0.8890         0.5139   \n2028-07-31        0.0241           0.8783         0.5056   \n2029-01-31        0.0241           0.8677         0.5111   \n2029-07-31        0.0241           0.8573         0.5028   \n2030-01-31        0.0241           0.8469         0.5111   \n2030-07-31        0.0241           0.8367         0.5028   \n2031-01-31        0.0241           0.8266         0.5111   \n2031-07-31        0.0241           0.8167         0.5028   \n2032-01-30        0.0241           0.8068         0.5083   \n\n            Cumulative Year Fraction  Discount Rate  \n2022-07-29                    0.4694        -0.0008  \n2023-01-31                    0.9861         0.0029  \n2023-07-31                    1.4889         0.0079  \n2024-01-31                    2.0000         0.0115  \n2024-07-31                    2.5056         0.0137  \n2025-01-31                    3.0167         0.0151  \n2025-07-31                    3.5194         0.0162  \n2026-01-30                    4.0278         0.0171  \n2026-07-31                    4.5333         0.0179  \n2027-01-29                    5.0389         0.0185  \n2027-07-30                    5.5444         0.0190  \n2028-01-31                    6.0583         0.0194  \n2028-07-31                    6.5639         0.0198  \n2029-01-31                    7.0750         0.0201  \n2029-07-31                    7.5778         0.0203  \n2030-01-31                    8.0889         0.0205  \n2030-07-31                    8.5917         0.0207  \n2031-01-31                    9.1028         0.0209  \n2031-07-31                    9.6056         0.0211  \n2032-01-30                   10.1139         0.0212  ",
      "text/html": "<div>\n<style scoped>\n    .dataframe tbody tr th:only-of-type {\n        vertical-align: middle;\n    }\n\n    .dataframe tbody tr th {\n        vertical-align: top;\n    }\n\n    .dataframe thead th {\n        text-align: right;\n    }\n</style>\n<table border=\"1\" class=\"dataframe\">\n  <thead>\n    <tr style=\"text-align: right;\">\n      <th></th>\n      <th>Forward Rate</th>\n      <th>Discount Factor</th>\n      <th>Year Fraction</th>\n      <th>Cumulative Year Fraction</th>\n      <th>Discount Rate</th>\n    </tr>\n  </thead>\n  <tbody>\n    <tr>\n      <th>2022-07-29</th>\n      <td>-0.0050</td>\n      <td>1.0004</td>\n      <td>0.4694</td>\n      <td>0.4694</td>\n      <td>-0.0008</td>\n    </tr>\n    <tr>\n      <th>2023-01-31</th>\n      <td>0.0062</td>\n      <td>0.9971</td>\n      <td>0.5167</td>\n      <td>0.9861</td>\n      <td>0.0029</td>\n    </tr>\n    <tr>\n      <th>2023-07-31</th>\n      <td>0.0175</td>\n      <td>0.9884</td>\n      <td>0.5028</td>\n      <td>1.4889</td>\n      <td>0.0079</td>\n    </tr>\n    <tr>\n      <th>2024-01-31</th>\n      <td>0.0223</td>\n      <td>0.9772</td>\n      <td>0.5111</td>\n      <td>2.0000</td>\n      <td>0.0115</td>\n    </tr>\n    <tr>\n      <th>2024-07-31</th>\n      <td>0.0223</td>\n      <td>0.9664</td>\n      <td>0.5056</td>\n      <td>2.5056</td>\n      <td>0.0137</td>\n    </tr>\n    <tr>\n      <th>2025-01-31</th>\n      <td>0.0223</td>\n      <td>0.9555</td>\n      <td>0.5111</td>\n      <td>3.0167</td>\n      <td>0.0151</td>\n    </tr>\n    <tr>\n      <th>2025-07-31</th>\n      <td>0.0228</td>\n      <td>0.9447</td>\n      <td>0.5028</td>\n      <td>3.5194</td>\n      <td>0.0162</td>\n    </tr>\n    <tr>\n      <th>2026-01-30</th>\n      <td>0.0241</td>\n      <td>0.9333</td>\n      <td>0.5083</td>\n      <td>4.0278</td>\n      <td>0.0171</td>\n    </tr>\n    <tr>\n      <th>2026-07-31</th>\n      <td>0.0241</td>\n      <td>0.9220</td>\n      <td>0.5056</td>\n      <td>4.5333</td>\n      <td>0.0179</td>\n    </tr>\n    <tr>\n      <th>2027-01-29</th>\n      <td>0.0241</td>\n      <td>0.9110</td>\n      <td>0.5056</td>\n      <td>5.0389</td>\n      <td>0.0185</td>\n    </tr>\n    <tr>\n      <th>2027-07-30</th>\n      <td>0.0241</td>\n      <td>0.9000</td>\n      <td>0.5056</td>\n      <td>5.5444</td>\n      <td>0.0190</td>\n    </tr>\n    <tr>\n      <th>2028-01-31</th>\n      <td>0.0241</td>\n      <td>0.8890</td>\n      <td>0.5139</td>\n      <td>6.0583</td>\n      <td>0.0194</td>\n    </tr>\n    <tr>\n      <th>2028-07-31</th>\n      <td>0.0241</td>\n      <td>0.8783</td>\n      <td>0.5056</td>\n      <td>6.5639</td>\n      <td>0.0198</td>\n    </tr>\n    <tr>\n      <th>2029-01-31</th>\n      <td>0.0241</td>\n      <td>0.8677</td>\n      <td>0.5111</td>\n      <td>7.0750</td>\n      <td>0.0201</td>\n    </tr>\n    <tr>\n      <th>2029-07-31</th>\n      <td>0.0241</td>\n      <td>0.8573</td>\n      <td>0.5028</td>\n      <td>7.5778</td>\n      <td>0.0203</td>\n    </tr>\n    <tr>\n      <th>2030-01-31</th>\n      <td>0.0241</td>\n      <td>0.8469</td>\n      <td>0.5111</td>\n      <td>8.0889</td>\n      <td>0.0205</td>\n    </tr>\n    <tr>\n      <th>2030-07-31</th>\n      <td>0.0241</td>\n      <td>0.8367</td>\n      <td>0.5028</td>\n      <td>8.5917</td>\n      <td>0.0207</td>\n    </tr>\n    <tr>\n      <th>2031-01-31</th>\n      <td>0.0241</td>\n      <td>0.8266</td>\n      <td>0.5111</td>\n      <td>9.1028</td>\n      <td>0.0209</td>\n    </tr>\n    <tr>\n      <th>2031-07-31</th>\n      <td>0.0241</td>\n      <td>0.8167</td>\n      <td>0.5028</td>\n      <td>9.6056</td>\n      <td>0.0211</td>\n    </tr>\n    <tr>\n      <th>2032-01-30</th>\n      <td>0.0241</td>\n      <td>0.8068</td>\n      <td>0.5083</td>\n      <td>10.1139</td>\n      <td>0.0212</td>\n    </tr>\n  </tbody>\n</table>\n</div>"
     },
     "metadata": {},
     "output_type": "display_data"
    },
    {
     "data": {
      "text/plain": "<Figure size 432x288 with 1 Axes>",
      "image/png": "[encoded data removed]"
     },
     "metadata": {
      "needs_background": "light"
     },
     "output_type": "display_data"
    }
   ],
   "source": [
    "# Extract discount/forward curve information from cash flow response\n",
    "curve_data = {\n",
    "    element.payment_date.date(): {\n",
    "        \"Forward Rate\": float(element.diagnostics.get(\"ForwardRate\")),\n",
    "        \"Discount Factor\": float(element.diagnostics.get(\"PaymentDateDiscountFactor\")),\n",
    "        \"Year Fraction\": float(element.diagnostics.get(\"DayCountFraction\"))\n",
    "    } for element in portfolio_cash_flows.values if element.diagnostics[\"PayReceive\"] == \"Pay\"\n",
    "}\n",
    "\n",
    "# Create curve table\n",
    "curve_df = pd.DataFrame.from_dict(curve_data, orient=\"index\")\n",
    "curve_df[\"Cumulative Year Fraction\"] = curve_df[\"Year Fraction\"].cumsum()\n",
    "curve_df[\"Discount Rate\"] = curve_df.apply(lambda x: -np.log(getattr(x, \"Discount Factor\"))/getattr(x, \"Cumulative Year Fraction\"), axis=1)\n",
    "display(curve_df)\n",
    "\n",
    "# Plot curves\n",
    "curve_df.plot.line(y=[\"Discount Rate\", \"Forward Rate\"])\n",
    "plt.title('Interest Rate Curves')\n",
    "plt.ylabel('Rate')\n",
    "plt.grid()\n",
    "plt.show()"
   ],
   "metadata": {
    "collapsed": false,
    "pycharm": {
     "name": "#%%\n"
    }
   }
  },
  {
   "cell_type": "markdown",
   "source": [
    "### 2.4 Valuation\n",
    "\n",
    "Below we prepare a request to the valuation engine in order to get results such as:\n",
    "- NPV\n",
    "- Accrued Interest\n",
    "- Exposure/Notional\n",
    "\n",
    "Notice that what is returned as part of the call depends on a set of `metrics` given in the request, which is an array of address keys for what is to be evaluated. A full list of address keys can be found under [_GetQueryableKeys_](https://www.lusid.com/docs/api#operation/GetQueryableKeys) endpoint.\n"
   ],
   "metadata": {
    "collapsed": false,
    "pycharm": {
     "name": "#%% md\n"
    }
   }
  },
  {
   "cell_type": "code",
   "execution_count": 21,
   "outputs": [],
   "source": [
    "# Method to query daily valuations\n",
    "def get_daily_valuation(date, portfolio_scope, portfolio_code, recipe_scope, recipe_code, metrics, group_by=[\"Instrument/default/Name\"]):\n",
    "\n",
    "    valuation_request = lm.ValuationRequest(\n",
    "        recipe_id=lm.ResourceId(scope=recipe_scope, code=recipe_code),\n",
    "        metrics=metrics,\n",
    "        group_by=group_by,\n",
    "        portfolio_entity_ids=[\n",
    "            lm.PortfolioEntityId(scope=portfolio_scope, code=portfolio_code)\n",
    "        ],\n",
    "        valuation_schedule=lm.ValuationSchedule(effective_at=date),\n",
    "    )\n",
    "\n",
    "    val_data = aggregation_api.get_valuation(valuation_request=valuation_request).data\n",
    "\n",
    "    vals_df = pd.DataFrame(val_data)\n",
    "\n",
    "    return vals_df\n"
   ],
   "metadata": {
    "collapsed": false,
    "pycharm": {
     "name": "#%%\n"
    }
   }
  },
  {
   "cell_type": "markdown",
   "source": [
    "As we can see the NPV is negative, which is inline with the previously seen cash flow chart. Notice that the net flows are largely negative, which suggests the overall NPV of the payer leg to be higher to respect to the receiver leg."
   ],
   "metadata": {
    "collapsed": false,
    "pycharm": {
     "name": "#%% md\n"
    }
   }
  },
  {
   "cell_type": "code",
   "execution_count": 22,
   "outputs": [
    {
     "data": {
      "text/plain": "  Instrument/default/Name Instrument/default/ClientInternal  \\\n0          EUROIS.REC.10Y                   EUR-OIS-SWAP001   \n\n   Valuation/PvInPortfolioCcy  Valuation/Accrued  \\\n0                -78,846.8596        86,047.8734   \n\n   Valuation/ExposureInPortfolioCcy  Holding/default/Units  \n0                   10,000,000.0000        10,000,000.0000  ",
      "text/html": "<div>\n<style scoped>\n    .dataframe tbody tr th:only-of-type {\n        vertical-align: middle;\n    }\n\n    .dataframe tbody tr th {\n        vertical-align: top;\n    }\n\n    .dataframe thead th {\n        text-align: right;\n    }\n</style>\n<table border=\"1\" class=\"dataframe\">\n  <thead>\n    <tr style=\"text-align: right;\">\n      <th></th>\n      <th>Instrument/default/Name</th>\n      <th>Instrument/default/ClientInternal</th>\n      <th>Valuation/PvInPortfolioCcy</th>\n      <th>Valuation/Accrued</th>\n      <th>Valuation/ExposureInPortfolioCcy</th>\n      <th>Holding/default/Units</th>\n    </tr>\n  </thead>\n  <tbody>\n    <tr>\n      <th>0</th>\n      <td>EUROIS.REC.10Y</td>\n      <td>EUR-OIS-SWAP001</td>\n      <td>-78,846.8596</td>\n      <td>86,047.8734</td>\n      <td>10,000,000.0000</td>\n      <td>10,000,000.0000</td>\n    </tr>\n  </tbody>\n</table>\n</div>"
     },
     "execution_count": 22,
     "metadata": {},
     "output_type": "execute_result"
    }
   ],
   "source": [
    "# Set the queryable metrics and operation to be applied on the group_by level\n",
    "metrics = [\n",
    "    lm.AggregateSpec(\"Instrument/default/Name\", \"Value\"),\n",
    "    lm.AggregateSpec(\"Instrument/default/ClientInternal\", \"Value\"),\n",
    "    lm.AggregateSpec(\"Valuation/PvInPortfolioCcy\", \"Value\"),\n",
    "    lm.AggregateSpec(\"Valuation/Accrued\", \"Value\"),\n",
    "    lm.AggregateSpec(\"Valuation/ExposureInPortfolioCcy\", \"Value\"),\n",
    "    lm.AggregateSpec(\"Holding/default/Units\", \"Value\"),\n",
    "        ]\n",
    "\n",
    "df = get_daily_valuation(\n",
    "    date=effective_at,\n",
    "    portfolio_scope=portfolio_scope,\n",
    "    portfolio_code=portfolio_code,\n",
    "    recipe_scope=market_data_scope,\n",
    "    recipe_code=recipe_code,\n",
    "    metrics=metrics\n",
    ")\n",
    "df"
   ],
   "metadata": {
    "collapsed": false,
    "pycharm": {
     "name": "#%%\n"
    }
   }
  },
  {
   "cell_type": "markdown",
   "source": [
    "### 2.5 Cash Flow Overrides\n",
    "\n",
    "In addition to running validations through the internal pricer, LUSID is also capable of storing data coming in from external systems. All valuations relating to the swap can be ingested externally and stored giving users a rigid data model accessible via API.\n",
    "\n",
    "In the example below we are going to override the cash flows of the swap based on some external figures. We will then see that we can adjust the recipe used in retrieving the cash flows to use these overrides.\n",
    "\n",
    "Using the new recipe would allow a user to query portfolio cash flow projections for a book of derivatives using external projections rather than the LUSID ones seen before."
   ],
   "metadata": {
    "collapsed": false,
    "pycharm": {
     "name": "#%% md\n"
    }
   }
  },
  {
   "cell_type": "code",
   "execution_count": 23,
   "outputs": [
    {
     "data": {
      "text/plain": "                      Dates  Receive           Pay\n0 2022-07-29 00:00:00+00:00   100000   25,000.0000\n1 2023-01-31 00:00:00+00:00   100000   25,000.0000\n2 2023-07-31 00:00:00+00:00   100000 -100,100.0000\n3 2024-01-31 00:00:00+00:00   100000 -100,200.1000\n4 2024-07-31 00:00:00+00:00   100000 -100,300.3001\n5 2025-01-31 00:00:00+00:00   100000 -100,400.6004\n6 2025-07-31 00:00:00+00:00   100000 -100,501.0010\n7 2026-01-30 00:00:00+00:00   100000 -100,601.5020\n8 2026-07-31 00:00:00+00:00   100000 -100,702.1035\n9 2027-01-29 00:00:00+00:00   100000 -100,802.8056",
      "text/html": "<div>\n<style scoped>\n    .dataframe tbody tr th:only-of-type {\n        vertical-align: middle;\n    }\n\n    .dataframe tbody tr th {\n        vertical-align: top;\n    }\n\n    .dataframe thead th {\n        text-align: right;\n    }\n</style>\n<table border=\"1\" class=\"dataframe\">\n  <thead>\n    <tr style=\"text-align: right;\">\n      <th></th>\n      <th>Dates</th>\n      <th>Receive</th>\n      <th>Pay</th>\n    </tr>\n  </thead>\n  <tbody>\n    <tr>\n      <th>0</th>\n      <td>2022-07-29 00:00:00+00:00</td>\n      <td>100000</td>\n      <td>25,000.0000</td>\n    </tr>\n    <tr>\n      <th>1</th>\n      <td>2023-01-31 00:00:00+00:00</td>\n      <td>100000</td>\n      <td>25,000.0000</td>\n    </tr>\n    <tr>\n      <th>2</th>\n      <td>2023-07-31 00:00:00+00:00</td>\n      <td>100000</td>\n      <td>-100,100.0000</td>\n    </tr>\n    <tr>\n      <th>3</th>\n      <td>2024-01-31 00:00:00+00:00</td>\n      <td>100000</td>\n      <td>-100,200.1000</td>\n    </tr>\n    <tr>\n      <th>4</th>\n      <td>2024-07-31 00:00:00+00:00</td>\n      <td>100000</td>\n      <td>-100,300.3001</td>\n    </tr>\n    <tr>\n      <th>5</th>\n      <td>2025-01-31 00:00:00+00:00</td>\n      <td>100000</td>\n      <td>-100,400.6004</td>\n    </tr>\n    <tr>\n      <th>6</th>\n      <td>2025-07-31 00:00:00+00:00</td>\n      <td>100000</td>\n      <td>-100,501.0010</td>\n    </tr>\n    <tr>\n      <th>7</th>\n      <td>2026-01-30 00:00:00+00:00</td>\n      <td>100000</td>\n      <td>-100,601.5020</td>\n    </tr>\n    <tr>\n      <th>8</th>\n      <td>2026-07-31 00:00:00+00:00</td>\n      <td>100000</td>\n      <td>-100,702.1035</td>\n    </tr>\n    <tr>\n      <th>9</th>\n      <td>2027-01-29 00:00:00+00:00</td>\n      <td>100000</td>\n      <td>-100,802.8056</td>\n    </tr>\n  </tbody>\n</table>\n</div>"
     },
     "execution_count": 23,
     "metadata": {},
     "output_type": "execute_result"
    }
   ],
   "source": [
    "# Read external cash flow data\n",
    "external_cash_flows = pd.read_csv(\"data/external_instrument_cash_flows.csv\")\n",
    "external_cash_flows[\"Dates\"] = pd.to_datetime(external_cash_flows[\"Dates\"])\n",
    "df_add_utc(external_cash_flows)\n",
    "external_cash_flows.head(10)"
   ],
   "metadata": {
    "collapsed": false,
    "pycharm": {
     "name": "#%%\n"
    }
   }
  },
  {
   "cell_type": "markdown",
   "source": [
    "Use the _StructuredResultDataApi_ to store the cash flows in LUSID. This will involve creating a _CashFlowValueSet_, as well as a structured result data ID which we will refer back to in the configuration recipe.\n",
    "\n",
    "Notice that the cash flow overrides need to be unitized to the instrument's notional. We will therefore divide all document values by the instrument notional below prior to upserting."
   ],
   "metadata": {
    "collapsed": false,
    "pycharm": {
     "name": "#%% md\n"
    }
   }
  },
  {
   "cell_type": "code",
   "execution_count": 24,
   "outputs": [
    {
     "name": "stdout",
     "output_type": "stream",
     "text": [
      "Cash Flow set has successfully been loaded into LUSID\n"
     ]
    }
   ],
   "source": [
    "document_scope = \"CashOverride\"\n",
    "document_code =\"EurOisIrs\"\n",
    "\n",
    "# Persist pay amounts\n",
    "pay_leg_flows = [\n",
    "    lm.CashFlowValue(\n",
    "        result_value_type=\"CashFlowValue\",\n",
    "        payment_amount=row[\"Pay\"]/notional * -1, # Unitize amount\n",
    "        payment_date=row[\"Dates\"],\n",
    "        payment_ccy=instrument_ccy,\n",
    "        cash_flow_lineage= lm.CashFlowLineage(\n",
    "            cash_flow_type=\"Coupon\",\n",
    "            pay_receive=\"Pay\"\n",
    "        )\n",
    "    ) for i, row in external_cash_flows.iterrows()\n",
    "    ]\n",
    "\n",
    "\n",
    "# Persist receive amounts\n",
    "rec_leg_flows = [\n",
    "    lm.CashFlowValue(\n",
    "        result_value_type=\"CashFlowValue\",\n",
    "        payment_amount=row[\"Receive\"]/notional, # Unitize amount\n",
    "        payment_date=row[\"Dates\"],\n",
    "        payment_ccy=instrument_ccy,\n",
    "        cash_flow_lineage= lm.CashFlowLineage(\n",
    "            cash_flow_type=\"Coupon\",\n",
    "            pay_receive=\"Receive\"\n",
    "        )\n",
    "    ) for i, row in external_cash_flows.iterrows()\n",
    "    ]\n",
    "\n",
    "# Create external cash flow set from pays and receives\n",
    "external_cash_flow_set = lm.CashFlowValueSet(\n",
    "    cashflows=pay_leg_flows + rec_leg_flows,\n",
    "    result_value_type=\"CashFlowValueSet\"\n",
    ")\n",
    "\n",
    "# Create a structured document ID\n",
    "struct_result_data_id = lm.StructuredResultDataId(\n",
    "    source = 'Client',\n",
    "    code=document_code,\n",
    "    effective_at= effective_at,\n",
    "    result_type = \"UnitResult/Analytic\")\n",
    "\n",
    "upsert_result_values_data_request = lm.UpsertResultValuesDataRequest(\n",
    "    document_id=struct_result_data_id,\n",
    "    key={\n",
    "        f\"UnitResult/LusidInstrumentId\":f\"{luid}\" #Instrument to which document resolves\n",
    "    },\n",
    "    data_address=\"UnitResult/Valuation/Cashflows\",  #Valuation result to override\n",
    "    result_value=external_cash_flow_set\n",
    "    )\n",
    "\n",
    "response = structured_result_data_api.upsert_result_value(\n",
    "    scope = document_scope,\n",
    "    request_body={\n",
    "        \"CashFlows\":upsert_result_values_data_request\n",
    "    }\n",
    ")\n",
    "\n",
    "if len(response.failed) == 0:\n",
    "    print(f\"Cash Flow set has successfully been loaded into LUSID\")\n",
    "else:\n",
    "    print(\"An error occurred with the above upsert_instruments call, see error message:\", response.failed)"
   ],
   "metadata": {
    "collapsed": false,
    "pycharm": {
     "name": "#%%\n"
    }
   }
  },
  {
   "cell_type": "code",
   "execution_count": 25,
   "outputs": [
    {
     "name": "stdout",
     "output_type": "stream",
     "text": [
      "Configuration recipe loaded into LUSID at time 2022-07-02 14:11:29.475014+00:00.\n"
     ]
    }
   ],
   "source": [
    "# Create new recipe scope for overrides and result data 'ResultDataKeyRule'\n",
    "custom_cash_recipe_scope = \"CashOverride\"\n",
    "result_data_rules=[\n",
    "            lm.ResultDataKeyRule(\n",
    "                result_key_rule_type='ResultDataKeyRule',\n",
    "                supplier= \"Client\",\n",
    "                data_scope = document_scope,\n",
    "                document_code = document_code,\n",
    "                resource_key= \"UnitResult/Valuation/Cashflows\",\n",
    "                document_result_type= \"UnitResult/Analytic\",\n",
    "                quote_interval= \"5D\"\n",
    "                )\n",
    "            ]\n",
    "\n",
    "# Add result_data_rules to configuration recipe and update scope\n",
    "configuration_recipe.pricing.result_data_rules = result_data_rules\n",
    "configuration_recipe.scope = custom_cash_recipe_scope\n",
    "\n",
    "# Upsert object under new scope\n",
    "response = configuration_recipe_api.upsert_configuration_recipe(\n",
    "    upsert_recipe_request=lm.UpsertRecipeRequest(\n",
    "        configuration_recipe=configuration_recipe\n",
    "    )\n",
    ")\n",
    "\n",
    "print(f\"Configuration recipe loaded into LUSID at time {response.value}.\")"
   ],
   "metadata": {
    "collapsed": false,
    "pycharm": {
     "name": "#%%\n"
    }
   }
  },
  {
   "cell_type": "markdown",
   "source": [
    "With the cash flows stored in LUSID against the instrument, we can now see that querying the portfolio cash flows come back with the external data."
   ],
   "metadata": {
    "collapsed": false,
    "pycharm": {
     "name": "#%% md\n"
    }
   }
  },
  {
   "cell_type": "code",
   "execution_count": 26,
   "outputs": [
    {
     "data": {
      "text/plain": "                Receive           Pay          Net\n2022-07-29 100,000.0000   25,000.0000 125,000.0000\n2023-01-31 100,000.0000   25,000.0000 125,000.0000\n2023-07-31 100,000.0000 -100,100.0000    -100.0000\n2024-01-31 100,000.0000 -100,200.1000    -200.1000\n2024-07-31 100,000.0000 -100,300.3001    -300.3001\n2025-01-31 100,000.0000 -100,400.6004    -400.6004\n2025-07-31 100,000.0000 -100,501.0010    -501.0010\n2026-01-30 100,000.0000 -100,601.5020    -601.5020\n2026-07-31 100,000.0000 -100,702.1035    -702.1035\n2027-01-29 100,000.0000 -100,802.8056    -802.8056\n2027-07-30 100,000.0000 -100,903.6084    -903.6084\n2028-01-31 100,000.0000 -101,004.5120  -1,004.5120\n2028-07-31 100,000.0000 -101,105.5165  -1,105.5165\n2029-01-31 100,000.0000 -101,206.6220  -1,206.6220\n2029-07-31 100,000.0000 -101,307.8287  -1,307.8287\n2030-01-31 100,000.0000 -101,409.1365  -1,409.1365\n2030-07-31 100,000.0000 -101,510.5456  -1,510.5456\n2031-01-31 100,000.0000 -101,612.0562  -1,612.0562\n2031-07-31 100,000.0000 -101,713.6682  -1,713.6682\n2032-01-30 100,000.0000 -101,815.3819  -1,815.3819",
      "text/html": "<div>\n<style scoped>\n    .dataframe tbody tr th:only-of-type {\n        vertical-align: middle;\n    }\n\n    .dataframe tbody tr th {\n        vertical-align: top;\n    }\n\n    .dataframe thead th {\n        text-align: right;\n    }\n</style>\n<table border=\"1\" class=\"dataframe\">\n  <thead>\n    <tr style=\"text-align: right;\">\n      <th></th>\n      <th>Receive</th>\n      <th>Pay</th>\n      <th>Net</th>\n    </tr>\n  </thead>\n  <tbody>\n    <tr>\n      <th>2022-07-29</th>\n      <td>100,000.0000</td>\n      <td>25,000.0000</td>\n      <td>125,000.0000</td>\n    </tr>\n    <tr>\n      <th>2023-01-31</th>\n      <td>100,000.0000</td>\n      <td>25,000.0000</td>\n      <td>125,000.0000</td>\n    </tr>\n    <tr>\n      <th>2023-07-31</th>\n      <td>100,000.0000</td>\n      <td>-100,100.0000</td>\n      <td>-100.0000</td>\n    </tr>\n    <tr>\n      <th>2024-01-31</th>\n      <td>100,000.0000</td>\n      <td>-100,200.1000</td>\n      <td>-200.1000</td>\n    </tr>\n    <tr>\n      <th>2024-07-31</th>\n      <td>100,000.0000</td>\n      <td>-100,300.3001</td>\n      <td>-300.3001</td>\n    </tr>\n    <tr>\n      <th>2025-01-31</th>\n      <td>100,000.0000</td>\n      <td>-100,400.6004</td>\n      <td>-400.6004</td>\n    </tr>\n    <tr>\n      <th>2025-07-31</th>\n      <td>100,000.0000</td>\n      <td>-100,501.0010</td>\n      <td>-501.0010</td>\n    </tr>\n    <tr>\n      <th>2026-01-30</th>\n      <td>100,000.0000</td>\n      <td>-100,601.5020</td>\n      <td>-601.5020</td>\n    </tr>\n    <tr>\n      <th>2026-07-31</th>\n      <td>100,000.0000</td>\n      <td>-100,702.1035</td>\n      <td>-702.1035</td>\n    </tr>\n    <tr>\n      <th>2027-01-29</th>\n      <td>100,000.0000</td>\n      <td>-100,802.8056</td>\n      <td>-802.8056</td>\n    </tr>\n    <tr>\n      <th>2027-07-30</th>\n      <td>100,000.0000</td>\n      <td>-100,903.6084</td>\n      <td>-903.6084</td>\n    </tr>\n    <tr>\n      <th>2028-01-31</th>\n      <td>100,000.0000</td>\n      <td>-101,004.5120</td>\n      <td>-1,004.5120</td>\n    </tr>\n    <tr>\n      <th>2028-07-31</th>\n      <td>100,000.0000</td>\n      <td>-101,105.5165</td>\n      <td>-1,105.5165</td>\n    </tr>\n    <tr>\n      <th>2029-01-31</th>\n      <td>100,000.0000</td>\n      <td>-101,206.6220</td>\n      <td>-1,206.6220</td>\n    </tr>\n    <tr>\n      <th>2029-07-31</th>\n      <td>100,000.0000</td>\n      <td>-101,307.8287</td>\n      <td>-1,307.8287</td>\n    </tr>\n    <tr>\n      <th>2030-01-31</th>\n      <td>100,000.0000</td>\n      <td>-101,409.1365</td>\n      <td>-1,409.1365</td>\n    </tr>\n    <tr>\n      <th>2030-07-31</th>\n      <td>100,000.0000</td>\n      <td>-101,510.5456</td>\n      <td>-1,510.5456</td>\n    </tr>\n    <tr>\n      <th>2031-01-31</th>\n      <td>100,000.0000</td>\n      <td>-101,612.0562</td>\n      <td>-1,612.0562</td>\n    </tr>\n    <tr>\n      <th>2031-07-31</th>\n      <td>100,000.0000</td>\n      <td>-101,713.6682</td>\n      <td>-1,713.6682</td>\n    </tr>\n    <tr>\n      <th>2032-01-30</th>\n      <td>100,000.0000</td>\n      <td>-101,815.3819</td>\n      <td>-1,815.3819</td>\n    </tr>\n  </tbody>\n</table>\n</div>"
     },
     "metadata": {},
     "output_type": "display_data"
    }
   ],
   "source": [
    "# Request portfolio cash flows\n",
    "external_portfolio_cash_flows = transaction_portfolios_api.get_portfolio_cash_flows(\n",
    "    scope=portfolio_scope,\n",
    "    code=portfolio_code,\n",
    "    effective_at=effective_at,\n",
    "    window_start=effective_at,\n",
    "    window_end=end_date,\n",
    "    recipe_id_scope=custom_cash_recipe_scope,\n",
    "    recipe_id_code=recipe_code\n",
    ")\n",
    "\n",
    "cash_flows = format_cash_flows_to_df(external_portfolio_cash_flows)\n",
    "display(cash_flows)"
   ],
   "metadata": {
    "collapsed": false,
    "pycharm": {
     "name": "#%%\n"
    }
   }
  },
  {
   "cell_type": "markdown",
   "source": [
    "## 3. Instrument Life Cycle\n",
    "### 3.1 Cash Handling on Payment Date\n",
    "\n",
    "LUSID can handle instrument life cycle events in the form of transactions that alter the current position against the instrument. A user has the option to either ingest these events from an external system as part of their regular transaction and corporate action processing.\n",
    "\n",
    "However, for many instrument's where the system has knowledge of upcoming events, it can be used directly to synthesize these. For example, the upcoming cash flows for an IRS are known in LUSID, so we can make an API call to _GetUpsertablePortfolioCashFlows_ which will return a transaction object ready to be upserted.\n",
    "\n",
    "Below we will request the upsertable portfolio cash flows for the upcoming 100 days."
   ],
   "metadata": {
    "collapsed": false,
    "pycharm": {
     "name": "#%% md\n"
    }
   }
  },
  {
   "cell_type": "code",
   "execution_count": 27,
   "outputs": [
    {
     "data": {
      "text/plain": "                                     transaction_id      type  \\\n0  TXN001-LUID_00003DGA-20220729-Coupon-EUR-Receive  CashFlow   \n1      TXN001-LUID_00003DGA-20220729-Coupon-EUR-Pay  CashFlow   \n\n  instrument_identifiers instrument_scope instrument_uid  \\\n0                     {}   EurOisNotebook  LUID_00003DGA   \n1                     {}   EurOisNotebook  LUID_00003DGA   \n\n           transaction_date           settlement_date       units  \\\n0 2022-07-29 00:00:00+00:00 2022-07-29 00:00:00+00:00 93,888.8889   \n1 2022-07-29 00:00:00+00:00 2022-07-29 00:00:00+00:00 23,316.4492   \n\n   transaction_price.price transaction_price.type  total_consideration.amount  \\\n0                   1.0000                  Price                 93,888.8889   \n1                   1.0000                  Price                 23,316.4492   \n\n  total_consideration.currency  exchange_rate transaction_currency properties  \\\n0                          EUR         1.0000                  EUR         {}   \n1                          EUR         1.0000                  EUR         {}   \n\n    source            entry_date_time transaction_status  \n0  default  0001-01-01 00:00:00+00:00             Active  \n1  default  0001-01-01 00:00:00+00:00             Active  ",
      "text/html": "<div>\n<style scoped>\n    .dataframe tbody tr th:only-of-type {\n        vertical-align: middle;\n    }\n\n    .dataframe tbody tr th {\n        vertical-align: top;\n    }\n\n    .dataframe thead th {\n        text-align: right;\n    }\n</style>\n<table border=\"1\" class=\"dataframe\">\n  <thead>\n    <tr style=\"text-align: right;\">\n      <th></th>\n      <th>transaction_id</th>\n      <th>type</th>\n      <th>instrument_identifiers</th>\n      <th>instrument_scope</th>\n      <th>instrument_uid</th>\n      <th>transaction_date</th>\n      <th>settlement_date</th>\n      <th>units</th>\n      <th>transaction_price.price</th>\n      <th>transaction_price.type</th>\n      <th>total_consideration.amount</th>\n      <th>total_consideration.currency</th>\n      <th>exchange_rate</th>\n      <th>transaction_currency</th>\n      <th>properties</th>\n      <th>source</th>\n      <th>entry_date_time</th>\n      <th>transaction_status</th>\n    </tr>\n  </thead>\n  <tbody>\n    <tr>\n      <th>0</th>\n      <td>TXN001-LUID_00003DGA-20220729-Coupon-EUR-Receive</td>\n      <td>CashFlow</td>\n      <td>{}</td>\n      <td>EurOisNotebook</td>\n      <td>LUID_00003DGA</td>\n      <td>2022-07-29 00:00:00+00:00</td>\n      <td>2022-07-29 00:00:00+00:00</td>\n      <td>93,888.8889</td>\n      <td>1.0000</td>\n      <td>Price</td>\n      <td>93,888.8889</td>\n      <td>EUR</td>\n      <td>1.0000</td>\n      <td>EUR</td>\n      <td>{}</td>\n      <td>default</td>\n      <td>0001-01-01 00:00:00+00:00</td>\n      <td>Active</td>\n    </tr>\n    <tr>\n      <th>1</th>\n      <td>TXN001-LUID_00003DGA-20220729-Coupon-EUR-Pay</td>\n      <td>CashFlow</td>\n      <td>{}</td>\n      <td>EurOisNotebook</td>\n      <td>LUID_00003DGA</td>\n      <td>2022-07-29 00:00:00+00:00</td>\n      <td>2022-07-29 00:00:00+00:00</td>\n      <td>23,316.4492</td>\n      <td>1.0000</td>\n      <td>Price</td>\n      <td>23,316.4492</td>\n      <td>EUR</td>\n      <td>1.0000</td>\n      <td>EUR</td>\n      <td>{}</td>\n      <td>default</td>\n      <td>0001-01-01 00:00:00+00:00</td>\n      <td>Active</td>\n    </tr>\n  </tbody>\n</table>\n</div>"
     },
     "execution_count": 27,
     "metadata": {},
     "output_type": "execute_result"
    }
   ],
   "source": [
    "# Set the life cycle end date from our original effective date\n",
    "life_cycle_end_date = effective_at + timedelta(days=100)\n",
    "\n",
    "upsertable_cash_flows = transaction_portfolios_api.get_upsertable_portfolio_cash_flows(\n",
    "    scope=portfolio_scope,\n",
    "    code=portfolio_code,\n",
    "    effective_at=effective_at,\n",
    "    window_start=effective_at,\n",
    "    window_end=life_cycle_end_date,\n",
    "    recipe_id_scope=market_data_scope,\n",
    "    recipe_id_code=recipe_code\n",
    ")\n",
    "\n",
    "lusid_response_to_data_frame(upsertable_cash_flows)"
   ],
   "metadata": {
    "collapsed": false,
    "pycharm": {
     "name": "#%%\n"
    }
   }
  },
  {
   "cell_type": "code",
   "execution_count": 28,
   "outputs": [
    {
     "name": "stdout",
     "output_type": "stream",
     "text": [
      "Transaction updated for effective time: 2010-01-01 00:00:00+00:00.\n"
     ]
    }
   ],
   "source": [
    "for element in upsertable_cash_flows.values:\n",
    "    element.instrument_identifiers = {\"Instrument/default/Currency\": \"EUR\"}\n",
    "\n",
    "# Upsert the transactions\n",
    "response = transaction_portfolios_api.upsert_transactions(\n",
    "    scope=portfolio_scope, code=portfolio_code, transaction_request=upsertable_cash_flows.values\n",
    ")\n",
    "\n",
    "print(f\"Transaction updated for effective time: {response.version.effective_from}.\")"
   ],
   "metadata": {
    "collapsed": false,
    "pycharm": {
     "name": "#%%\n"
    }
   }
  },
  {
   "cell_type": "markdown",
   "source": [
    "We can now check the portfolio for its holdings post the payment event, where we notice that the net amount of cash for the payment period has settled."
   ],
   "metadata": {
    "collapsed": false,
    "pycharm": {
     "name": "#%% md\n"
    }
   }
  },
  {
   "cell_type": "code",
   "execution_count": 32,
   "outputs": [
    {
     "data": {
      "text/plain": "  instrument_scope instrument_uid sub_holding_keys  \\\n0   EurOisNotebook  LUID_00003DGA               {}   \n1          default        CCY_EUR               {}   \n\n  properties.Holding/default/SourcePortfolioId.key  \\\n0                Holding/default/SourcePortfolioId   \n1                Holding/default/SourcePortfolioId   \n\n  properties.Holding/default/SourcePortfolioId.value.label_value  \\\n0                                 EUROIS-IRS-Example               \n1                                 EUROIS-IRS-Example               \n\n  properties.Holding/default/SourcePortfolioId.effective_from  \\\n0                          0001-01-01 00:00:00+00:00            \n1                          0001-01-01 00:00:00+00:00            \n\n  properties.Holding/default/SourcePortfolioScope.key  \\\n0               Holding/default/SourcePortfolioScope    \n1               Holding/default/SourcePortfolioScope    \n\n  properties.Holding/default/SourcePortfolioScope.value.label_value  \\\n0                                 Finbourne-Examples                  \n1                                 Finbourne-Examples                  \n\n  properties.Holding/default/SourcePortfolioScope.effective_from holding_type  \\\n0                          0001-01-01 00:00:00+00:00                        P   \n1                          0001-01-01 00:00:00+00:00                        B   \n\n            units   settled_units     cost.amount cost.currency  \\\n0 10,000,000.0000 10,000,000.0000 10,000,000.0000           EUR   \n1    117,205.3389    117,205.3389    117,205.3400           EUR   \n\n   cost_portfolio_ccy.amount cost_portfolio_ccy.currency currency  \n0            10,000,000.0000                         EUR      EUR  \n1               117,205.3400                         EUR      EUR  ",
      "text/html": "<div>\n<style scoped>\n    .dataframe tbody tr th:only-of-type {\n        vertical-align: middle;\n    }\n\n    .dataframe tbody tr th {\n        vertical-align: top;\n    }\n\n    .dataframe thead th {\n        text-align: right;\n    }\n</style>\n<table border=\"1\" class=\"dataframe\">\n  <thead>\n    <tr style=\"text-align: right;\">\n      <th></th>\n      <th>instrument_scope</th>\n      <th>instrument_uid</th>\n      <th>sub_holding_keys</th>\n      <th>properties.Holding/default/SourcePortfolioId.key</th>\n      <th>properties.Holding/default/SourcePortfolioId.value.label_value</th>\n      <th>properties.Holding/default/SourcePortfolioId.effective_from</th>\n      <th>properties.Holding/default/SourcePortfolioScope.key</th>\n      <th>properties.Holding/default/SourcePortfolioScope.value.label_value</th>\n      <th>properties.Holding/default/SourcePortfolioScope.effective_from</th>\n      <th>holding_type</th>\n      <th>units</th>\n      <th>settled_units</th>\n      <th>cost.amount</th>\n      <th>cost.currency</th>\n      <th>cost_portfolio_ccy.amount</th>\n      <th>cost_portfolio_ccy.currency</th>\n      <th>currency</th>\n    </tr>\n  </thead>\n  <tbody>\n    <tr>\n      <th>0</th>\n      <td>EurOisNotebook</td>\n      <td>LUID_00003DGA</td>\n      <td>{}</td>\n      <td>Holding/default/SourcePortfolioId</td>\n      <td>EUROIS-IRS-Example</td>\n      <td>0001-01-01 00:00:00+00:00</td>\n      <td>Holding/default/SourcePortfolioScope</td>\n      <td>Finbourne-Examples</td>\n      <td>0001-01-01 00:00:00+00:00</td>\n      <td>P</td>\n      <td>10,000,000.0000</td>\n      <td>10,000,000.0000</td>\n      <td>10,000,000.0000</td>\n      <td>EUR</td>\n      <td>10,000,000.0000</td>\n      <td>EUR</td>\n      <td>EUR</td>\n    </tr>\n    <tr>\n      <th>1</th>\n      <td>default</td>\n      <td>CCY_EUR</td>\n      <td>{}</td>\n      <td>Holding/default/SourcePortfolioId</td>\n      <td>EUROIS-IRS-Example</td>\n      <td>0001-01-01 00:00:00+00:00</td>\n      <td>Holding/default/SourcePortfolioScope</td>\n      <td>Finbourne-Examples</td>\n      <td>0001-01-01 00:00:00+00:00</td>\n      <td>B</td>\n      <td>117,205.3389</td>\n      <td>117,205.3389</td>\n      <td>117,205.3400</td>\n      <td>EUR</td>\n      <td>117,205.3400</td>\n      <td>EUR</td>\n      <td>EUR</td>\n    </tr>\n  </tbody>\n</table>\n</div>"
     },
     "execution_count": 32,
     "metadata": {},
     "output_type": "execute_result"
    }
   ],
   "source": [
    "# Check holdings post life cycle event\n",
    "holdings = transaction_portfolios_api.get_holdings(\n",
    "    scope=portfolio_scope,\n",
    "    code=portfolio_code,\n",
    "    effective_at=life_cycle_end_date\n",
    " )\n",
    "\n",
    "lusid_response_to_data_frame(holdings)"
   ],
   "metadata": {
    "collapsed": false,
    "pycharm": {
     "name": "#%%\n"
    }
   }
  },
  {
   "cell_type": "markdown",
   "source": [
    "## 4. P&L Reporting\n",
    "### 4.1 A2B Report for P&L\n",
    "\n",
    "Next we are going to run a LUSID A2B report on the portfolio, which will break down the P&L of the position for a given window."
   ],
   "metadata": {
    "collapsed": false,
    "pycharm": {
     "name": "#%% md\n"
    }
   }
  },
  {
   "cell_type": "code",
   "execution_count": 31,
   "outputs": [
    {
     "data": {
      "text/plain": "             Name      Start/Cost  Start/Market Gain  Start/Total  \\\n0  EUROIS.REC.10Y 10,000,000.0000   -10,164,894.7300 -78,846.8600   \n\n   Gains/Delta Market Gain  Gains/Total        End/Cost  End/Market Gain  \\\n0              -2,172.5200  -2,172.5200 10,000,000.0000 -10,167,067.2500   \n\n     End/Total  \n0 -78,870.3100  ",
      "text/html": "<div>\n<style scoped>\n    .dataframe tbody tr th:only-of-type {\n        vertical-align: middle;\n    }\n\n    .dataframe tbody tr th {\n        vertical-align: top;\n    }\n\n    .dataframe thead th {\n        text-align: right;\n    }\n</style>\n<table border=\"1\" class=\"dataframe\">\n  <thead>\n    <tr style=\"text-align: right;\">\n      <th></th>\n      <th>Name</th>\n      <th>Start/Cost</th>\n      <th>Start/Market Gain</th>\n      <th>Start/Total</th>\n      <th>Gains/Delta Market Gain</th>\n      <th>Gains/Total</th>\n      <th>End/Cost</th>\n      <th>End/Market Gain</th>\n      <th>End/Total</th>\n    </tr>\n  </thead>\n  <tbody>\n    <tr>\n      <th>0</th>\n      <td>EUROIS.REC.10Y</td>\n      <td>10,000,000.0000</td>\n      <td>-10,164,894.7300</td>\n      <td>-78,846.8600</td>\n      <td>-2,172.5200</td>\n      <td>-2,172.5200</td>\n      <td>10,000,000.0000</td>\n      <td>-10,167,067.2500</td>\n      <td>-78,870.3100</td>\n    </tr>\n  </tbody>\n</table>\n</div>"
     },
     "execution_count": 31,
     "metadata": {},
     "output_type": "execute_result"
    }
   ],
   "source": [
    "# Helper function for displaying A2B Report\n",
    "def format_a2b_df(response):\n",
    "    a2b_df = lusid_response_to_data_frame(response, rename_properties=True)\n",
    "\n",
    "    # Reduce column properties\n",
    "    exclude = [\"instrument_uid\", \"sub_holding_keys\",\"currency\",\"group_id\", \"portfolio_id.scope\",\"portfolio_id.code\", \"holding_type\", \"instrument_scope\", \"end.portfolio_currency.components\"]\n",
    "\n",
    "    # Drop results in holding currency and results that indicate currency of the activity; we know that everything is in EUR in this example\n",
    "    cols_to_drop = [col for col in a2b_df.columns for exclusion in exclude if (exclusion == col) or (\"holding_currency\" in col) or (\"currency.currency\" in col)]\n",
    "\n",
    "    result = a2b_df.drop(columns=cols_to_drop)\n",
    "\n",
    "    columns_to_rename = {\n",
    "        \"Name(default-Properties)\": \"Name\",\n",
    "        \"start.portfolio_currency.components.Cost\": \"Start/Cost\",\n",
    "        \"start.portfolio_currency.components.MarketGain\": \"Start/Market Gain\",\n",
    "        \"start.portfolio_currency.total\": \"Start/Total\",\n",
    "        \"gains.portfolio_currency.components.DeltaMarketGain\": \"Gains/Delta Market Gain\",\n",
    "        \"gains.portfolio_currency.total\": \"Gains/Total\",\n",
    "        \"end.portfolio_currency.components.Cost\": \"End/Cost\",\n",
    "        \"end.portfolio_currency.components.MarketGain\": \"End/Market Gain\",\n",
    "        \"end.portfolio_currency.total\": \"End/Total\",\n",
    "    }\n",
    "    result=result[columns_to_rename.keys()]\n",
    "    result.rename(columns=columns_to_rename, inplace=True)\n",
    "    return result\n",
    "\n",
    "# Request A2B report\n",
    "a2b = transaction_portfolios_api.get_a2_b_data(\n",
    "    scope=portfolio_scope,\n",
    "    code=portfolio_code,\n",
    "    from_effective_at=effective_at,\n",
    "    to_effective_at=effective_at + timedelta(days=3),\n",
    "    recipe_id_scope=market_data_scope,\n",
    "    recipe_id_code=recipe_code,\n",
    "    property_keys=[\"Instrument/default/Name\"]\n",
    ")\n",
    "\n",
    "format_a2b_df(a2b)\n"
   ],
   "metadata": {
    "collapsed": false,
    "pycharm": {
     "name": "#%%\n"
    }
   }
  }
 ],
 "metadata": {
  "kernelspec": {
   "display_name": "Python 3",
   "language": "python",
   "name": "python3"
  },
  "language_info": {
   "codemirror_mode": {
    "name": "ipython",
    "version": 3
   },
   "file_extension": ".py",
   "mimetype": "text/x-python",
   "name": "python",
   "nbconvert_exporter": "python",
   "pygments_lexer": "ipython3",
   "version": "3.8.5"
  }
 },
 "nbformat": 4,
 "nbformat_minor": 4
}